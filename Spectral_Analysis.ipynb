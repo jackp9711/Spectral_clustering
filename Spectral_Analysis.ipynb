{
  "nbformat": 4,
  "nbformat_minor": 0,
  "metadata": {
    "colab": {
      "name": "Spectral_Analysis.ipynb",
      "provenance": []
    },
    "kernelspec": {
      "name": "python3",
      "display_name": "Python 3"
    }
  },
  "cells": [
    {
      "cell_type": "markdown",
      "metadata": {
        "id": "9RNvaanuAPqV",
        "colab_type": "text"
      },
      "source": [
        "# **Initialize data**"
      ]
    },
    {
      "cell_type": "code",
      "metadata": {
        "id": "ws1nKkbZ_67_",
        "colab_type": "code",
        "outputId": "765ae802-a53c-4354-8fef-918093fca31e",
        "colab": {
          "base_uri": "https://localhost:8080/",
          "height": 168
        }
      },
      "source": [
        "import tensorflow as tf\n",
        "import numpy as np\n",
        "import networkx as nx\n",
        "import math\n",
        "\n",
        "from google.colab import drive\n",
        "drive.mount('/content/drive', force_remount=True)"
      ],
      "execution_count": 0,
      "outputs": [
        {
          "output_type": "display_data",
          "data": {
            "text/html": [
              "<p style=\"color: red;\">\n",
              "The default version of TensorFlow in Colab will soon switch to TensorFlow 2.x.<br>\n",
              "We recommend you <a href=\"https://www.tensorflow.org/guide/migrate\" target=\"_blank\">upgrade</a> now \n",
              "or ensure your notebook will continue to use TensorFlow 1.x via the <code>%tensorflow_version 1.x</code> magic:\n",
              "<a href=\"https://colab.research.google.com/notebooks/tensorflow_version.ipynb\" target=\"_blank\">more info</a>.</p>\n"
            ],
            "text/plain": [
              "<IPython.core.display.HTML object>"
            ]
          },
          "metadata": {
            "tags": []
          }
        },
        {
          "output_type": "stream",
          "text": [
            "Go to this URL in a browser: https://accounts.google.com/o/oauth2/auth?client_id=947318989803-6bn6qk8qdgf4n4g3pfee6491hc0brc4i.apps.googleusercontent.com&redirect_uri=urn%3aietf%3awg%3aoauth%3a2.0%3aoob&response_type=code&scope=email%20https%3a%2f%2fwww.googleapis.com%2fauth%2fdocs.test%20https%3a%2f%2fwww.googleapis.com%2fauth%2fdrive%20https%3a%2f%2fwww.googleapis.com%2fauth%2fdrive.photos.readonly%20https%3a%2f%2fwww.googleapis.com%2fauth%2fpeopleapi.readonly\n",
            "\n",
            "Enter your authorization code:\n",
            "··········\n",
            "Mounted at /content/drive\n"
          ],
          "name": "stdout"
        }
      ]
    },
    {
      "cell_type": "code",
      "metadata": {
        "id": "Ep9eQBNWADRX",
        "colab_type": "code",
        "outputId": "7158cfd8-040e-4a91-886e-d4a139e77a63",
        "colab": {
          "base_uri": "https://localhost:8080/",
          "height": 34
        }
      },
      "source": [
        "import re\n",
        "lineFinder = re.compile('(\\d+\\s+\\d+.*\\n)')\n",
        "# Options com-youtube.ungraph.txt  ca-HepTh.txt roadNet-CA.txt\n",
        "with open('/content/drive/My Drive/CA-GrQc.txt', 'r') as f:\n",
        "   file = f.read()\n",
        "singleLines = list(map(lambda x: np.fromstring(x, dtype=int, sep=' '), lineFinder.findall(file)))\n",
        "G = nx.from_edgelist(np.column_stack(singleLines).T)\n",
        "G = nx.convert_node_labels_to_integers(G)\n",
        "print(G.size())"
      ],
      "execution_count": 0,
      "outputs": [
        {
          "output_type": "stream",
          "text": [
            "14496\n"
          ],
          "name": "stdout"
        }
      ]
    },
    {
      "cell_type": "markdown",
      "metadata": {
        "id": "Kx8kgey2AbbX",
        "colab_type": "text"
      },
      "source": [
        "# **Create Laplacian Matrices**"
      ]
    },
    {
      "cell_type": "code",
      "metadata": {
        "id": "pOkDuOF4AGJt",
        "colab_type": "code",
        "outputId": "27287514-b4eb-421a-d1e9-4b3d76e0c91c",
        "colab": {
          "base_uri": "https://localhost:8080/",
          "height": 68
        }
      },
      "source": [
        "from scipy.sparse import lil_matrix\n",
        "adjacency_matrix = lil_matrix((len(G.nodes()), len(G.nodes())))\n",
        "#diag_matrix = lil_matrix((len(G.nodes()), len(G.nodes())))\n",
        "normal_laplacian = lil_matrix((len(G.nodes()), len(G.nodes())))\n",
        "print(adjacency_matrix.shape)\n",
        "G = nx.convert_node_labels_to_integers(G)\n",
        "for edge in G.edges():\n",
        "  adjacency_matrix[edge[0],edge[0]] = 0\n",
        "  adjacency_matrix[edge[1],edge[1]] = 0\n",
        "for edge in G.edges():\n",
        "  adjacency_matrix[edge[0],edge[1]] = -1\n",
        "  adjacency_matrix[edge[1],edge[0]] = -1\n",
        "  adjacency_matrix[edge[0],edge[0]] += 1\n",
        "  adjacency_matrix[edge[1],edge[1]] += 1\n",
        "print(adjacency_matrix.getnnz())\n",
        "for edge in G.edges():\n",
        "  degree_v1 = adjacency_matrix[edge[0],edge[0]]\n",
        "  degree_v2 = adjacency_matrix[edge[1],edge[1]]\n",
        "  total_deg1 = -1/(math.sqrt(degree_v1*degree_v2))\n",
        "  normal_laplacian[edge[0],edge[1]] = total_deg1\n",
        "  normal_laplacian[edge[1],edge[0]] = total_deg1\n",
        "  normal_laplacian[edge[0],edge[0]] = 1.0\n",
        "  normal_laplacian[edge[1],edge[1]] = 1.0\n",
        "print(normal_laplacian.getnnz())"
      ],
      "execution_count": 0,
      "outputs": [
        {
          "output_type": "stream",
          "text": [
            "(5242, 5242)\n",
            "34210\n",
            "34210\n"
          ],
          "name": "stdout"
        }
      ]
    },
    {
      "cell_type": "markdown",
      "metadata": {
        "id": "Kw35iS-bAi2m",
        "colab_type": "text"
      },
      "source": [
        "# **Solve for Eigenvectors/values**"
      ]
    },
    {
      "cell_type": "code",
      "metadata": {
        "id": "PPzFvkE5AL_Y",
        "colab_type": "code",
        "outputId": "a2c3e8cc-8916-4961-c8ca-f57784cd49f7",
        "colab": {
          "base_uri": "https://localhost:8080/",
          "height": 85
        }
      },
      "source": [
        "from scipy.sparse.linalg import eigsh\n",
        "import time\n",
        "start_time = time.time()\n",
        "eigenvalues, eigenvectors = eigsh(normal_laplacian, k=75, which='SA')\n",
        "print(\"eigenvectors found\")\n",
        "print(time.time()-start_time)\n",
        "print(\"\\n\")\n"
      ],
      "execution_count": 0,
      "outputs": [
        {
          "output_type": "stream",
          "text": [
            "eigenvectors found\n",
            "174.23083209991455\n",
            "\n",
            "\n"
          ],
          "name": "stdout"
        }
      ]
    },
    {
      "cell_type": "code",
      "metadata": {
        "id": "e2vQmSip6X_j",
        "colab_type": "code",
        "outputId": "a09c8042-a739-4ed6-fafd-47358954d5a4",
        "colab": {
          "base_uri": "https://localhost:8080/",
          "height": 51
        }
      },
      "source": [
        "unrelaxed_eigenvectors =[]\n",
        "for i in range(len(eigenvectors)):\n",
        "  new_vec = []\n",
        "  for j in range(len(eigenvectors[0])):\n",
        "\n",
        "    if eigenvectors[i][j] > 0:\n",
        "      #new_vec.append(1)\n",
        "      new_vec.append(eigenvectors[i][j]**(1/7))\n",
        "    else:\n",
        "      #new_vec.append(-1)\n",
        "      new_vec.append(-(-eigenvectors[i][j])**(1/7))\n",
        "  unrelaxed_eigenvectors.append(new_vec)\n",
        "print(len(unrelaxed_eigenvectors))\n",
        "print(len(unrelaxed_eigenvectors[0]))"
      ],
      "execution_count": 0,
      "outputs": [
        {
          "output_type": "stream",
          "text": [
            "5242\n",
            "75\n"
          ],
          "name": "stdout"
        }
      ]
    },
    {
      "cell_type": "code",
      "metadata": {
        "id": "0ucD94yFonPh",
        "colab_type": "code",
        "outputId": "3e96bb89-32c3-4281-cd1a-dc3c547969dd",
        "colab": {
          "base_uri": "https://localhost:8080/",
          "height": 316
        }
      },
      "source": [
        "from matplotlib import pyplot as plt\n",
        "sorted_eigens = sorted(unrelaxed_eigenvectors, key= lambda x: x[1])\n",
        "t_unrelaxed_eigenvectors = np.array(sorted_eigens).T.tolist()\n",
        "print(len(t_unrelaxed_eigenvectors))\n",
        "print(len(t_unrelaxed_eigenvectors[0]))\n",
        "plt.scatter(range(len(t_unrelaxed_eigenvectors[0])),(t_unrelaxed_eigenvectors[1]))\n",
        "plt.scatter(range(len(t_unrelaxed_eigenvectors[0])),(t_unrelaxed_eigenvectors[25]))\n",
        "#plt.scatter(range(len(t_unrelaxed_eigenvectors[0])),(t_unrelaxed_eigenvectors[3]))\n",
        "#plt.scatter(range(len(t_unrelaxed_eigenvectors[0])),(t_unrelaxed_eigenvectors[4]))"
      ],
      "execution_count": 0,
      "outputs": [
        {
          "output_type": "stream",
          "text": [
            "75\n",
            "5242\n"
          ],
          "name": "stdout"
        },
        {
          "output_type": "execute_result",
          "data": {
            "text/plain": [
              "<matplotlib.collections.PathCollection at 0x7f7be67261d0>"
            ]
          },
          "metadata": {
            "tags": []
          },
          "execution_count": 6
        },
        {
          "output_type": "display_data",
          "data": {
            "image/png": "[encoded data removed]",
            "text/plain": [
              "<Figure size 432x288 with 1 Axes>"
            ]
          },
          "metadata": {
            "tags": []
          }
        }
      ]
    },
    {
      "cell_type": "code",
      "metadata": {
        "id": "6z0Zkox7ywrt",
        "colab_type": "code",
        "outputId": "3c6d5a08-7042-47e3-8cb9-5146db39bce8",
        "colab": {
          "base_uri": "https://localhost:8080/",
          "height": 1000
        }
      },
      "source": [
        "\n",
        "import networkx.algorithms.community as algos\n",
        "from sklearn.cluster import KMeans\n",
        "for i in range (1,2):\n",
        "  start_time = time.time()\n",
        "  best_communities_score =0\n",
        "  for j in range(2):\n",
        "    communities = sig_kmeans_test(G,75)\n",
        "    if mod_score(communities,G) > best_communities_score :\n",
        "      best_communities = communities\n",
        "      best_communities_score = mod_score(communities,G)\n",
        "  print(\"Modularity for k=\" + str(75))\n",
        "  print(mod_score(best_communities,G))\n",
        "  print(\"Time is\")\n",
        "  print(time.time()-start_time)\n",
        "lengths = []\n",
        "print(\"---------------\")\n",
        "print(communities)\n",
        "for community in communities:\n",
        "  lengths.append(len(community))\n",
        "  print(len(community))\n",
        "print(\"Std Deviation is\")\n",
        "print(np.std(lengths))\n",
        "# group1 = []\n",
        "# group2= []\n",
        "# for vec in range(len(eigenvectors)):\n",
        "#     if(eigenvectors[vec][0] >= 0):\n",
        "#       group1.append(vec)\n",
        "#     else:\n",
        "#       group2.append(vec)\n",
        "\n",
        "# print(len(group1))\n",
        "# print(len(group2))\n",
        "# print(algos.is_partition(G,[group1,group2]))\n",
        "# print(mod_score([group1,group2],G))"
      ],
      "execution_count": 0,
      "outputs": [
        {
          "output_type": "stream",
          "text": [
            "Modularity for k=75\n",
            "0.7999707362943083\n",
            "Time is\n",
            "7.919710874557495\n",
            "---------------\n",
            "[{0, 1, 1537, 3, 5, 6, 7, 8, 520, 2060, 3596, 5135, 20, 22, 23, 25, 538, 27, 28, 30, 31, 4128, 3105, 34, 35, 3107, 37, 38, 39, 3108, 4129, 4130, 43, 4131, 46, 47, 1070, 51, 52, 56, 1082, 59, 62, 63, 64, 65, 1601, 1090, 1600, 1093, 1094, 1602, 2111, 1097, 1099, 1100, 3155, 3156, 3157, 3667, 3668, 4184, 4712, 4713, 620, 633, 121, 4217, 4218, 4219, 4236, 4237, 1678, 1679, 1680, 657, 4238, 4239, 4240, 4241, 4245, 2218, 2219, 2220, 685, 2221, 2222, 2224, 2225, 2226, 2227, 2228, 4791, 3272, 2257, 2787, 740, 741, 742, 743, 2278, 2279, 746, 747, 750, 751, 753, 754, 755, 756, 1790, 1791, 1793, 1795, 1796, 1797, 1798, 3331, 3334, 2316, 2317, 2319, 2320, 4369, 1816, 1308, 1309, 1310, 1311, 4894, 4895, 4896, 2355, 3386, 830, 831, 832, 833, 834, 835, 836, 837, 838, 839, 1882, 1883, 4442, 4443, 2910, 4444, 1900, 2936, 2937, 2939, 4483, 4484, 3471, 3473, 2962, 3476, 3477, 2454, 1434, 1435, 1436, 1437, 1438, 1439, 1440, 1441, 2485, 2486, 2487, 2488, 1977, 2489, 2490, 1980, 1981, 1982, 3511, 3011, 2501, 3013, 4553, 4554, 3547, 3548, 3549, 3038, 3039, 3040, 3041, 3550, 3551, 3552, 4590, 4591, 504}, {1031, 2568, 1545, 1037, 1042, 1043, 1044, 1045, 1046, 1047, 1048, 4135, 4136, 4137, 4138, 4139, 4140, 3631, 3632, 3633, 3634, 3635, 3636, 3637, 54, 3638, 3639, 57, 58, 2623, 4674, 4675, 4676, 1095, 1098, 3153, 3154, 4179, 4180, 4181, 4182, 4183, 5004, 5005, 2170, 2171, 3205, 3206, 4746, 140, 656, 3218, 3219, 3220, 3221, 3222, 3223, 3224, 3225, 1178, 2207, 2208, 2209, 2217, 2730, 3242, 3243, 3244, 3245, 1199, 1200, 1201, 1202, 1203, 1204, 1205, 1206, 2737, 3248, 3249, 3250, 3251, 3252, 2758, 2759, 2256, 2258, 2780, 2781, 2782, 2271, 2272, 2783, 2784, 2785, 4320, 749, 4337, 1473, 4343, 4344, 4345, 4346, 4060, 4347, 4348, 1475, 1792, 3246, 1799, 1800, 3338, 3339, 3340, 3341, 3342, 4364, 4365, 4366, 4367, 4368, 3864, 3865, 3866, 1307, 3867, 4897, 4062, 816, 4063, 840, 3403, 3404, 3407, 4946, 4947, 4948, 4438, 1494, 1495, 1496, 1896, 1497, 4550, 3533, 369, 1498, 373, 1499, 1909, 3534, 3535, 1500, 4475, 3536, 1501, 3537, 3538, 3977, 3978, 3979, 3980, 3539, 3981, 3472, 3982, 3474, 3475, 3540, 3983, 3478, 3479, 3541, 5066, 5067, 2980, 2981, 2982, 2983, 3037, 1975, 1976, 1978, 1979, 1470, 449, 450, 451, 452, 453, 454, 455, 456, 457, 458, 459, 460, 461, 462, 463, 464, 465, 466, 1491, 1492, 1493, 467, 468, 469, 470, 471, 472, 473, 474, 1502, 475, 476, 477, 478, 479, 480, 481, 482, 1503, 1504, 4064, 4065, 1534}, {2048, 4608, 514, 515, 2061, 2062, 2063, 2064, 2065, 4684, 21, 24, 3097, 3098, 5148, 29, 36, 3773, 4648, 4649, 3774, 2607, 2608, 2609, 2610, 53, 2618, 2619, 4158, 2118, 1607, 1608, 1609, 586, 587, 588, 589, 590, 591, 592, 1610, 1611, 1612, 1614, 1615, 3680, 3681, 4192, 4193, 3685, 3686, 3687, 4209, 4210, 4211, 4725, 4726, 3195, 3196, 3197, 3198, 128, 4738, 4739, 2711, 4247, 1181, 1182, 1695, 1696, 1697, 1698, 1699, 2212, 165, 2213, 2214, 2215, 1705, 4778, 4779, 4780, 690, 691, 1714, 693, 1717, 695, 696, 1719, 698, 700, 701, 190, 191, 702, 703, 1724, 1729, 1730, 3772, 1734, 711, 3775, 714, 715, 204, 1741, 209, 1745, 211, 219, 220, 223, 3295, 225, 226, 2786, 228, 229, 230, 2277, 3296, 1261, 1262, 3322, 4350, 4351, 4352, 4353, 4354, 3843, 4355, 4356, 4357, 4358, 4359, 2322, 3858, 2324, 1813, 3859, 2327, 2328, 2329, 2330, 2331, 2332, 2333, 1822, 4380, 2848, 2849, 2850, 1315, 2851, 1317, 1318, 1319, 1320, 1321, 1322, 2852, 2853, 2854, 2855, 2856, 3890, 819, 820, 821, 4404, 824, 825, 826, 2874, 2875, 2876, 1854, 1855, 1856, 1857, 1858, 1859, 2877, 2878, 2879, 2880, 2886, 3398, 3399, 3400, 1870, 4430, 4431, 4432, 4433, 3924, 2911, 352, 2912, 866, 355, 2913, 2914, 2915, 2916, 360, 2917, 2410, 2411, 2412, 2413, 2918, 3439, 2416, 3440, 4960, 376, 1400, 1401, 1402, 1403, 1404, 1405, 1406, 1407, 4478, 4479, 4480, 4481, 4482, 390, 2439, 2440, 2950, 395, 397, 398, 400, 402, 404, 405, 2456, 3992, 926, 928, 930, 2979, 1961, 940, 941, 944, 945, 2121, 947, 948, 1972, 950, 951, 952, 953, 2122, 956, 4546, 1999, 2001, 2002, 2004, 2005, 4571, 4572, 3860, 3042, 1514, 1515, 4078, 4079, 4080, 3062, 3063, 2047}, {2984, 2985, 2986, 2987, 2988, 2989, 2990, 4268, 2480, 2481, 2482, 2483, 2484, 4269, 2998, 2999, 1594, 1595, 3645, 3646, 1598, 3648, 3647, 3649, 3650, 3930, 4074, 4222}, {2049, 1731, 5129, 1547, 1548, 1549, 1552, 2073, 2074, 2075, 2076, 2082, 3630, 3119, 3120, 3121, 3122, 3123, 3124, 3125, 3126, 3127, 3128, 3129, 3130, 3780, 2131, 1623, 1624, 1625, 1626, 1627, 1628, 4800, 3678, 3679, 4807, 3226, 3227, 3228, 3229, 3230, 3231, 3232, 3233, 3234, 3235, 3240, 3241, 697, 186, 187, 1209, 1210, 1211, 1212, 192, 193, 1213, 195, 1732, 1214, 197, 198, 199, 200, 201, 202, 712, 205, 206, 1736, 208, 4298, 210, 4299, 212, 4300, 214, 215, 216, 217, 218, 726, 731, 224, 2274, 3307, 3308, 3309, 3310, 3311, 4848, 4849, 3318, 4370, 4371, 3350, 3352, 823, 3901, 3902, 3904, 1864, 1865, 1866, 1868, 1869, 2901, 2902, 2903, 2904, 2905, 2906, 2907, 3929, 4441, 3940, 2928, 3984, 3985, 1426, 1429, 3481, 3482, 3483, 3484, 3485, 2991, 946, 2995, 2996, 2997, 2495, 977, 4573, 3054, 3065, 3066}, {2703, 2704, 5139, 5140, 5149, 5150, 1708, 1709, 1710, 5172, 5173, 4278, 4279, 4280, 5046, 5047, 5048, 3917, 4942, 4943, 3918, 4814, 4813, 4567, 4568, 4956, 4957, 5096, 5097, 5098, 3948, 3949, 3950, 4977, 4978, 4979}, {512, 3072, 3073, 3074, 3077, 518, 519, 524, 526, 527, 544, 545, 2593, 40, 1068, 1080, 3131, 3132, 1085, 4156, 4157, 4169, 81, 599, 88, 600, 601, 91, 602, 603, 604, 95, 96, 605, 98, 607, 608, 610, 102, 612, 616, 617, 618, 2658, 2659, 2157, 2158, 623, 2159, 3718, 1681, 1682, 1683, 1684, 1685, 1686, 1693, 1694, 674, 675, 4258, 4259, 4260, 167, 168, 4261, 170, 171, 4262, 173, 174, 4263, 4264, 4265, 178, 179, 182, 1725, 1726, 1739, 2771, 1766, 2282, 2283, 2285, 2286, 2287, 2288, 2297, 3332, 3333, 1828, 805, 806, 807, 3912, 3914, 845, 1359, 1361, 3410, 3411, 3412, 3413, 3414, 3415, 3416, 3417, 2908, 1373, 2401, 1378, 1380, 1895, 1897, 1898, 1901, 899, 901, 1430, 3513, 5080, 4602, 3070}, {4736, 4225, 4226, 4227, 4228, 4229, 4230, 4231, 4232, 4737, 5081, 5082, 5083, 5084, 4735}, {2944, 2945, 3081, 523, 4512, 4513, 4514, 4515, 4516, 3109, 3110, 3111, 3112, 4155, 4517, 4518, 4519, 4013, 4014, 4015, 4016, 4017, 4018, 4019, 4020, 4021, 4022, 4023, 4024, 4025, 4026, 4027, 4028, 4029, 4030, 4031, 4032, 3137, 4033, 4034, 4035, 4036, 4037, 4038, 4039, 4040, 4041, 4042, 4043, 4044, 4045, 4046, 3925, 4520, 4953, 4954, 4521, 2268, 4955, 4522, 4523, 5093, 5094, 5095, 4524, 4270, 4525, 4271, 4526}, {2, 3075, 26, 1061, 1066, 1067, 2095, 1071, 2097, 1072, 1073, 1074, 1077, 1078, 2096, 1083, 1084, 1086, 1087, 1088, 1091, 1096, 5194, 2123, 2124, 2125, 2126, 2127, 606, 4233, 1171, 1172, 1173, 1174, 1175, 1176, 1177, 1179, 1183, 1184, 1185, 1187, 1188, 1189, 1190, 1191, 1192, 1242, 1244, 1245, 1246, 1247, 1248, 1249, 1250, 1251, 1253, 1802, 1803, 1806, 1809, 1810, 3348, 3349, 1324, 1326, 2356, 2357, 3382, 3383, 4418, 4419, 1348, 4420, 4421, 4422, 3915, 3409, 859, 3434, 3435, 1399, 2445, 2446, 2449, 2451, 2452, 2453, 943, 1459, 1460, 1461, 1462, 1463, 1464, 1465, 3027, 3028, 3029, 3030, 3031, 3032, 3033, 505}, {516, 3592, 3593, 3595, 1555, 2582, 2583, 2586, 32, 41, 3113, 3114, 3628, 45, 3629, 49, 2108, 2109, 2112, 2113, 67, 68, 2115, 70, 4164, 4165, 4166, 78, 79, 3160, 89, 90, 3161, 3162, 3163, 94, 3164, 3165, 3166, 3167, 3168, 111, 2671, 2672, 2673, 2674, 2675, 4727, 123, 3712, 3713, 3207, 3208, 3209, 3210, 3211, 1687, 1688, 1689, 1691, 1692, 676, 678, 681, 683, 684, 1715, 1720, 1721, 2768, 2772, 2773, 2269, 2270, 739, 240, 241, 3827, 244, 245, 246, 249, 3323, 252, 256, 257, 4360, 2318, 1812, 4374, 4376, 304, 306, 308, 310, 318, 321, 325, 327, 328, 4423, 330, 331, 334, 336, 337, 338, 339, 340, 3920, 342, 343, 344, 3921, 3927, 347, 348, 4951, 3942, 3943, 3944, 3945, 4454, 875, 876, 2415, 2932, 2934, 2935, 900, 902, 3480, 2491, 2502, 4565, 4566, 492, 493, 494, 495, 497, 499, 501, 502, 506, 507, 508, 511}, {1280, 1281, 1282, 1283, 1284, 1285, 1286, 1287, 1288, 1289, 1274, 1290, 1291, 1292, 1293, 1294, 1295, 1296, 1297, 787, 788, 789, 1298, 1299, 792, 793, 1300, 1301, 1302, 1303, 2325, 3737, 3991, 3212, 3993, 5120, 1704, 2323, 2600, 2601, 2602, 2603, 2604, 2605, 2606, 2231, 828, 708, 2386, 2387, 2388, 2389, 3034, 3035, 3036, 221, 4349, 3044, 232, 2414, 1263, 1264, 1265, 1266, 1267, 628, 1268, 1269, 1271, 1272, 1273, 1270, 1275, 1276, 1277, 1278, 1279}, {1536, 1538, 1539, 1541, 1032, 10, 1546, 2574, 2576, 1530, 2578, 2579, 2580, 1531, 4634, 4635, 1532, 4636, 1060, 1063, 1064, 1065, 1069, 1076, 2107, 2110, 4159, 578, 2116, 2117, 2660, 597, 1117, 1118, 2141, 1120, 1121, 1123, 1124, 2149, 2150, 1125, 2152, 2153, 2154, 1126, 1128, 1129, 1130, 1131, 2151, 1649, 1650, 2187, 2190, 2191, 2192, 3727, 3728, 659, 2709, 2710, 664, 665, 2712, 2713, 2714, 2715, 2729, 4275, 4276, 3271, 1755, 1756, 4315, 4316, 3301, 3302, 231, 3303, 3304, 1774, 3313, 3314, 3315, 2292, 3316, 2827, 2828, 2829, 2830, 2831, 2832, 1811, 1836, 3387, 3388, 3389, 3390, 2370, 3916, 2383, 2384, 2385, 857, 4445, 1394, 3955, 392, 393, 399, 401, 1425, 403, 2493, 958, 1991, 5072, 5073, 5074, 1505, 1506, 1507, 1508, 4577, 1510, 1522, 1523, 1524, 1526, 1527, 1528, 2042, 2043, 2044, 1533, 1535}, {4224, 3084, 3085, 3086, 3087, 3597, 3598, 3599, 3600, 3601, 3602, 3603, 2455, 3604, 3605, 3606, 3607, 3608, 3609, 3610, 3738, 5023, 5024, 5025, 5026, 42, 2098, 3507, 3510, 3512, 1228, 1229, 1230, 1231, 1232, 1233, 1234, 1235, 1236, 1237, 1238, 1239, 1240, 1241, 3928, 4223}, {2432, 2433, 2434, 2435, 2436, 2437, 3664, 4834, 3665, 4836, 16, 4824, 4838, 2972, 2973, 2334, 2974, 2975, 2976, 4825, 3655, 4826, 69, 3653, 71, 3654, 2761, 74, 75, 76, 2762, 2763, 2765, 80, 2766, 82, 83, 84, 85, 86, 87, 2769, 2770, 2774, 1115, 1116, 3290, 3291, 3292, 3293, 3294, 3656, 99, 3657, 3658, 4827, 4828, 4829, 105, 874, 3659, 4835, 4830, 4837, 3660, 4831, 3661, 4832, 3662, 3663, 4833, 510}, {1540, 3089, 2066, 2067, 2068, 2069, 2070, 3090, 3091, 3092, 4650, 2091, 931, 4173, 4177, 4178, 933, 1442, 934, 1443, 935, 1444, 1445, 1447, 1653, 1448, 4235, 4754, 4755, 661, 662, 663, 4758, 4759, 4760, 667, 2728, 687, 2743, 2744, 2745, 2746, 2747, 3273, 3274, 3275, 1740, 3793, 3794, 3795, 3797, 3798, 3799, 3800, 2777, 2779, 4317, 3312, 2822, 794, 799, 800, 802, 3362, 3363, 3364, 2342, 2343, 2344, 2345, 2346, 2347, 2348, 2349, 3365, 3366, 3367, 3368, 3369, 3370, 3371, 4925, 3391, 841, 842, 843, 844, 2900, 2390, 2391, 2392, 2393, 2394, 2395, 2396, 3926, 3941, 4455, 2408, 365, 2421, 2422, 2423, 2424, 375, 3457, 3458, 3459, 3460, 3461, 3462, 3463, 3464, 3465, 2450, 2457, 925, 3486, 927, 416, 417, 418, 419, 420, 421, 422, 423, 424, 425, 426, 427, 428, 429, 430, 431, 432, 937, 938, 939, 3525, 3526, 3527, 969, 3529, 3530, 4059, 2029, 3572, 3573, 3574}, {2821, 908, 4272, 3785, 3786, 3787, 3789, 3790, 3791, 3792, 1618, 1619, 5202, 1621, 3170, 3171, 3172, 3173, 3174, 3175, 3176}, {1193, 1194, 1195, 1196, 1197, 1198, 5169, 5170, 5171, 3260, 3261, 3262, 3263, 3704, 2799, 2800, 3700, 3701, 3702, 3703, 4600, 4601}, {4096, 1542, 1543, 2072, 1057, 1059, 3976, 2090, 2092, 2093, 2615, 2616, 2617, 3640, 3641, 2620, 61, 2621, 2622, 2624, 1089, 2625, 2626, 4160, 4161, 582, 1613, 2135, 3682, 3683, 3684, 4201, 4202, 4203, 624, 625, 626, 627, 2163, 629, 630, 631, 632, 2164, 634, 635, 2165, 2166, 2167, 2168, 2169, 3200, 3201, 3202, 3203, 3204, 2182, 2183, 2185, 3725, 672, 1700, 1701, 3247, 688, 692, 1716, 1722, 1723, 2748, 2749, 2750, 2752, 2753, 3781, 1744, 1746, 1747, 1748, 2775, 3300, 4328, 4329, 4330, 4331, 3828, 2293, 2294, 2295, 2296, 3829, 3830, 3831, 3324, 3325, 3330, 2833, 2834, 4882, 4883, 4884, 790, 791, 1814, 1312, 1313, 1314, 1316, 808, 810, 811, 812, 813, 814, 815, 817, 818, 2867, 2868, 2869, 2870, 2871, 2872, 2873, 4406, 4407, 4408, 829, 4409, 4410, 4411, 4412, 4413, 4414, 1871, 1872, 1873, 1874, 1367, 3931, 3932, 349, 350, 351, 3933, 353, 354, 3934, 356, 357, 3935, 359, 361, 362, 363, 364, 2409, 366, 367, 3951, 2417, 370, 371, 372, 1397, 2418, 2419, 2420, 3952, 1409, 1410, 1411, 1412, 1413, 1414, 1415, 1416, 1417, 1418, 1419, 1420, 1421, 1422, 2438, 2441, 2444, 2448, 3642, 1466, 955, 1467, 1468, 1469, 1474, 1476, 1477, 1478, 1479, 1480, 1482, 1483, 1484, 1485, 1486, 2000, 2006, 2007, 2008, 4061, 3043, 3045, 3046, 3047, 3048, 3049, 3050, 3051, 3052, 3055, 3056, 3057, 2035, 2036}, {2176, 2177, 281, 3994, 3995, 3996, 3997, 3998, 3999, 4000, 4001, 4002, 4003, 3762, 3763, 2359, 2360, 2361, 2362, 2363, 699, 2364, 5060, 990, 991, 993, 4592, 4593, 4594, 4595, 4596, 2175}, {5123, 5124, 4104, 4105, 4620, 4621, 4622, 3986, 3987, 3988, 3989, 3990, 4500, 4501, 4502, 4898, 4899, 4900, 4901, 4902, 4903, 4906, 4907, 5036, 5037, 5038, 5039, 3888, 3889, 5179, 5180, 2119, 2120, 5070, 5071, 4326, 4327, 4855, 5099, 5100, 3182, 3183, 3184, 3185, 3186, 3187, 3060, 3061, 3188, 3189, 3190, 4856, 4730, 4731, 636, 637}, {4, 12, 14, 1550, 17, 18, 3095, 1049, 1050, 1051, 1053, 1054, 1055, 1056, 3618, 3619, 3620, 3621, 3622, 3623, 3624, 3625, 3626, 3627, 5168, 2611, 1103, 1104, 1105, 1106, 1107, 1108, 1109, 1110, 1111, 1112, 1113, 1114, 2139, 2140, 2143, 2144, 2145, 2685, 2686, 2723, 2724, 1727, 4290, 4291, 4292, 4293, 4294, 4295, 227, 2289, 2290, 2291, 757, 759, 770, 4402, 4403, 4415, 4416, 4417, 4944, 4945, 4952, 2920, 2921, 2443, 4505, 4506, 4507, 4508, 4008, 3014, 3015, 3016, 4050, 4051, 4052, 1516, 4081, 1017}, {1544, 3669, 4126, 3670, 2083, 3673, 50, 3674, 3675, 3643, 3644, 2114, 66, 4683, 2636, 2637, 2638, 2639, 2640, 2641, 2130, 2642, 2132, 2133, 2134, 2643, 2136, 2137, 2644, 2645, 2646, 2647, 2648, 2649, 2650, 2651, 2652, 2653, 2654, 3676, 3677, 4206, 4207, 1136, 1137, 4208, 1661, 1662, 1663, 1664, 1665, 1666, 2702, 2193, 2194, 2195, 2196, 2197, 2198, 2199, 3237, 3238, 3239, 3751, 4005, 1215, 1216, 1217, 1218, 1219, 1220, 1221, 1222, 1223, 1733, 1224, 1225, 3276, 3277, 207, 2262, 2263, 2264, 2265, 2266, 2267, 2273, 2275, 2276, 1254, 1255, 2280, 1257, 1258, 1259, 748, 2281, 3913, 752, 3326, 3327, 1794, 2315, 3861, 3862, 3351, 4383, 4384, 3873, 3874, 3875, 4385, 4386, 4387, 4388, 4389, 4390, 5059, 3520, 3903, 2884, 2885, 2887, 2888, 2889, 2890, 2891, 2380, 2381, 2892, 2893, 2894, 2895, 2896, 2897, 2898, 2899, 4434, 4435, 4436, 4437, 2909, 1890, 2922, 2923, 2924, 2925, 1902, 2926, 1904, 1905, 368, 1907, 1908, 1395, 1910, 1911, 1912, 1913, 1914, 1915, 374, 1396, 1398, 1906, 3448, 3449, 3450, 3451, 2927, 2955, 2956, 4496, 2929, 3487, 3488, 3489, 1954, 3491, 3492, 3493, 3494, 4004, 3496, 1449, 3497, 1451, 3498, 3499, 3500, 4006, 2993, 959, 960, 961, 962, 963, 964, 1989, 1990, 965, 1992, 1993, 966, 967, 968, 970, 972, 973, 974, 976, 979, 984, 1520, 1521, 498, 3578}, {768, 2178, 2179, 2180, 2181, 2564, 2565, 3766, 906, 4890, 911, 148, 149, 150, 151, 152, 153, 1304, 155, 412, 157, 158, 668, 669, 161, 162, 163, 164, 670, 673, 1305, 1306, 4529, 436, 437, 438, 439, 440, 441, 442, 443, 444, 445, 446, 447, 448, 2365, 3003, 707, 324, 3004, 3005, 3006, 3007, 3008, 3009, 3010, 3408, 222, 4120, 870, 3764, 872, 873, 3863, 3191, 3192, 3193, 3194, 3765, 509, 3071}, {3584, 3585, 3586, 3587, 3588, 3589, 3590, 3591, 4106, 4107, 4108, 1040, 4249, 543, 1713, 3506, 181, 1718, 184, 2683, 3776, 3777, 3778, 3779, 1860, 1861, 1862, 1863, 3397, 5065, 2398, 4318, 1888, 2400, 1894, 4088, 3579, 3580, 3581, 3582, 3583}, {5241, 5011, 5012, 4378, 4379, 4642, 4643, 4644, 4011, 4012, 2738, 2739, 4797, 4798, 4799, 4931, 4932, 5189, 5190, 4808, 4809, 5068, 5069, 4174, 4175, 4176, 5197, 5198, 5199, 4312, 4313, 4314, 5215, 5216, 5217, 5218, 3305, 3306, 4716, 4717, 3058, 3059, 5239, 5240, 4473, 4474, 5118, 5119}, {4097, 4098, 4099, 4100, 4633, 1596, 1597, 2138, 2155, 4723, 4724, 3709, 3710, 3711, 2692, 2693, 2716, 2717, 2719, 2720, 2721, 719, 720, 721, 722, 723, 724, 725, 727, 728, 729, 730, 732, 733, 734, 2791, 2792, 2793, 2794, 2795, 3321, 2298, 2299, 2300, 2301, 2302, 2303, 2304, 2305, 2306, 2307, 2308, 773, 774, 775, 776, 777, 778, 779, 780, 781, 782, 2310, 784, 785, 2313, 2314, 3405, 3406, 1369, 2817, 2309, 2818, 3427, 3428, 3430, 3429, 2819, 3431, 2311, 2820, 2312, 2823, 2824, 2825, 2826, 4504, 2458, 2459, 2460, 2461, 2462, 3490, 3495, 4867, 992, 1525, 2549, 2551, 2550}, {4999, 5000, 5001, 4618, 4619, 5002, 5003, 4248, 5029, 5030, 5031, 3501, 3502, 3503, 3504, 3505, 4167, 4168, 4949, 4950, 5077, 5078, 5079, 5207, 5208, 4446, 4447, 4448, 4067, 4068, 2669, 2670, 4084, 4085, 638, 639}, {1408, 1669, 1670, 1671, 1672, 1673, 1674, 651, 1036, 1675, 1676, 655, 3466, 3467, 3468, 660, 4456, 1431, 1432, 1433, 666, 3101, 1823, 1824, 33, 2978, 3103, 3104, 3106, 169, 3757, 315, 4815, 3960, 1372, 988, 1374, 1375, 1376, 1377, 3421, 1379, 3422, 1381, 4472, 1383, 1384, 1385, 1386, 1387, 1511, 1389, 1390, 1512, 1392, 1393, 1517, 1518, 4971, 4972, 5101, 5102, 3064, 3961, 3962, 3963, 3964, 3965}, {1920, 1921, 1922, 1923, 1924, 1925, 1926, 1927, 1928, 1929, 1930, 1931, 1932, 1933, 1934, 1935, 1936, 1937, 658, 1938, 1939, 1940, 1941, 1942, 1943, 1944, 1945, 1946, 1947, 1948, 1949, 2189, 677, 680, 2188, 682, 1079, 118, 2186, 1916, 1917, 1918, 1919}, {5121, 5122, 3844, 3845, 3846, 3847, 3848, 3849, 3850, 3851, 5009, 5010, 5016, 5017, 4769, 4770, 4771, 4926, 4927, 4162, 4163, 3782, 3783, 3784, 4069, 4070, 4071, 4072, 4073, 4965, 4966, 4967, 4968, 4857, 4858}, {4490, 4491, 4630, 4631, 4917, 4918, 4663, 4664, 4802, 4803, 4804, 4805, 4806, 4810, 4811, 4812, 5229, 5230, 4980, 4981, 5109, 5110, 3832, 3833}, {640, 641, 5133, 5006, 5007, 5008, 5134, 5136, 5137, 5138, 4132, 4133, 4134, 4915, 4916, 2613, 2614, 5174, 5175, 4281, 4282, 5176, 4547, 4548, 4549, 5192, 4681, 4682, 5193, 2128, 2129, 3282, 3283, 3284, 4569, 4570, 4457, 4458, 4714, 4715, 4338, 4339, 1658, 1659, 1660}, {5144, 5146, 5147, 4075, 4076, 4077, 4878, 4879, 4880, 4881, 2836, 2837, 2838, 2839, 2840, 5141, 5142, 5143, 5145}, {3080, 521, 3082, 3083, 3869, 525, 3870, 528, 529, 530, 531, 532, 533, 534, 535, 536, 537, 1558, 539, 540, 541, 542, 3612, 3872, 4641, 546, 547, 548, 549, 550, 551, 552, 553, 554, 555, 556, 557, 2597, 559, 48, 560, 561, 562, 563, 564, 565, 1592, 1593, 72, 73, 4170, 4171, 4172, 77, 92, 93, 2142, 4191, 97, 609, 611, 100, 101, 613, 103, 104, 614, 615, 619, 2156, 3871, 622, 3715, 3716, 3717, 3719, 3720, 3721, 3722, 3723, 3724, 154, 1690, 156, 1180, 159, 3236, 166, 679, 2216, 176, 1737, 1738, 2764, 2767, 2259, 2261, 735, 736, 737, 738, 242, 243, 247, 248, 250, 251, 2594, 253, 254, 255, 3834, 2595, 258, 259, 260, 261, 262, 263, 264, 265, 266, 267, 268, 269, 270, 271, 272, 273, 274, 275, 276, 277, 278, 279, 280, 2598, 282, 283, 284, 285, 286, 3868, 288, 289, 290, 291, 292, 293, 294, 295, 296, 297, 2596, 299, 300, 301, 302, 303, 305, 307, 309, 311, 312, 313, 314, 3115, 316, 317, 319, 323, 326, 329, 332, 846, 341, 3835, 2599, 2933, 378, 379, 380, 381, 382, 383, 892, 893, 894, 895, 896, 897, 898, 2942, 2943, 1423, 2994, 2938, 2940, 2941, 3021, 2511, 2512, 2513, 2514, 2515, 2516, 2517, 2518, 2519, 2520, 2521, 2522, 2523, 2524, 2525, 2526, 2527, 2528, 2529, 2530, 2531, 2532, 2533, 500}, {1024, 1025, 1026, 1027, 1028, 3053, 4103, 2040, 4121, 4122, 1058, 1062, 44, 2045, 1075, 3133, 3144, 3145, 3146, 1642, 3180, 3181, 1135, 1651, 1652, 3891, 3892, 1667, 1668, 4234, 143, 2725, 2726, 2727, 4277, 2245, 2246, 2247, 2248, 2249, 2250, 2251, 3796, 1243, 1252, 4334, 4335, 4336, 3328, 3329, 4868, 4869, 1804, 2335, 2336, 2337, 2338, 2339, 2340, 2341, 1323, 1325, 1327, 1328, 1329, 1330, 1331, 1332, 1333, 1334, 1335, 1336, 1337, 1338, 1339, 1340, 1341, 1342, 1343, 1344, 1345, 1346, 1347, 1853, 3911, 858, 2402, 2403, 2404, 2405, 2406, 2407, 2919, 3445, 3446, 3447, 3452, 3453, 3454, 3455, 3456, 2948, 396, 2957, 2958, 2959, 2960, 2961, 915, 2031, 923, 1950, 1446, 3528, 3531, 3532, 2009, 2010, 2011, 2012, 2013, 2014, 2015, 2016, 2017, 2018, 2019, 2020, 1509, 2021, 2022, 2024, 2025, 2026, 2027, 1001, 2023, 2028, 2030, 1008, 1009, 1010, 1011, 1012, 1013, 1014, 1015, 1016, 2041, 1018, 1019, 1020, 1021, 1022, 1023}, {5127, 5128, 4361, 4362, 4363, 4109, 4110, 4111, 803, 804, 4009, 4010, 5166, 5167, 4787, 4788, 4789, 4790, 3000, 3001, 3514, 3002, 3515, 3516, 5051, 5052, 5186, 5187, 5188, 5061, 5062, 5063, 5064, 4938, 4939, 4940, 4941, 4559, 4560, 4561, 5203, 5204, 4821, 4822, 3671, 3672, 4439, 4440, 4823, 4703, 4704, 5087, 5088, 5219, 5220, 4839, 4840, 4841, 4842, 4843, 5105, 5106, 2037, 2038, 2039, 4477, 4476, 2173, 2174}, {4609, 4610, 4611, 4612, 4613, 4614, 4615, 4616, 4617}, {2700, 2701, 4891, 4892, 2077, 2078, 4893, 5160, 5161, 5162, 4666, 4283, 4284, 3517, 3518, 3519, 4667, 3905, 3906, 3907, 4668, 4669, 4677, 4678, 4424, 4451, 4586, 4587, 4588, 4589, 2801, 2802, 2803, 2804, 2805, 2806, 2807, 2808, 2809, 2810, 2811, 2812}, {9, 11, 13, 15, 3099, 1052, 2079, 2080, 2081, 4647, 4651, 3116, 3117, 3118, 568, 569, 570, 572, 573, 574, 575, 576, 579, 580, 3141, 584, 585, 1616, 1617, 4688, 1138, 1139, 1140, 1141, 1142, 1143, 1147, 132, 644, 2184, 139, 145, 3730, 3731, 3732, 4246, 671, 3767, 3768, 4796, 704, 705, 706, 2754, 4801, 709, 710, 713, 716, 717, 718, 1742, 1743, 213, 1749, 1751, 1752, 1753, 1754, 2778, 758, 760, 761, 762, 763, 764, 765, 766, 767, 769, 771, 772, 2835, 795, 796, 797, 798, 801, 4405, 2366, 2367, 2368, 2369, 4427, 4428, 333, 4429, 345, 867, 868, 869, 871, 3436, 3437, 3438, 2930, 2931, 384, 385, 386, 387, 388, 389, 391, 2447, 2965, 406, 407, 408, 409, 410, 411, 413, 414, 415, 1951, 2465, 2466, 1450, 1452, 1453, 1454, 1455, 1456, 1457, 1458, 2509, 2510, 1513, 1519, 503}, {2050, 2051, 2573, 2581, 2584, 2585, 2587, 2588, 2589, 2590, 3611, 2612, 1590, 55, 1081, 1599, 593, 594, 595, 596, 1119, 1122, 1127, 1132, 1133, 1134, 108, 109, 112, 113, 114, 115, 116, 2160, 119, 120, 2161, 122, 2162, 124, 125, 126, 129, 130, 131, 133, 134, 138, 141, 142, 1677, 144, 3726, 2200, 2201, 2202, 2203, 2204, 2205, 2206, 2722, 2211, 1702, 1703, 1707, 686, 3253, 694, 2230, 3254, 3255, 4718, 4719, 4720, 4721, 4722, 2788, 2789, 2790, 1256, 744, 745, 1260, 3855, 1808, 2321, 3856, 3857, 1826, 1830, 1832, 298, 3376, 2358, 2372, 2373, 2374, 2375, 2376, 2377, 2378, 2379, 2382, 1360, 1362, 1363, 1365, 1366, 3418, 3419, 3420, 3953, 3954, 377, 1952, 1953, 2977, 1955, 1956, 1957, 1962, 1963, 1964, 1965, 1966, 1967, 1968, 2475, 2476, 2477, 2478, 2479, 957, 2494, 2496, 2497, 2498, 2499, 2500, 3542, 994, 995, 996, 997, 998, 999, 1000, 1002, 1003, 1004, 1005, 1006, 1007, 2032, 4082, 4083, 4599, 2046}, {4544, 4545, 2951, 2952, 2953, 2954, 4744, 4745, 4307, 4308, 4309, 4310, 4311, 4542, 4543}, {2052, 2053, 3076, 522, 2071, 2591, 2592, 1588, 1589, 566, 567, 1591, 571, 3134, 3135, 3136, 1603, 1604, 1605, 1606, 583, 3139, 3140, 3142, 3143, 1101, 1102, 2661, 621, 1145, 1146, 2172, 127, 642, 645, 646, 647, 648, 649, 650, 652, 653, 654, 146, 147, 160, 1186, 1706, 2731, 2732, 2733, 2734, 2735, 2736, 2229, 4287, 3281, 4319, 1767, 2284, 3824, 3825, 3826, 3319, 3320, 3919, 1801, 1805, 1807, 1825, 1827, 1831, 1833, 1834, 1835, 1837, 2881, 2882, 2883, 1351, 1352, 1353, 1354, 1355, 1356, 3401, 3402, 847, 848, 849, 850, 851, 852, 853, 854, 855, 856, 3922, 860, 861, 862, 863, 864, 865, 1382, 4970, 1899, 1388, 1391, 1903, 3469, 3470, 4495, 2463, 2464, 1958, 1959, 1960, 4530, 4531, 4532, 1973, 1974, 2492, 1983, 1984, 1985, 1986, 1987, 1988, 3022, 4564, 483, 484, 485, 486, 487, 488, 489, 490, 491, 496, 3575, 4603}, {1029, 1030, 1033, 1034, 1035, 2569, 2570, 1038, 2571, 1424, 1041, 2572, 1427, 1428, 4372, 2718, 287, 2210, 4266, 4267, 2992, 827, 1471, 1472, 3394, 2627, 1092, 2628, 3395, 1735, 3396, 1481, 1994, 971, 5191, 3278, 975, 3023, 3024, 978, 3025, 980, 981, 982, 983, 3026, 985, 986, 987, 1884, 989, 1885, 1886, 1887, 1889, 2397, 1891, 1892, 1893, 2399, 3939, 3279, 3280, 3705}, {2816, 4114, 4115, 4116, 4117, 4118, 4119, 4887, 4761, 4762, 4888, 4889, 5201, 5163, 5164, 5165, 4400, 4273, 4274, 4401, 4818, 5200, 4819, 4919, 4920, 4921, 4922, 4820, 4923, 4924, 5049, 5050, 4672, 4673, 4296, 4297, 4425, 4426, 4936, 4937, 4047, 4048, 4049, 4816, 4817, 4692, 4053, 4054, 4055, 4693, 4694, 4695, 4696, 4697, 4698, 4958, 4959, 4324, 4325, 4459, 4460, 4461, 4340, 4341, 4342, 2815}, {3968, 3969, 2946, 2947, 3970, 4864, 4865, 4866, 4861, 4862, 4863, 5013, 5014, 5015, 4763, 4764, 4509, 4510, 4511, 4765, 4766, 4767, 4395, 4396, 3651, 3652, 1349, 1350, 1226, 1227, 5195, 5196, 2814, 3158, 3159, 4961, 4962, 4963, 4964, 4199, 4200, 106, 107, 5103, 5104, 4728, 4729, 2813, 3966, 3967}, {2560, 2561, 2562, 2563, 4701, 4705, 4706, 4707, 4708, 4702, 4709, 4710, 4711, 4537, 4699, 4700, 2557, 2558, 2559}, {2949, 4623, 1554, 19, 2776, 3553, 3554, 3555, 3556, 3557, 3558, 3559, 3560, 3561, 3562, 3563, 3564, 3565, 3566, 3567, 3568}, {5032, 5033, 5034, 5035, 4750, 4751, 4752, 433, 434, 435, 4243, 4242, 4244, 4732, 4733, 4734}, {4250, 4251, 5020, 5021, 5022, 3884, 3885, 3886, 3887, 4655, 4656, 4657, 2740, 2741, 2742, 5177, 5178, 5183, 4928, 4929, 4930, 5184, 5185, 4551, 4552, 2252, 2253, 5075, 5076, 5205, 5206, 3423, 3424, 3425, 3426, 4452, 4453, 5231, 5232, 5107, 4468, 4469, 4470, 4471, 5108, 5235, 5236, 5237, 3836, 3837, 5238}, {2629, 2630, 2631, 2632, 2633, 2634, 2635}, {1152, 513, 1153, 643, 1154, 1155, 1156, 1157, 136, 137, 1158, 1159, 1160, 1161, 1162, 1163, 1164, 1165, 1166, 1167, 1168, 1169, 1170, 3729, 3079, 3096, 4373, 4375, 4377, 2467, 2468, 2469, 2470, 2471, 2472, 2473, 2474, 3594, 4391, 4141, 4142, 4143, 4144, 4145, 4146, 4147, 4148, 4149, 4150, 4151, 4152, 2241, 3019, 3020, 4392, 4393, 4394, 4574, 3199, 4575, 4576, 3078, 110, 4852, 117, 4853, 1529, 1148, 1149, 1150, 1151}, {2694, 2695, 2696, 2697, 2698, 2699, 2760}, {3613, 3614, 3615, 3616, 3617, 4969, 172, 4908, 2094, 175, 4909, 177, 180, 183, 185, 3392, 3393, 2260, 1750, 2536, 2537, 2538, 2539, 2540, 2541, 2542, 2543, 2544, 2545, 3433, 3432, 4086, 4087, 4089, 4090, 4091, 4092, 4093, 4094, 4095}, {4101, 4102, 5125, 5126, 4252, 4381, 4253, 4382, 4645, 4646, 4910, 4911, 4912, 4913, 4914, 4449, 4450, 4578, 4579, 4580, 4581, 4582, 4583, 4584, 4585, 4332, 4333, 4859, 4860}, {2326, 4632, 1564, 4127, 2857, 2858, 2859, 2860, 2861, 2863, 2864, 2865, 2866, 1728, 2506, 2507, 2508, 3923, 3285, 3286, 3287, 3288, 3289, 1370, 2033, 2034, 2676, 2677, 2678, 2679, 2680, 2681, 2682, 2684}, {2688, 2689, 2690, 2691, 4123, 4124, 4125, 2687}, {4997, 4998, 3852, 3853, 3854, 4756, 4757, 2841, 2842, 5018, 5019, 4637, 4638, 4639, 4640, 5151, 5152, 5027, 5028, 5153, 4776, 4777, 3372, 3373, 3374, 1711, 1712, 3375, 4527, 4528, 1207, 1208, 4679, 4680, 4976, 4685, 4686, 4687, 4305, 4306, 5233, 5234, 2655, 2656, 2657, 5089, 5090, 5091, 5092, 3688, 3689, 3690, 3691, 3692, 3693, 3694, 4973, 4974, 4975, 2546, 2547, 2548, 4212, 4213, 4597, 4598, 4850, 4851, 4987, 4986}, {4624, 4625, 4626, 4627, 4628, 4629, 2084, 2085, 2086, 4652, 4653, 4654, 2555, 2556, 4689, 4690, 4691, 598, 5209, 5210, 5211, 5212, 2146, 2147, 2148, 5221, 5222, 5223, 5224, 5225, 5226, 4214, 4215, 4216, 4604, 4605, 4747, 4748, 4749, 2705, 2706, 2707, 2708, 4254, 4255, 4256, 4257, 4772, 4773, 4774, 4775, 4784, 4785, 4786, 3769, 3770, 3771, 2796, 2797, 2798, 4870, 4871, 4872, 2862, 3893, 3894, 3895, 3896, 3897, 3898, 3899, 3900, 3908, 3909, 3910, 4933, 4934, 4935, 4465, 4466, 4467, 3441, 3442, 3443, 3959, 3444, 3956, 3957, 3958, 4982, 4983, 4984, 4985, 3971, 3972, 3973, 3974, 3975, 4486, 4487, 4488, 4489, 4497, 4498, 4499, 5040, 5041, 5042, 5043, 5044, 4533, 4534, 4535, 4536, 5045, 4538, 4539, 4540, 4541, 3521, 3522, 3523, 3524, 2505, 1995, 1996, 1997, 1998, 1487, 1488, 1489, 1490, 4555, 4556, 4557, 4558, 4056, 4057, 4058, 5111, 2553, 2554, 3067, 3068, 3069, 4606, 4607}, {3147, 3148, 3149, 3150, 3151, 3152, 3317, 4665}, {135, 909, 912, 913, 914, 3347, 916, 917, 918, 919, 920, 921, 922, 2843, 924, 2844, 2845, 2846, 2847, 929, 4204, 932, 4205, 936, 942, 822, 3256, 3257, 3258, 3259, 60, 2751, 3264, 3265, 3266, 2371, 3012, 581, 3267, 3268, 3269, 3169, 3093, 3270, 3094, 1620, 1622, 2663, 1629, 1630, 1631, 1632, 1633, 1634, 1635, 1636, 1637, 1638, 1639, 1640, 1641, 2662, 1643, 1644, 1645, 1646, 1647, 1648, 2664, 2665, 2666, 2667, 2668, 1654, 1655, 1656, 1657}, {4185, 4186, 4187, 4188, 4189, 4190}, {3840, 3841, 3842, 3213, 3214, 3215, 3216, 3217, 3695, 3696, 3697, 3698, 3699, 4781, 4783, 4782, 3838, 3839}, {3743, 3733, 3734, 3735, 3736, 3739, 3740, 3100, 3742, 3741, 3744, 3745, 3746, 3747, 3748, 3749, 3750, 3102, 3752, 3753, 3754, 3755, 3756, 3758, 3759, 3760, 689, 3761, 4794, 4795, 5053, 5054, 4301}, {5154, 5155, 5156, 4904, 4905, 4792, 4793, 4670, 4671, 4562, 4563, 1768, 1769, 1770, 1771, 1772, 1773, 5227, 5228, 2426, 2427, 2428, 2429, 2430, 2431}, {2223, 3801, 3802, 3803, 3804, 3805, 3806, 3807, 3808, 3809, 3810, 3811, 3812, 3813, 3814, 3815, 3816, 3817, 3818, 3819, 3820, 3821, 3822, 3823}, {5157, 5158, 5159, 3569, 3570, 3571}, {4740, 4741, 4742, 4743, 4873, 4874, 4875, 4876, 4877, 4885, 4854, 4886, 5181, 5182}, {517, 2057, 2058, 2059, 1039, 1551, 1553, 2575, 2577, 1556, 1557, 1559, 1560, 1561, 1562, 1563, 1565, 1566, 1567, 1568, 1569, 1570, 1571, 1572, 1573, 1574, 1575, 1576, 1577, 1578, 1579, 1580, 1581, 558, 1582, 1583, 1584, 1585, 1586, 1587, 2099, 2100, 2101, 577, 3138, 3576, 3666, 1144, 2232, 2233, 2234, 2235, 2236, 2237, 2238, 2239, 2240, 4285, 2242, 2243, 2244, 4286, 3788, 233, 234, 235, 236, 237, 238, 1775, 1776, 1777, 239, 1779, 1778, 1780, 1781, 1783, 1784, 1785, 1786, 1787, 1788, 1782, 1789, 2087, 3335, 3336, 3337, 2088, 783, 2089, 3343, 786, 3344, 3345, 3346, 1815, 1817, 1818, 1819, 1820, 1821, 3353, 3354, 3355, 3356, 3357, 3358, 3359, 1829, 3360, 3361, 809, 1838, 1839, 1840, 1841, 1842, 1843, 1844, 1845, 1846, 1847, 1848, 1849, 1850, 1851, 1852, 320, 322, 1357, 1358, 335, 1875, 1876, 1877, 1878, 1879, 1368, 1880, 346, 1371, 1881, 358, 3946, 3947, 877, 878, 879, 880, 881, 882, 883, 884, 885, 886, 887, 888, 889, 4988, 4989, 4990, 4991, 4992, 4993, 4994, 4995, 4996, 2442, 2966, 2967, 2968, 2969, 2970, 2971, 4503, 4007, 1969, 1970, 1971, 949, 954, 2503, 2504, 3017, 3018, 2003, 3543, 3544, 3545, 3546, 4066, 2534, 2535, 2552, 3577}, {4288, 4289, 2755, 2756, 2757}, {3714, 4485, 903, 904, 905, 394, 907, 910, 3088, 4753, 4660, 4661, 4662, 4768, 2350, 2351, 2352, 2353, 2354, 3508, 3509, 2102, 2103, 2104, 2105, 2106, 3384, 188, 189, 3385, 4153, 4154, 5055, 194, 196, 203, 1867, 2254, 2255, 1364, 1757, 1758, 1759, 1760, 1761, 1762, 1763, 1764, 1765, 4194, 4195, 4196, 4197, 4198, 4322, 4323, 4321, 2425}, {4844, 4845, 4846, 4847}, {3177, 3178, 3179, 4492, 4493, 4494}, {5112, 5113, 5114, 5115, 5116, 5117}, {891, 2054, 2055, 2056, 2566, 2567, 5130, 5131, 5132, 4112, 4113, 2963, 2964, 3876, 3877, 3878, 3879, 3880, 3881, 3882, 3883, 4397, 4398, 4399, 3377, 3378, 3379, 3380, 3381, 4658, 4659, 5056, 5057, 5058, 4302, 4303, 4304, 5085, 5086, 5213, 3936, 3297, 3298, 3299, 3937, 3938, 5214, 4462, 4463, 4220, 4464, 3706, 3707, 3708, 4221, 890}]\n",
            "199\n",
            "228\n",
            "282\n",
            "28\n",
            "139\n",
            "36\n",
            "124\n",
            "15\n",
            "69\n",
            "104\n",
            "148\n",
            "77\n",
            "137\n",
            "46\n",
            "72\n",
            "150\n",
            "21\n",
            "22\n",
            "223\n",
            "32\n",
            "56\n",
            "86\n",
            "217\n",
            "72\n",
            "41\n",
            "48\n",
            "100\n",
            "36\n",
            "68\n",
            "43\n",
            "35\n",
            "24\n",
            "45\n",
            "19\n",
            "224\n",
            "155\n",
            "69\n",
            "9\n",
            "42\n",
            "141\n",
            "158\n",
            "15\n",
            "144\n",
            "64\n",
            "66\n",
            "50\n",
            "19\n",
            "21\n",
            "16\n",
            "51\n",
            "7\n",
            "71\n",
            "7\n",
            "40\n",
            "29\n",
            "34\n",
            "8\n",
            "70\n",
            "147\n",
            "8\n",
            "77\n",
            "6\n",
            "18\n",
            "33\n",
            "25\n",
            "24\n",
            "6\n",
            "14\n",
            "197\n",
            "5\n",
            "58\n",
            "4\n",
            "6\n",
            "6\n",
            "56\n",
            "Std Deviation is\n",
            "65.82432647247943\n"
          ],
          "name": "stdout"
        }
      ]
    },
    {
      "cell_type": "code",
      "metadata": {
        "id": "eGPQ3Wwfu5yi",
        "colab_type": "code",
        "colab": {}
      },
      "source": [
        "\n",
        "for n in communities:\n",
        "  print(len(n))"
      ],
      "execution_count": 0,
      "outputs": []
    },
    {
      "cell_type": "markdown",
      "metadata": {
        "id": "Hlnws-x1o7qC",
        "colab_type": "text"
      },
      "source": [
        "# **Testing**"
      ]
    },
    {
      "cell_type": "code",
      "metadata": {
        "id": "ZiMhWXiWj65s",
        "colab_type": "code",
        "colab": {}
      },
      "source": [
        "def mod_score(communities,G):\n",
        "  total_sum = 0\n",
        "  m = len(G.edges())\n",
        "  for community in communities:\n",
        "    summation = len(G.subgraph(community).edges())\n",
        "    totaldegree=sum(n for _, n in G.degree(community)) \n",
        "    total_sum += ((summation/m)-(totaldegree/(2*m))**2)\n",
        "  return total_sum"
      ],
      "execution_count": 0,
      "outputs": []
    },
    {
      "cell_type": "code",
      "metadata": {
        "id": "KvEa-AgfpJQr",
        "colab_type": "code",
        "colab": {}
      },
      "source": [
        "def sig_kmeans_test(G,k):\n",
        "  kmeans = KMeans(n_clusters=k,precompute_distances=True).fit_predict(unrelaxed_eigenvectors)\n",
        "  result = []\n",
        "  for j in range(k):\n",
        "    result2 = set()\n",
        "    for i in range(len(kmeans)):\n",
        "      if(kmeans[i]==j):\n",
        "        result2.add(i)\n",
        "    result.append(result2)\n",
        "  return result\n",
        "# for i in [2**j for j in range(10)]:\n",
        "#   performance_time_checker(G,sig_kmeans_test,i)"
      ],
      "execution_count": 0,
      "outputs": []
    }
  ]
}