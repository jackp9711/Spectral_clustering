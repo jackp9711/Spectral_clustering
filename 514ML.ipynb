{
  "nbformat": 4,
  "nbformat_minor": 0,
  "metadata": {
    "colab": {
      "name": "514ML.ipynb",
      "provenance": [],
      "collapsed_sections": []
    },
    "kernelspec": {
      "name": "python3",
      "display_name": "Python 3"
    },
    "accelerator": "GPU"
  },
  "cells": [
    {
      "cell_type": "markdown",
      "metadata": {
        "id": "WvOJjCiD3umN",
        "colab_type": "text"
      },
      "source": [
        "# Import and Login To Google Drive\n",
        "You must have all the files in your drive, at the root level"
      ]
    },
    {
      "cell_type": "code",
      "metadata": {
        "id": "2ZjaxungblYB",
        "colab_type": "code",
        "outputId": "c51b781f-b5e5-4b30-9cb9-250c02ca6534",
        "colab": {
          "base_uri": "https://localhost:8080/",
          "height": 1109
        }
      },
      "source": [
        "import tensorflow as tf\n",
        "import numpy as np\n",
        "import networkx as nx\n",
        "import math\n",
        "\n",
        "from google.colab import drive\n",
        "drive.mount('/content/drive', force_remount=True)"
      ],
      "execution_count": 0,
      "outputs": [
        {
          "output_type": "error",
          "ename": "KeyboardInterrupt",
          "evalue": "ignored",
          "traceback": [
            "\u001b[0;31m---------------------------------------------------------------------------\u001b[0m",
            "\u001b[0;31mKeyboardInterrupt\u001b[0m                         Traceback (most recent call last)",
            "\u001b[0;32m<ipython-input-2-81da1b34f809>\u001b[0m in \u001b[0;36m<module>\u001b[0;34m()\u001b[0m\n\u001b[1;32m      5\u001b[0m \u001b[0;34m\u001b[0m\u001b[0m\n\u001b[1;32m      6\u001b[0m \u001b[0;32mfrom\u001b[0m \u001b[0mgoogle\u001b[0m\u001b[0;34m.\u001b[0m\u001b[0mcolab\u001b[0m \u001b[0;32mimport\u001b[0m \u001b[0mdrive\u001b[0m\u001b[0;34m\u001b[0m\u001b[0;34m\u001b[0m\u001b[0m\n\u001b[0;32m----> 7\u001b[0;31m \u001b[0mdrive\u001b[0m\u001b[0;34m.\u001b[0m\u001b[0mmount\u001b[0m\u001b[0;34m(\u001b[0m\u001b[0;34m'/content/drive'\u001b[0m\u001b[0;34m,\u001b[0m \u001b[0mforce_remount\u001b[0m\u001b[0;34m=\u001b[0m\u001b[0;32mTrue\u001b[0m\u001b[0;34m)\u001b[0m\u001b[0;34m\u001b[0m\u001b[0;34m\u001b[0m\u001b[0m\n\u001b[0m",
            "\u001b[0;32m/usr/local/lib/python3.6/dist-packages/google/colab/drive.py\u001b[0m in \u001b[0;36mmount\u001b[0;34m(mountpoint, force_remount, timeout_ms)\u001b[0m\n\u001b[1;32m    165\u001b[0m         \u001b[0mprompt\u001b[0m\u001b[0;34m,\u001b[0m\u001b[0;34m\u001b[0m\u001b[0;34m\u001b[0m\u001b[0m\n\u001b[1;32m    166\u001b[0m         \u001b[0m_re\u001b[0m\u001b[0;34m.\u001b[0m\u001b[0mcompile\u001b[0m\u001b[0;34m(\u001b[0m\u001b[0;34mu'(Go to this URL in a browser: https://.*)\\r\\n'\u001b[0m\u001b[0;34m)\u001b[0m\u001b[0;34m,\u001b[0m\u001b[0;34m\u001b[0m\u001b[0;34m\u001b[0m\u001b[0m\n\u001b[0;32m--> 167\u001b[0;31m         \u001b[0;34mu'Drive File Stream encountered a problem and has stopped'\u001b[0m\u001b[0;34m,\u001b[0m\u001b[0;34m\u001b[0m\u001b[0;34m\u001b[0m\u001b[0m\n\u001b[0m\u001b[1;32m    168\u001b[0m     ])\n\u001b[1;32m    169\u001b[0m     \u001b[0;32mif\u001b[0m \u001b[0mcase\u001b[0m \u001b[0;34m==\u001b[0m \u001b[0;36m0\u001b[0m\u001b[0;34m:\u001b[0m\u001b[0;34m\u001b[0m\u001b[0;34m\u001b[0m\u001b[0m\n",
            "\u001b[0;32m/usr/local/lib/python3.6/dist-packages/pexpect/spawnbase.py\u001b[0m in \u001b[0;36mexpect\u001b[0;34m(self, pattern, timeout, searchwindowsize, async_, **kw)\u001b[0m\n\u001b[1;32m    339\u001b[0m         \u001b[0mcompiled_pattern_list\u001b[0m \u001b[0;34m=\u001b[0m \u001b[0mself\u001b[0m\u001b[0;34m.\u001b[0m\u001b[0mcompile_pattern_list\u001b[0m\u001b[0;34m(\u001b[0m\u001b[0mpattern\u001b[0m\u001b[0;34m)\u001b[0m\u001b[0;34m\u001b[0m\u001b[0;34m\u001b[0m\u001b[0m\n\u001b[1;32m    340\u001b[0m         return self.expect_list(compiled_pattern_list,\n\u001b[0;32m--> 341\u001b[0;31m                 timeout, searchwindowsize, async_)\n\u001b[0m\u001b[1;32m    342\u001b[0m \u001b[0;34m\u001b[0m\u001b[0m\n\u001b[1;32m    343\u001b[0m     def expect_list(self, pattern_list, timeout=-1, searchwindowsize=-1,\n",
            "\u001b[0;32m/usr/local/lib/python3.6/dist-packages/pexpect/spawnbase.py\u001b[0m in \u001b[0;36mexpect_list\u001b[0;34m(self, pattern_list, timeout, searchwindowsize, async_, **kw)\u001b[0m\n\u001b[1;32m    367\u001b[0m             \u001b[0;32mreturn\u001b[0m \u001b[0mexpect_async\u001b[0m\u001b[0;34m(\u001b[0m\u001b[0mexp\u001b[0m\u001b[0;34m,\u001b[0m \u001b[0mtimeout\u001b[0m\u001b[0;34m)\u001b[0m\u001b[0;34m\u001b[0m\u001b[0;34m\u001b[0m\u001b[0m\n\u001b[1;32m    368\u001b[0m         \u001b[0;32melse\u001b[0m\u001b[0;34m:\u001b[0m\u001b[0;34m\u001b[0m\u001b[0;34m\u001b[0m\u001b[0m\n\u001b[0;32m--> 369\u001b[0;31m             \u001b[0;32mreturn\u001b[0m \u001b[0mexp\u001b[0m\u001b[0;34m.\u001b[0m\u001b[0mexpect_loop\u001b[0m\u001b[0;34m(\u001b[0m\u001b[0mtimeout\u001b[0m\u001b[0;34m)\u001b[0m\u001b[0;34m\u001b[0m\u001b[0;34m\u001b[0m\u001b[0m\n\u001b[0m\u001b[1;32m    370\u001b[0m \u001b[0;34m\u001b[0m\u001b[0m\n\u001b[1;32m    371\u001b[0m     def expect_exact(self, pattern_list, timeout=-1, searchwindowsize=-1,\n",
            "\u001b[0;32m/usr/local/lib/python3.6/dist-packages/pexpect/expect.py\u001b[0m in \u001b[0;36mexpect_loop\u001b[0;34m(self, timeout)\u001b[0m\n\u001b[1;32m    109\u001b[0m                     \u001b[0;32mreturn\u001b[0m \u001b[0mself\u001b[0m\u001b[0;34m.\u001b[0m\u001b[0mtimeout\u001b[0m\u001b[0;34m(\u001b[0m\u001b[0;34m)\u001b[0m\u001b[0;34m\u001b[0m\u001b[0;34m\u001b[0m\u001b[0m\n\u001b[1;32m    110\u001b[0m                 \u001b[0;31m# Still have time left, so read more data\u001b[0m\u001b[0;34m\u001b[0m\u001b[0;34m\u001b[0m\u001b[0;34m\u001b[0m\u001b[0m\n\u001b[0;32m--> 111\u001b[0;31m                 \u001b[0mincoming\u001b[0m \u001b[0;34m=\u001b[0m \u001b[0mspawn\u001b[0m\u001b[0;34m.\u001b[0m\u001b[0mread_nonblocking\u001b[0m\u001b[0;34m(\u001b[0m\u001b[0mspawn\u001b[0m\u001b[0;34m.\u001b[0m\u001b[0mmaxread\u001b[0m\u001b[0;34m,\u001b[0m \u001b[0mtimeout\u001b[0m\u001b[0;34m)\u001b[0m\u001b[0;34m\u001b[0m\u001b[0;34m\u001b[0m\u001b[0m\n\u001b[0m\u001b[1;32m    112\u001b[0m                 \u001b[0;32mif\u001b[0m \u001b[0mself\u001b[0m\u001b[0;34m.\u001b[0m\u001b[0mspawn\u001b[0m\u001b[0;34m.\u001b[0m\u001b[0mdelayafterread\u001b[0m \u001b[0;32mis\u001b[0m \u001b[0;32mnot\u001b[0m \u001b[0;32mNone\u001b[0m\u001b[0;34m:\u001b[0m\u001b[0;34m\u001b[0m\u001b[0;34m\u001b[0m\u001b[0m\n\u001b[1;32m    113\u001b[0m                     \u001b[0mtime\u001b[0m\u001b[0;34m.\u001b[0m\u001b[0msleep\u001b[0m\u001b[0;34m(\u001b[0m\u001b[0mself\u001b[0m\u001b[0;34m.\u001b[0m\u001b[0mspawn\u001b[0m\u001b[0;34m.\u001b[0m\u001b[0mdelayafterread\u001b[0m\u001b[0;34m)\u001b[0m\u001b[0;34m\u001b[0m\u001b[0;34m\u001b[0m\u001b[0m\n",
            "\u001b[0;32m/usr/local/lib/python3.6/dist-packages/pexpect/pty_spawn.py\u001b[0m in \u001b[0;36mread_nonblocking\u001b[0;34m(self, size, timeout)\u001b[0m\n\u001b[1;32m    455\u001b[0m         \u001b[0;31m# * https://github.com/pexpect/pexpect/pull/304\u001b[0m\u001b[0;34m\u001b[0m\u001b[0;34m\u001b[0m\u001b[0;34m\u001b[0m\u001b[0m\n\u001b[1;32m    456\u001b[0m         \u001b[0;31m# * http://trac.sagemath.org/ticket/10295\u001b[0m\u001b[0;34m\u001b[0m\u001b[0;34m\u001b[0m\u001b[0;34m\u001b[0m\u001b[0m\n\u001b[0;32m--> 457\u001b[0;31m         \u001b[0;32mif\u001b[0m \u001b[0mselect\u001b[0m\u001b[0;34m(\u001b[0m\u001b[0;36m0\u001b[0m\u001b[0;34m)\u001b[0m\u001b[0;34m:\u001b[0m\u001b[0;34m\u001b[0m\u001b[0;34m\u001b[0m\u001b[0m\n\u001b[0m\u001b[1;32m    458\u001b[0m             \u001b[0;32mtry\u001b[0m\u001b[0;34m:\u001b[0m\u001b[0;34m\u001b[0m\u001b[0;34m\u001b[0m\u001b[0m\n\u001b[1;32m    459\u001b[0m                 \u001b[0mincoming\u001b[0m \u001b[0;34m=\u001b[0m \u001b[0msuper\u001b[0m\u001b[0;34m(\u001b[0m\u001b[0mspawn\u001b[0m\u001b[0;34m,\u001b[0m \u001b[0mself\u001b[0m\u001b[0;34m)\u001b[0m\u001b[0;34m.\u001b[0m\u001b[0mread_nonblocking\u001b[0m\u001b[0;34m(\u001b[0m\u001b[0msize\u001b[0m\u001b[0;34m)\u001b[0m\u001b[0;34m\u001b[0m\u001b[0;34m\u001b[0m\u001b[0m\n",
            "\u001b[0;32m/usr/local/lib/python3.6/dist-packages/pexpect/pty_spawn.py\u001b[0m in \u001b[0;36mselect\u001b[0;34m(timeout)\u001b[0m\n\u001b[1;32m    447\u001b[0m         \u001b[0;32melse\u001b[0m\u001b[0;34m:\u001b[0m\u001b[0;34m\u001b[0m\u001b[0;34m\u001b[0m\u001b[0m\n\u001b[1;32m    448\u001b[0m             \u001b[0;32mdef\u001b[0m \u001b[0mselect\u001b[0m\u001b[0;34m(\u001b[0m\u001b[0mtimeout\u001b[0m\u001b[0;34m)\u001b[0m\u001b[0;34m:\u001b[0m\u001b[0;34m\u001b[0m\u001b[0;34m\u001b[0m\u001b[0m\n\u001b[0;32m--> 449\u001b[0;31m                 \u001b[0;32mreturn\u001b[0m \u001b[0mselect_ignore_interrupts\u001b[0m\u001b[0;34m(\u001b[0m\u001b[0;34m[\u001b[0m\u001b[0mself\u001b[0m\u001b[0;34m.\u001b[0m\u001b[0mchild_fd\u001b[0m\u001b[0;34m]\u001b[0m\u001b[0;34m,\u001b[0m \u001b[0;34m[\u001b[0m\u001b[0;34m]\u001b[0m\u001b[0;34m,\u001b[0m \u001b[0;34m[\u001b[0m\u001b[0;34m]\u001b[0m\u001b[0;34m,\u001b[0m \u001b[0mtimeout\u001b[0m\u001b[0;34m)\u001b[0m\u001b[0;34m[\u001b[0m\u001b[0;36m0\u001b[0m\u001b[0;34m]\u001b[0m\u001b[0;34m\u001b[0m\u001b[0;34m\u001b[0m\u001b[0m\n\u001b[0m\u001b[1;32m    450\u001b[0m \u001b[0;34m\u001b[0m\u001b[0m\n\u001b[1;32m    451\u001b[0m         \u001b[0;31m# If there is data available to read right now, read as much as\u001b[0m\u001b[0;34m\u001b[0m\u001b[0;34m\u001b[0m\u001b[0;34m\u001b[0m\u001b[0m\n",
            "\u001b[0;32m/usr/local/lib/python3.6/dist-packages/pexpect/utils.py\u001b[0m in \u001b[0;36mselect_ignore_interrupts\u001b[0;34m(iwtd, owtd, ewtd, timeout)\u001b[0m\n\u001b[1;32m    141\u001b[0m     \u001b[0;32mwhile\u001b[0m \u001b[0;32mTrue\u001b[0m\u001b[0;34m:\u001b[0m\u001b[0;34m\u001b[0m\u001b[0;34m\u001b[0m\u001b[0m\n\u001b[1;32m    142\u001b[0m         \u001b[0;32mtry\u001b[0m\u001b[0;34m:\u001b[0m\u001b[0;34m\u001b[0m\u001b[0;34m\u001b[0m\u001b[0m\n\u001b[0;32m--> 143\u001b[0;31m             \u001b[0;32mreturn\u001b[0m \u001b[0mselect\u001b[0m\u001b[0;34m.\u001b[0m\u001b[0mselect\u001b[0m\u001b[0;34m(\u001b[0m\u001b[0miwtd\u001b[0m\u001b[0;34m,\u001b[0m \u001b[0mowtd\u001b[0m\u001b[0;34m,\u001b[0m \u001b[0mewtd\u001b[0m\u001b[0;34m,\u001b[0m \u001b[0mtimeout\u001b[0m\u001b[0;34m)\u001b[0m\u001b[0;34m\u001b[0m\u001b[0;34m\u001b[0m\u001b[0m\n\u001b[0m\u001b[1;32m    144\u001b[0m         \u001b[0;32mexcept\u001b[0m \u001b[0mInterruptedError\u001b[0m\u001b[0;34m:\u001b[0m\u001b[0;34m\u001b[0m\u001b[0;34m\u001b[0m\u001b[0m\n\u001b[1;32m    145\u001b[0m             \u001b[0merr\u001b[0m \u001b[0;34m=\u001b[0m \u001b[0msys\u001b[0m\u001b[0;34m.\u001b[0m\u001b[0mexc_info\u001b[0m\u001b[0;34m(\u001b[0m\u001b[0;34m)\u001b[0m\u001b[0;34m[\u001b[0m\u001b[0;36m1\u001b[0m\u001b[0;34m]\u001b[0m\u001b[0;34m\u001b[0m\u001b[0;34m\u001b[0m\u001b[0m\n",
            "\u001b[0;31mKeyboardInterrupt\u001b[0m: "
          ]
        }
      ]
    },
    {
      "cell_type": "markdown",
      "metadata": {
        "id": "R0IvWbxX36Qz",
        "colab_type": "text"
      },
      "source": [
        "# Read In the File and Make Graph in G"
      ]
    },
    {
      "cell_type": "code",
      "metadata": {
        "id": "LWhroWV9lc0I",
        "colab_type": "code",
        "colab": {}
      },
      "source": [
        "import re\n",
        "lineFinder = re.compile('(\\d+\\s+\\d+.*\\n)')\n",
        "# Options com-youtube.ungraph.txt  ca-HepTh.txt roadNet-CA.txt\n",
        "with open('/content/drive/My Drive/ca-HepTh.txt', 'r') as f:\n",
        "   file = f.read()\n",
        "singleLines = list(map(lambda x: np.fromstring(x, dtype=int, sep=' '), lineFinder.findall(file)))\n",
        "G = nx.from_edgelist(np.column_stack(singleLines).T)\n",
        "G = nx.convert_node_labels_to_integers(G)"
      ],
      "execution_count": 0,
      "outputs": []
    },
    {
      "cell_type": "markdown",
      "metadata": {
        "id": "c4cpbOjTbhFU",
        "colab_type": "text"
      },
      "source": [
        "# Eigenvalues/vectors With Spare Part"
      ]
    },
    {
      "cell_type": "code",
      "metadata": {
        "id": "PBLU17HNNRnF",
        "colab_type": "code",
        "outputId": "f0dbbf81-721e-470b-d7ae-06f08c456986",
        "colab": {
          "base_uri": "https://localhost:8080/",
          "height": 66
        }
      },
      "source": [
        "from scipy.sparse import lil_matrix\n",
        "adjacency_matrix = lil_matrix((len(G.nodes()), len(G.nodes())))\n",
        "#diag_matrix = lil_matrix((len(G.nodes()), len(G.nodes())))\n",
        "normal_laplacian = lil_matrix((len(G.nodes()), len(G.nodes())))\n",
        "print(adjacency_matrix.shape)\n",
        "G = nx.convert_node_labels_to_integers(G)\n",
        "for edge in G.edges():\n",
        "  adjacency_matrix[edge[0],edge[1]] = -1\n",
        "  adjacency_matrix[edge[1],edge[0]] = -1\n",
        "  adjacency_matrix[edge[0],edge[0]] +=1.0\n",
        "  adjacency_matrix[edge[1],edge[1]] +=1.0\n",
        "print(adjacency_matrix.getnnz())\n",
        "for edge in G.edges():\n",
        "  degree_v1 = adjacency_matrix[edge[0],edge[0]]\n",
        "  degree_v2 = adjacency_matrix[edge[1],edge[1]]\n",
        "  total_deg = -1/(math.sqrt(degree_v1*degree_v2))\n",
        "  normal_laplacian[edge[0],edge[1]] = total_deg\n",
        "  normal_laplacian[edge[1],edge[0]] = total_deg\n",
        "  normal_laplacian[edge[0],edge[0]] = 1.0\n",
        "  normal_laplacian[edge[1],edge[1]] = 1.0\n",
        "print(normal_laplacian.getnnz())"
      ],
      "execution_count": 0,
      "outputs": [
        {
          "output_type": "stream",
          "text": [
            "(9877, 9877)\n",
            "61823\n",
            "61823\n"
          ],
          "name": "stdout"
        }
      ]
    },
    {
      "cell_type": "code",
      "metadata": {
        "id": "lFAGK2ngBs8J",
        "colab_type": "code",
        "outputId": "418112be-2ffd-40ee-ee65-182f4bd560f6",
        "colab": {
          "base_uri": "https://localhost:8080/",
          "height": 135
        }
      },
      "source": [
        "randomCommunities = []\n",
        "import random\n",
        "for i in range(1,12):\n",
        "  for j in range(0,2**i)\n",
        "    randomAllocation.append(set())\n",
        "  print(randomAllocation)\n",
        "  for j in range(len(connected_communities[0].nodes)):\n",
        "    randomAllocation[random.randint(0,9)].add(i)\n",
        "  print(randomAllocation)\n",
        "  print(mod_score(randomCommunities,connected_communities[0]))"
      ],
      "execution_count": 0,
      "outputs": [
        {
          "output_type": "error",
          "ename": "SyntaxError",
          "evalue": "ignored",
          "traceback": [
            "\u001b[0;36m  File \u001b[0;32m\"<ipython-input-1-e892e973f7f2>\"\u001b[0;36m, line \u001b[0;32m4\u001b[0m\n\u001b[0;31m    for j in range(0,2**i)\u001b[0m\n\u001b[0m                          ^\u001b[0m\n\u001b[0;31mSyntaxError\u001b[0m\u001b[0;31m:\u001b[0m invalid syntax\n"
          ]
        }
      ]
    },
    {
      "cell_type": "code",
      "metadata": {
        "id": "3uXSZxuPTBhW",
        "colab_type": "code",
        "colab": {}
      },
      "source": [
        "from scipy.sparse.linalg import eigsh\n",
        "eigenvalues, eigenvectors = eigsh(normal_laplacian, k=3, which='LA')"
      ],
      "execution_count": 0,
      "outputs": []
    },
    {
      "cell_type": "code",
      "metadata": {
        "id": "4DX9ZkLhJYwp",
        "colab_type": "code",
        "outputId": "ca6d511b-294c-4a08-c4f8-a13e75aaf14e",
        "colab": {
          "base_uri": "https://localhost:8080/",
          "height": 146
        }
      },
      "source": [
        "print(eigenvalues, eigenvectors)"
      ],
      "execution_count": 0,
      "outputs": [
        {
          "output_type": "stream",
          "text": [
            "[2.1199614  2.36349067 2.79871327] [[-9.15061315e-07  1.07356044e-05 -6.65583015e-06]\n",
            " [ 6.63902806e-06  2.99867080e-04 -1.64248510e-05]\n",
            " [-3.28998816e-08 -4.69438469e-04  1.54694368e-04]\n",
            " ...\n",
            " [-2.62571494e-17  8.82373560e-18 -5.69587718e-18]\n",
            " [ 9.73583763e-18 -1.95277320e-18 -7.77809827e-20]\n",
            " [ 2.06321026e-17 -9.25887552e-18  3.35054177e-19]]\n"
          ],
          "name": "stdout"
        }
      ]
    },
    {
      "cell_type": "markdown",
      "metadata": {
        "id": "5f1M8Dxh3_-C",
        "colab_type": "text"
      },
      "source": [
        "# Upload and Import Ground Truth If Testing That"
      ]
    },
    {
      "cell_type": "code",
      "metadata": {
        "id": "SfctObOkp24g",
        "colab_type": "code",
        "colab": {}
      },
      "source": [
        "# This is wrong doesn't input full adj list\n",
        "#GTruth = nx.read_adjlist('/content/drive/My Drive/com-youtube.all.cmty.txt',delimiter='\\t',nodetype=int)\n"
      ],
      "execution_count": 0,
      "outputs": []
    },
    {
      "cell_type": "markdown",
      "metadata": {
        "id": "Ffo1URbHJ15j",
        "colab_type": "text"
      },
      "source": [
        "# Running a Built In Algo"
      ]
    },
    {
      "cell_type": "code",
      "metadata": {
        "id": "P7edov1ecY4e",
        "colab_type": "code",
        "colab": {}
      },
      "source": [
        "connected_communities = sorted(list(nx.connected_component_subgraphs(G)),key=lambda x: -1*len(x.nodes()));"
      ],
      "execution_count": 0,
      "outputs": []
    },
    {
      "cell_type": "code",
      "metadata": {
        "id": "c2R484znJ1VM",
        "colab_type": "code",
        "outputId": "37d1d55e-8ac1-4c81-e611-5390a227b218",
        "colab": {
          "base_uri": "https://localhost:8080/",
          "height": 105
        }
      },
      "source": [
        "import networkx.algorithms.community as algos\n",
        "values = {}\n",
        "\n",
        "from collections import Counter\n",
        "from networkx.exception import NetworkXError\n",
        "from networkx.algorithms.components import is_connected\n",
        "from networkx.utils import groups\n",
        "from networkx.utils import not_implemented_for\n",
        "from random import shuffle\n",
        "from random import choice\n",
        "def alternate_async_flow(G, k, max_iter=100, seed=None):\n",
        "  max_density = 1.0\n",
        "  vertices = list(G)\n",
        "  shuffle(vertices)\n",
        "  communities = {n: i for i, n in enumerate(vertices[:k])}\n",
        "  com_to_numvertices = {}\n",
        "  for vertex in communities.keys():\n",
        "      com_to_numvertices[communities[vertex]] = 1\n",
        "  # Set up control variables and start iterating\n",
        "  iter_count = 0\n",
        "  cont = True\n",
        "  while cont:\n",
        "      cont = False\n",
        "      iter_count += 1\n",
        "      # Loop over all vertices in graph in a random order\n",
        "      vertices = list(G)\n",
        "      shuffle(vertices)\n",
        "      for vertex in vertices:\n",
        "          # Updating rule\n",
        "          com_counter = Counter()\n",
        "          # Take into account self vertex community\n",
        "          try:\n",
        "              com_counter.update({communities[vertex]:\n",
        "                                  1})\n",
        "          except KeyError:\n",
        "              pass\n",
        "          # Gather neighbour vertex communities\n",
        "          for v in G[vertex]:\n",
        "              try:\n",
        "                  com_counter.update({communities[v]:\n",
        "                                      1})\n",
        "              except KeyError:\n",
        "                  continue\n",
        "                  \n",
        "          #My Code, modifys com_counter\n",
        "          computed = {}\n",
        "          for key in com_counter.keys():\n",
        "            computed[key] = 1 / (1 - math.log(com_counter[key]) + math.log(com_to_numvertices[key]))\n",
        "          # Check which is the community with highest density\n",
        "          new_com = -1\n",
        "          if len(computed.keys()) > 0:\n",
        "              max_freq = max(computed.values())\n",
        "              best_communities = [com for com, freq in computed.items()\n",
        "                                  if (max_freq - freq) < 0.0001]\n",
        "              # If actual vertex com in best communities, it is preserved\n",
        "              try:\n",
        "                  if communities[vertex] in best_communities:\n",
        "                      new_com = communities[vertex]\n",
        "              except KeyError:\n",
        "                  pass\n",
        "              # If vertex community changes...\n",
        "              if new_com == -1:\n",
        "                  # Set flag of non-convergence\n",
        "                  cont = True\n",
        "                  # Randomly chose a new community from candidates\n",
        "                  new_com = choice(best_communities)\n",
        "                  # Update previous community status\n",
        "                  try:\n",
        "                      com_to_numvertices[communities[vertex]] -= 1\n",
        "                  except KeyError:\n",
        "                      pass\n",
        "                  # Update new community status\n",
        "                  communities[vertex] = new_com\n",
        "                  com_to_numvertices[communities[vertex]] += 1\n",
        "      # If maximum iterations reached --> output actual results\n",
        "      if iter_count > max_iter:\n",
        "          break\n",
        "  # Return results by grouping communities as list of vertices\n",
        "  return iter(groups(communities).values())\n",
        "\n",
        "import time\n",
        "\n",
        "totalScoreOriginal = {}\n",
        "totalScoreNew = {}\n",
        "totalTimeOriginal = {}\n",
        "totalTimeNew = {}\n",
        "numTrials = 2\n",
        "scalingFactor = 2\n",
        "maxKTrials = 10\n",
        "for k in (scalingFactor**i for i in range(maxKTrials)):\n",
        "  result = 0\n",
        "  result2 = 0\n",
        "  timeStart =0\n",
        "  timeStart2 = 0\n",
        "  for _ in range(0, numTrials):\n",
        "    timeStart -= time.time()\n",
        "    result_t = [obj for obj in algos.asyn_fluid.asyn_fluidc(connected_communities[0],10)]\n",
        "    timeStart += time.time()\n",
        "    result += mod_score(result_t,connected_communities[0])\n",
        "    timeStart2 -= time.time()\n",
        "    result_t = [obj for obj in alternate_async_flow(connected_communities[0],10)]\n",
        "    timeStart2 += time.time()\n",
        "    result2 += mod_score(result_t,connected_communities[0])\n",
        "  totalScoreOriginal[k] = result/numTrials\n",
        "  totalScoreNew[k] = result2/numTrials\n",
        "  totalTimeOriginal[k] = timeStart/numTrials\n",
        "  totalTimeNew[k] = timeStart2/numTrials\n",
        "print(totalScoreOriginal)\n",
        "print(totalScoreNew)\n",
        "print(totalTimeOriginal)\n",
        "print(totalTimeNew)"
      ],
      "execution_count": 0,
      "outputs": [
        {
          "output_type": "stream",
          "text": [
            "{1: 0.849865515332184, 2: 0.8560053376592021, 4: 0.8337211281096079, 8: 0.8380457733074562, 16: 0.8483339287155796, 32: 0.859093971650073, 64: 0.846213186802194, 128: 0.8532197168607026, 256: 0.8465364034428189, 512: 0.8534883835420928}\n",
            "{1: 0.8460518727403272, 2: 0.846303605466686, 4: 0.8530868312877853, 8: 0.839978756024679, 16: 0.8565606262627022, 32: 0.8369572762321403, 64: 0.8500865093061782, 128: 0.8526771720206354, 256: 0.8515831276362018, 512: 0.8522494277226863}\n",
            "{1: 1.5884071588516235, 2: 1.5331826210021973, 4: 1.702642798423767, 8: 1.6950269937515259, 16: 1.4934841394424438, 32: 1.6914092302322388, 64: 2.0396759510040283, 128: 2.056843400001526, 256: 2.5225762128829956, 512: 1.3409879207611084}\n",
            "{1: 1.653939962387085, 2: 1.861702799797058, 4: 1.5613210201263428, 8: 1.669481635093689, 16: 1.5409210920333862, 32: 1.5442808866500854, 64: 1.737174391746521, 128: 2.2227230072021484, 256: 1.8612662553787231, 512: 1.715139627456665}\n"
          ],
          "name": "stdout"
        }
      ]
    },
    {
      "cell_type": "code",
      "metadata": {
        "id": "FHSOWbiKGTOY",
        "colab_type": "code",
        "outputId": "4313da5c-b064-43d7-c16f-6ecaad7ce3a9",
        "colab": {
          "base_uri": "https://localhost:8080/",
          "height": 428
        }
      },
      "source": [
        "import random\n",
        "randomAllocation = []\n",
        "for i in range(0,10):\n",
        "  randomAllocation.append(set())\n",
        "print(randomAllocation)\n",
        "for i in range(len(connected_communities[0].nodes)):\n",
        "  randomAllocation[random.randint(0,9)].add(i)\n",
        "print(randomAllocation)\n",
        "print(mod_score(randomAllocation,connected_communities[0]))"
      ],
      "execution_count": 0,
      "outputs": [
        {
          "output_type": "stream",
          "text": [
            "[set(), set(), set(), set(), set(), set(), set(), set(), set(), set()]\n",
            "[{2050, 6148, 8200, 9, 10, 2062, 6158, 8208, 6161, 20, 2069, 4118, 6164, 8221, 8223, 8224, 8225, 4130, 4133, 8233, 2094, 47, 48, 6196, 4149, 4150, 6199, 56, 57, 6201, 59, 60, 2109, 4156, 4157, 2112, 65, 6210, 8263, 4169, 2125, 84, 2133, 4180, 6228, 6231, 4186, 6237, 94, 95, 98, 101, 2150, 103, 104, 6245, 2154, 8295, 8300, 6255, 112, 2160, 2162, 8303, 8307, 6264, 2173, 4221, 8319, 2177, 2178, 8321, 8326, 2183, 6280, 8329, 139, 4235, 2190, 6289, 147, 2195, 4247, 6295, 6296, 8346, 2203, 4252, 157, 2205, 6137, 160, 4256, 4257, 6303, 8350, 6313, 170, 2218, 4266, 4268, 4272, 179, 180, 8373, 183, 6328, 6329, 2234, 187, 4283, 8378, 8380, 191, 4287, 8381, 8387, 2251, 4300, 4304, 2259, 4308, 6356, 8403, 8404, 6360, 8410, 219, 220, 6363, 8412, 225, 4328, 8426, 235, 2285, 239, 2289, 4337, 8437, 6391, 2298, 8442, 6398, 2303, 2305, 8450, 4357, 264, 266, 2314, 4363, 6413, 2318, 272, 273, 6417, 6423, 6425, 4378, 6429, 4382, 6432, 6436, 2343, 297, 8489, 4395, 2352, 309, 4410, 315, 4412, 8506, 6462, 6463, 2373, 8521, 330, 2379, 2383, 2393, 346, 4442, 348, 8537, 8538, 6495, 4448, 353, 2401, 8539, 358, 2407, 6503, 8552, 363, 4460, 8559, 2416, 8560, 2420, 6516, 8567, 2424, 4475, 2428, 381, 8575, 4480, 2433, 8578, 6533, 2439, 8583, 8584, 8592, 8593, 2450, 4499, 4502, 2455, 2456, 409, 4503, 411, 4507, 6553, 4510, 8601, 8603, 2472, 8618, 430, 8624, 8626, 2485, 2486, 2487, 441, 6585, 450, 4547, 452, 4548, 4549, 4551, 2504, 6600, 2507, 6604, 6608, 2515, 469, 2520, 2521, 6618, 2523, 2530, 4580, 4581, 486, 488, 4587, 2540, 493, 6644, 4598, 2552, 2556, 4605, 6656, 4610, 8244, 4622, 6673, 2582, 4632, 2587, 540, 541, 544, 6688, 2599, 4647, 4649, 4650, 2605, 4655, 4656, 563, 2616, 569, 2617, 6712, 573, 4670, 575, 576, 6717, 2626, 4676, 4677, 2631, 4679, 6731, 592, 2641, 594, 595, 596, 2643, 2646, 2644, 4693, 4694, 4697, 6749, 2654, 2656, 4707, 4710, 4715, 6766, 6767, 633, 634, 6781, 2687, 6783, 641, 2689, 643, 4739, 646, 2695, 2696, 6791, 6792, 4747, 6793, 4750, 2704, 2706, 659, 2708, 2709, 2713, 6810, 672, 2720, 2722, 2727, 4778, 4780, 2734, 687, 688, 4788, 2743, 4792, 697, 4798, 704, 2754, 6851, 708, 711, 4809, 2765, 718, 719, 4816, 6871, 6872, 729, 6873, 2785, 4833, 4835, 2790, 4848, 753, 2803, 2806, 4854, 2810, 6914, 2820, 773, 777, 4880, 2834, 789, 2843, 4891, 799, 6945, 802, 4902, 807, 809, 2857, 2860, 6957, 2862, 815, 817, 4913, 4916, 823, 6968, 828, 4928, 2881, 4929, 6977, 836, 6980, 6981, 2893, 2912, 4961, 867, 869, 871, 872, 2926, 2928, 884, 885, 4983, 7033, 7036, 2949, 2950, 5004, 5006, 913, 5010, 5013, 5018, 5020, 2973, 7070, 5028, 2983, 7080, 938, 2990, 5038, 2993, 5045, 950, 3003, 959, 7103, 3009, 7106, 3011, 7110, 971, 3020, 973, 976, 982, 3034, 3036, 5087, 993, 5090, 7137, 7143, 7147, 3054, 5106, 1012, 5109, 1016, 3065, 3066, 5112, 5115, 5116, 5119, 3072, 7169, 1027, 1037, 1040, 1043, 5140, 7200, 3105, 1060, 1061, 7206, 1065, 5163, 3120, 3125, 5173, 5174, 1080, 7223, 7233, 7235, 3142, 3143, 5191, 5195, 7244, 1101, 5197, 7247, 3153, 5202, 7254, 1111, 1112, 1113, 5208, 5210, 7261, 5215, 3168, 3169, 5216, 7267, 3172, 5220, 7269, 3176, 5226, 5231, 3189, 1142, 5238, 3198, 5251, 1160, 7304, 7306, 5259, 1167, 1170, 7316, 7318, 5279, 5281, 5293, 7342, 1200, 1203, 3252, 3253, 1208, 1219, 7363, 3269, 5320, 7369, 1226, 7375, 1232, 3280, 3284, 7380, 1238, 7383, 7384, 7387, 1244, 3299, 3300, 5356, 3310, 5365, 7415, 5368, 1275, 3323, 5374, 7422, 1280, 7425, 7431, 3336, 1289, 7433, 7435, 7437, 1297, 5397, 7452, 3357, 7459, 1316, 5415, 5416, 3370, 1323, 3371, 1329, 5425, 3380, 7477, 3384, 3387, 7484, 1341, 1342, 5438, 3392, 7490, 7493, 7494, 3402, 5454, 3407, 1361, 5457, 7508, 1368, 7515, 5468, 3421, 1377, 7521, 1388, 1389, 3436, 3444, 1400, 5498, 3454, 7553, 3459, 3462, 5511, 5519, 7567, 3473, 7568, 7569, 7570, 3480, 3485, 1440, 3489, 3490, 5545, 1452, 7599, 1458, 1459, 1460, 5556, 7604, 7610, 5563, 3516, 3522, 7620, 1477, 5574, 7621, 7622, 7626, 7628, 5589, 1494, 3548, 7648, 5608, 1517, 1526, 7671, 7672, 5625, 7673, 1536, 5632, 1538, 1539, 3588, 1541, 5636, 5638, 7689, 1548, 3596, 7697, 7702, 5655, 3608, 5659, 3612, 5668, 7719, 1577, 1587, 7733, 5689, 7743, 1600, 7745, 1603, 1608, 5704, 7754, 3659, 7758, 7759, 1617, 7763, 3669, 7765, 1623, 5719, 3673, 1626, 5722, 7767, 3679, 5728, 3681, 7778, 7780, 3686, 1640, 5738, 7787, 1647, 3696, 7794, 7797, 5754, 7804, 3711, 5760, 5762, 3716, 5769, 3724, 3725, 1678, 1679, 3727, 5775, 5778, 7820, 1691, 5788, 7845, 1703, 7849, 5810, 1715, 5812, 7860, 7861, 7863, 7866, 3771, 5820, 7868, 5824, 3779, 1733, 5830, 3795, 3797, 5849, 1754, 3807, 1761, 1762, 5858, 5860, 5865, 5870, 5872, 3826, 5876, 7924, 3830, 1784, 1786, 5883, 1788, 3838, 1791, 3842, 3845, 3846, 7941, 7946, 1803, 5903, 7951, 7953, 3858, 7956, 3861, 3863, 5915, 1821, 1831, 7976, 7979, 1836, 7980, 3886, 3896, 7993, 5951, 3906, 5954, 5965, 8013, 1871, 1873, 3921, 3923, 8018, 3926, 8023, 8024, 1881, 1888, 3938, 5987, 1894, 8039, 1897, 1898, 8042, 1903, 5999, 1909, 3957, 6006, 3961, 3963, 6012, 8059, 3969, 8068, 3973, 6022, 3976, 6026, 6030, 6031, 8078, 6033, 6034, 3989, 6038, 6039, 1944, 8096, 6049, 6051, 8102, 4007, 6055, 1961, 8111, 8112, 6065, 6070, 1976, 6075, 6081, 4034, 1992, 8139, 6096, 2008, 4057, 8159, 8163, 8164, 8167, 2028, 6125, 2030, 2031, 8181, 2039, 2041, 4090, 6142, 6143}, {2049, 2, 8194, 8195, 8197, 6152, 14, 8210, 19, 26, 4123, 8220, 4125, 30, 34, 35, 8226, 8228, 8229, 4135, 8230, 2089, 6185, 43, 4139, 6188, 8235, 6193, 55, 8247, 8249, 6206, 4159, 4160, 8255, 8256, 2116, 6213, 4166, 6214, 6216, 8262, 2122, 4170, 4171, 8269, 2128, 4176, 83, 6227, 2135, 88, 89, 90, 2136, 2139, 4184, 4188, 8283, 6241, 2146, 8289, 6244, 2149, 102, 4200, 8299, 4205, 8301, 2161, 4213, 120, 121, 4216, 6270, 6274, 8324, 4236, 141, 4237, 143, 6288, 2193, 4244, 2198, 8343, 2200, 6306, 167, 172, 6316, 2226, 184, 2232, 186, 8377, 4294, 2247, 8390, 8391, 2253, 2256, 211, 4307, 8406, 4311, 6359, 4314, 2269, 6366, 6367, 2273, 6369, 8418, 233, 6378, 237, 8429, 2287, 2288, 8436, 246, 247, 4344, 8439, 6395, 2300, 253, 8444, 4352, 4355, 4362, 4366, 2321, 4375, 2328, 286, 8478, 2348, 301, 8494, 2351, 304, 4400, 306, 6448, 8497, 2358, 320, 2375, 6472, 6477, 6478, 336, 2387, 4436, 4441, 6492, 6496, 6498, 2403, 356, 8554, 364, 369, 6514, 8563, 8566, 4472, 6520, 6524, 4477, 382, 2434, 8579, 2436, 395, 8587, 397, 4493, 4495, 4498, 8599, 410, 6557, 8606, 4512, 8609, 418, 4515, 420, 4517, 2471, 4521, 426, 4523, 2478, 6576, 8627, 8633, 442, 4539, 8636, 445, 6589, 6591, 2498, 2503, 4554, 6602, 4556, 6603, 462, 465, 6609, 6623, 6624, 4578, 484, 2532, 4586, 6635, 6637, 2544, 6643, 2551, 6649, 2554, 4603, 6650, 4607, 516, 6661, 2566, 6663, 526, 527, 2574, 2580, 533, 4629, 6677, 6687, 2593, 2596, 4644, 4646, 6695, 552, 2601, 554, 2609, 564, 6710, 6715, 4668, 578, 2634, 587, 589, 6733, 6734, 6740, 600, 2653, 6751, 4705, 610, 611, 6762, 6764, 4718, 2671, 4720, 628, 630, 631, 632, 6777, 4732, 6782, 640, 6784, 2694, 4743, 6790, 2705, 6801, 2707, 4757, 2711, 6811, 674, 2723, 2724, 678, 680, 681, 683, 689, 2738, 6837, 2744, 703, 6857, 2768, 727, 2778, 4834, 739, 740, 6885, 4839, 2792, 4843, 749, 2797, 4845, 4849, 4852, 4853, 759, 760, 6905, 4860, 772, 2823, 780, 4878, 6929, 786, 4882, 2838, 791, 6936, 793, 6937, 6938, 796, 801, 4898, 6953, 810, 4907, 812, 4908, 4910, 6954, 6960, 818, 4917, 4919, 824, 2872, 6971, 2878, 4927, 4930, 6985, 842, 6986, 6990, 850, 852, 856, 4953, 4955, 4958, 4964, 2918, 7014, 4969, 4970, 2923, 4972, 877, 7019, 2930, 883, 2932, 2934, 7035, 897, 898, 2945, 2947, 4997, 4999, 7047, 2958, 2962, 918, 7062, 2968, 5017, 924, 2972, 5026, 7076, 940, 5037, 7096, 5050, 7099, 5054, 3008, 7104, 962, 3010, 3013, 5062, 967, 969, 5065, 3021, 5070, 3023, 7120, 979, 7123, 983, 3031, 5085, 992, 7141, 998, 1002, 1003, 1005, 7149, 5103, 7152, 1010, 7156, 3061, 7158, 5111, 3064, 7163, 7164, 1024, 5122, 7171, 3078, 7175, 1032, 3080, 3081, 3087, 5136, 3089, 5138, 5139, 5141, 3095, 7197, 1057, 5156, 3109, 5159, 3112, 5161, 7213, 5169, 1075, 3124, 5172, 5175, 3128, 5185, 3138, 5193, 3146, 3166, 5217, 5219, 7268, 1125, 1126, 3177, 7275, 5239, 7287, 5244, 7292, 7293, 7294, 7295, 5249, 5252, 3207, 7303, 1165, 7309, 7310, 1168, 3216, 5265, 3219, 5268, 3225, 1180, 3228, 3232, 1187, 7335, 3240, 7336, 3242, 1196, 3244, 5292, 5299, 7351, 5305, 7354, 1215, 5317, 3273, 5322, 5323, 5324, 7374, 3279, 5327, 7376, 7377, 7378, 1240, 5338, 1245, 1246, 5342, 7390, 5346, 5349, 7398, 3303, 3311, 3312, 1265, 7407, 7412, 5367, 1272, 1273, 3321, 5369, 5370, 7423, 5378, 5381, 5384, 3341, 7442, 7444, 7449, 3355, 7456, 1318, 7463, 1326, 5428, 3381, 5432, 7482, 3388, 3395, 3399, 1353, 5450, 5451, 3404, 3406, 1359, 3408, 3410, 3411, 5458, 3420, 3423, 7523, 5478, 7528, 1392, 1394, 5492, 1402, 5500, 1406, 1410, 3458, 1413, 3461, 7562, 3467, 5516, 5526, 1431, 5536, 3492, 3499, 7595, 5558, 3511, 3513, 7609, 3517, 7613, 7625, 1482, 5580, 5582, 3538, 3542, 7642, 1500, 3549, 7647, 3553, 3555, 1510, 5607, 1514, 3563, 1516, 1519, 3567, 3572, 3573, 7670, 3575, 5623, 1531, 5639, 7691, 7699, 3605, 5654, 7703, 7706, 7707, 1564, 3613, 1569, 3617, 5669, 5670, 7721, 3627, 3631, 3632, 7730, 3635, 3636, 1592, 7736, 3643, 5692, 7740, 1607, 5706, 1611, 3662, 7761, 1619, 7764, 5720, 5724, 7773, 7776, 1635, 3687, 3688, 3689, 5735, 7783, 7789, 3694, 1658, 1659, 5757, 7807, 3712, 7811, 1669, 3721, 3723, 5777, 5779, 1687, 1688, 1690, 5790, 3743, 7838, 7839, 3750, 5798, 7848, 3755, 5803, 5805, 5808, 5811, 7872, 7880, 3785, 1740, 3788, 7886, 3791, 1750, 5847, 7898, 3803, 5851, 3805, 5852, 7905, 3813, 7914, 5867, 3820, 7917, 1775, 3824, 1778, 1781, 5881, 1789, 3837, 5885, 1792, 7933, 7935, 7938, 5899, 7948, 7949, 5904, 5909, 1814, 7957, 7958, 3866, 1820, 5919, 5920, 7971, 5925, 1835, 7983, 3889, 5937, 5939, 1844, 3902, 1857, 3905, 1859, 1864, 5963, 8011, 8014, 1872, 5969, 3922, 8017, 5972, 1877, 3929, 5978, 8027, 3932, 1885, 3942, 1899, 8044, 8046, 8051, 8053, 8055, 3962, 1915, 8063, 1920, 8066, 6020, 1926, 8072, 3978, 6027, 6032, 3985, 6037, 3990, 1943, 3992, 4002, 8099, 4005, 1959, 8104, 4010, 8106, 6061, 8110, 1970, 6067, 8114, 4024, 1983, 1984, 4032, 6084, 4037, 4040, 4042, 8138, 8149, 2009, 2018, 4068, 6116, 4073, 8169, 8171, 6126, 8179, 8180, 6136, 2045, 8190}, {8196, 2054, 8199, 6153, 4111, 6160, 2066, 2067, 2068, 2071, 24, 6167, 2075, 6171, 4126, 31, 2083, 4132, 2087, 8231, 8237, 2095, 4146, 6197, 8250, 6203, 6204, 6205, 64, 2115, 4163, 4164, 4165, 8259, 72, 2121, 2126, 81, 2134, 87, 6232, 4185, 91, 92, 2142, 4193, 4197, 6246, 4199, 4201, 4202, 110, 2158, 4207, 4208, 8306, 2163, 8309, 4214, 2171, 125, 129, 132, 2180, 134, 135, 136, 4228, 8325, 2188, 145, 6290, 2196, 4246, 6294, 153, 4249, 6299, 156, 158, 162, 2210, 6307, 2214, 6140, 176, 8368, 181, 4277, 8376, 4284, 4285, 6333, 8382, 195, 4292, 4297, 4298, 8398, 4303, 209, 2263, 2264, 4312, 4313, 2270, 4319, 224, 8414, 2274, 229, 231, 8424, 8188, 8432, 242, 245, 6393, 6397, 254, 2302, 2304, 4350, 8448, 259, 261, 2310, 8458, 8462, 6418, 276, 2324, 4374, 279, 280, 8472, 8473, 285, 288, 8480, 8485, 4390, 6447, 4401, 8500, 2357, 8502, 4407, 312, 8507, 2366, 319, 8512, 2370, 323, 2371, 4421, 326, 4423, 6467, 8515, 8518, 8526, 335, 6480, 6481, 338, 6484, 8534, 8535, 347, 8540, 6493, 4447, 352, 8544, 4450, 8546, 6501, 4454, 2413, 6510, 8557, 2419, 4473, 4474, 2427, 6525, 2431, 384, 8576, 387, 6997, 390, 6537, 6538, 396, 2445, 6545, 404, 6548, 407, 2458, 6555, 8604, 415, 8607, 417, 2466, 421, 6565, 424, 8616, 6571, 429, 4530, 437, 4537, 444, 4543, 4544, 453, 6598, 455, 6615, 474, 2522, 6620, 479, 2528, 6626, 6627, 2535, 489, 4591, 4592, 4599, 6648, 509, 2561, 6658, 4612, 522, 2571, 2572, 4618, 4623, 530, 4627, 2581, 537, 2589, 542, 2590, 2592, 4642, 6691, 6692, 4648, 4651, 556, 2606, 561, 4661, 2614, 2615, 577, 6722, 2632, 6729, 4683, 588, 4686, 4692, 6744, 6745, 4700, 4702, 607, 6754, 2662, 4712, 6763, 622, 4719, 6770, 6774, 6775, 2682, 635, 636, 6779, 4735, 6786, 6794, 653, 6800, 662, 665, 667, 4765, 670, 6815, 6824, 4783, 690, 2740, 695, 6841, 6842, 2751, 4805, 714, 4812, 2767, 722, 4822, 2776, 2779, 2780, 4831, 6880, 6881, 2786, 4837, 6892, 750, 2799, 4850, 6902, 6903, 762, 4862, 4863, 2816, 6912, 2821, 774, 4870, 776, 2825, 4871, 783, 6930, 4884, 6934, 2841, 794, 2847, 4897, 2854, 2855, 4903, 4904, 2859, 2861, 820, 2870, 6967, 829, 6975, 834, 838, 2886, 6982, 6984, 2890, 4939, 6989, 4942, 6994, 2899, 6996, 4949, 854, 855, 4950, 4951, 4952, 2907, 2908, 4957, 2910, 7002, 2915, 7013, 870, 4968, 873, 2921, 875, 2924, 2931, 4980, 7032, 2941, 2942, 2943, 4989, 2952, 2959, 5007, 914, 2969, 921, 5019, 7068, 5021, 5023, 7077, 934, 5031, 936, 2984, 2985, 942, 2996, 7094, 951, 5049, 956, 7100, 5068, 5071, 978, 7122, 3028, 981, 7126, 3032, 988, 994, 7138, 3044, 997, 5092, 1001, 7145, 5099, 1009, 7155, 7161, 7165, 5120, 7178, 5137, 3093, 1046, 5143, 7189, 5147, 7196, 3101, 7201, 5154, 1068, 5164, 3122, 5171, 5176, 1083, 5180, 5182, 3136, 5184, 5186, 7241, 1103, 5200, 1105, 3155, 1109, 5209, 3162, 3164, 1124, 3173, 5222, 1137, 1143, 7289, 5242, 5247, 1152, 3202, 1166, 3215, 3230, 5278, 5280, 3233, 3236, 7337, 5290, 1195, 1197, 1199, 7347, 7349, 5303, 5304, 7352, 5306, 5308, 1218, 3266, 1220, 5315, 5321, 1228, 5331, 1236, 3285, 7386, 1243, 3295, 5344, 1249, 7397, 5350, 3307, 1260, 3309, 1262, 5357, 7403, 3315, 7413, 1270, 3319, 7418, 5371, 3324, 3325, 1278, 3327, 3330, 1284, 1290, 1291, 1292, 1293, 5390, 3343, 7436, 7443, 1300, 5398, 7447, 1310, 1311, 5407, 5409, 5412, 7462, 5418, 7467, 1324, 5421, 1328, 3389, 5437, 5439, 1345, 3394, 3396, 1349, 1352, 1357, 5461, 5462, 1367, 3415, 5464, 7516, 1374, 5473, 3426, 7522, 3434, 7530, 3437, 7536, 3441, 5490, 1395, 7537, 3445, 1399, 7543, 3449, 1405, 5509, 7559, 3465, 5514, 1419, 7564, 1422, 5521, 1432, 1434, 5530, 1436, 7578, 1438, 3488, 1443, 3494, 3503, 3508, 1469, 3518, 3519, 5565, 3521, 1474, 5569, 3524, 5570, 1478, 3526, 1481, 3532, 3534, 7634, 3544, 7644, 1506, 3556, 1512, 5609, 7656, 7661, 7662, 3569, 3571, 1524, 5622, 5630, 1535, 7679, 7680, 1540, 7686, 1546, 1547, 7693, 3599, 1553, 5651, 1556, 7700, 5658, 1566, 5662, 7711, 1573, 7722, 5678, 1585, 5682, 7729, 1591, 5687, 3641, 5701, 3656, 3660, 3661, 1614, 1618, 3668, 1621, 5718, 1624, 3674, 3675, 5730, 5731, 1638, 7788, 3693, 5741, 5744, 3697, 3699, 7796, 5750, 5752, 5759, 7819, 7823, 1680, 7825, 7826, 1683, 7827, 5781, 7828, 3736, 1692, 3742, 1697, 3745, 5795, 5797, 1702, 1704, 3752, 7851, 1711, 1716, 5818, 7867, 7870, 5823, 7873, 5832, 3786, 1743, 7890, 5846, 1752, 3801, 7897, 1757, 5854, 5856, 5859, 3812, 1776, 5874, 3827, 1780, 1782, 7929, 5886, 7934, 5890, 7939, 1808, 3857, 1810, 5908, 1816, 3864, 1822, 1825, 3874, 5921, 7969, 1829, 1830, 7973, 7982, 1840, 1842, 7986, 1845, 1847, 1850, 3898, 3899, 3903, 8001, 5958, 8010, 5967, 8016, 1875, 5976, 8026, 5980, 3935, 8037, 8040, 3956, 1911, 1917, 6014, 8062, 6016, 1923, 3972, 6019, 8070, 1929, 1931, 8075, 1938, 6042, 1949, 6045, 8095, 1952, 4001, 1956, 1966, 4015, 4020, 4029, 8128, 8135, 6092, 1997, 1999, 6098, 4051, 6099, 6101, 8148, 4056, 2012, 8160, 4065, 6114, 2019, 8165, 2023, 8168, 6121, 2026, 4076, 2029, 8172, 8176, 4083, 8184, 6139, 2044, 8191}, {0, 1, 4098, 6150, 4106, 8204, 13, 2061, 4115, 8211, 21, 6168, 25, 8216, 8217, 6182, 4136, 8234, 44, 4140, 4142, 6191, 50, 2104, 4154, 8251, 2108, 6209, 2114, 67, 8260, 2120, 74, 6219, 4172, 77, 4173, 6223, 8266, 8267, 8268, 2131, 8275, 8276, 4088, 2138, 2140, 96, 6242, 8294, 105, 106, 4203, 6251, 109, 8297, 8298, 8302, 8304, 4210, 6259, 2170, 6266, 6267, 8316, 2174, 8317, 4224, 8328, 2186, 8334, 149, 152, 4251, 6300, 6301, 8347, 2207, 8355, 2216, 2217, 8363, 8365, 6318, 177, 178, 6323, 8371, 2229, 8374, 4279, 4282, 2237, 4290, 6339, 2244, 6340, 2246, 199, 2248, 6343, 8388, 203, 8397, 8399, 6353, 212, 213, 2261, 8407, 6361, 218, 6362, 8411, 2272, 4321, 4322, 2276, 6372, 8422, 6375, 6380, 2290, 243, 4346, 4347, 252, 2301, 6394, 258, 6402, 4356, 6405, 8451, 8453, 4360, 265, 4365, 6419, 278, 8474, 2334, 2336, 4385, 290, 8483, 8487, 296, 2345, 4392, 8492, 8498, 4403, 8499, 8503, 2360, 314, 8510, 2367, 4416, 8511, 4418, 2372, 8520, 4425, 2378, 8523, 332, 4429, 8529, 6482, 8531, 341, 342, 4437, 4439, 6489, 8533, 2397, 8541, 2399, 2402, 6499, 6500, 8548, 6502, 8549, 6505, 2410, 8553, 4462, 370, 8562, 372, 374, 4470, 6519, 2425, 378, 6521, 8574, 4479, 2437, 4490, 4491, 6539, 8589, 8591, 402, 8597, 6550, 6554, 412, 4518, 2474, 8619, 6572, 6575, 8623, 2481, 434, 4529, 6577, 2489, 2490, 443, 4538, 8635, 4542, 449, 2502, 4552, 6605, 464, 6612, 4565, 4566, 6613, 6616, 475, 480, 2529, 4576, 6628, 487, 4583, 4585, 2538, 491, 492, 498, 2548, 501, 4600, 506, 512, 2562, 4614, 6665, 524, 2577, 534, 2583, 2585, 4635, 4643, 4645, 6697, 6700, 559, 6705, 562, 2610, 4658, 4660, 6708, 6711, 6714, 2623, 4675, 6725, 583, 4681, 590, 593, 6739, 597, 6742, 599, 4695, 6743, 4701, 613, 616, 6760, 2668, 2669, 2670, 6769, 4722, 627, 4723, 2679, 4729, 2686, 2688, 4740, 645, 4745, 4746, 4748, 2703, 658, 2710, 2715, 2716, 6813, 4770, 4771, 677, 4774, 6826, 2733, 686, 4782, 6830, 698, 2746, 4796, 6846, 706, 4803, 710, 4807, 6855, 6856, 2762, 4811, 6858, 717, 4818, 4821, 6876, 733, 735, 2784, 4832, 4836, 6896, 757, 2807, 2808, 761, 6906, 763, 2812, 6909, 4868, 6916, 6919, 4873, 2828, 4877, 782, 2831, 6927, 785, 4883, 4890, 795, 4892, 798, 2846, 2849, 6947, 806, 4905, 813, 816, 4912, 4922, 6970, 2876, 830, 832, 2882, 835, 6979, 2885, 840, 841, 4938, 843, 4940, 4941, 6988, 848, 2903, 7004, 7009, 4966, 2919, 874, 7020, 882, 4978, 4979, 7027, 4984, 2938, 2940, 7037, 895, 4994, 7043, 4996, 7046, 903, 2951, 5002, 7052, 909, 7057, 7058, 5012, 917, 919, 927, 7072, 929, 2977, 931, 2980, 5025, 2982, 935, 7075, 7079, 7084, 5040, 7098, 3005, 958, 5053, 5056, 7101, 963, 5061, 5063, 5064, 3017, 7114, 7115, 974, 7118, 977, 7121, 3027, 3033, 986, 5082, 5083, 7136, 5091, 5100, 5102, 1011, 1013, 1014, 7160, 5118, 7166, 7167, 1025, 5121, 1028, 7173, 7177, 5130, 1035, 5131, 7179, 7181, 1039, 7182, 7184, 1042, 1045, 1049, 1051, 5148, 5150, 7203, 5157, 5160, 5162, 7210, 7212, 5166, 1071, 7218, 7221, 1089, 7236, 5190, 7239, 5192, 3148, 1107, 5203, 5205, 3158, 5206, 7255, 1114, 1121, 5218, 7274, 3179, 5228, 7279, 1141, 5243, 3199, 5250, 3203, 3204, 3205, 5253, 1163, 3211, 3212, 5260, 7311, 7314, 7315, 1172, 3221, 3222, 1175, 7330, 1190, 7338, 5291, 3245, 3246, 3248, 5297, 7344, 3251, 3254, 3255, 3258, 3260, 3265, 7365, 1224, 1230, 3286, 5335, 5337, 5340, 3296, 3305, 1258, 5355, 5358, 5359, 1269, 5366, 1276, 1277, 1286, 5383, 1288, 5389, 3342, 5391, 7440, 3345, 3348, 3354, 5404, 5405, 3364, 5413, 7461, 3368, 7468, 3373, 7473, 1331, 7480, 3393, 5441, 7489, 1348, 3400, 3401, 3403, 1356, 5452, 5459, 5460, 5465, 5467, 1373, 7518, 1375, 1378, 3428, 1382, 1383, 1384, 5483, 7541, 1398, 5494, 3448, 7552, 5506, 7554, 1412, 5510, 7558, 1416, 5512, 5520, 1425, 7571, 5524, 1433, 3482, 7580, 5538, 7586, 5544, 7593, 3505, 7602, 1462, 5559, 1464, 7606, 7615, 1472, 7617, 3525, 5575, 7624, 5579, 1487, 5584, 3537, 5585, 7633, 7635, 3541, 7638, 3543, 1496, 3547, 5598, 5603, 7651, 3559, 3560, 7657, 3562, 7668, 3576, 5635, 1544, 7690, 7692, 3597, 5648, 7696, 7698, 3603, 3604, 1563, 5661, 3616, 1570, 1572, 1574, 3623, 7718, 7720, 1579, 5676, 1581, 5677, 7724, 5683, 1588, 5686, 5691, 7739, 7741, 3646, 7744, 1601, 7746, 7751, 1610, 5709, 1615, 1616, 5713, 3671, 5725, 5726, 1631, 3680, 5727, 5734, 1645, 7790, 3701, 1655, 3703, 3704, 3706, 5751, 5753, 5756, 1668, 7813, 5766, 1671, 5774, 3729, 7830, 3737, 5786, 7834, 5789, 1696, 5799, 1707, 7853, 3761, 3766, 3767, 5815, 3773, 5821, 3775, 7874, 5827, 3781, 7882, 1739, 7884, 3789, 3792, 5841, 3799, 7906, 5864, 5866, 5877, 7925, 1783, 3832, 1785, 3833, 1787, 3835, 5884, 5888, 7942, 5897, 3850, 3852, 5901, 7950, 7960, 7962, 1819, 7964, 7967, 1824, 3876, 5927, 5929, 3883, 5932, 1838, 1843, 3892, 5941, 5945, 3900, 3901, 3904, 5953, 1858, 8004, 1861, 5960, 1868, 3916, 1870, 3919, 5966, 8021, 5979, 1884, 8031, 1889, 5986, 8035, 3941, 8038, 8043, 1900, 1901, 5996, 8047, 6010, 8064, 1921, 8069, 3987, 3988, 6036, 8085, 8087, 1945, 3993, 6041, 8090, 8091, 6046, 1951, 4003, 1957, 6056, 4011, 1965, 8109, 4017, 6069, 8117, 1975, 6073, 6076, 8124, 6080, 8131, 4036, 8132, 1990, 4039, 1996, 8141, 6094, 6104, 2010, 2011, 6106, 4071, 6124, 2034, 2035, 6130, 2038, 6135, 2040, 4089, 8189, 4095}, {2048, 6147, 4100, 5, 4102, 2056, 2057, 2058, 11, 8203, 8207, 4112, 17, 4113, 4120, 6169, 2074, 28, 6173, 6176, 6177, 37, 6187, 6189, 46, 8239, 4144, 4145, 6194, 4148, 53, 2101, 8248, 2105, 2107, 62, 8254, 2113, 8258, 8261, 70, 4167, 8265, 2123, 8271, 80, 4178, 8278, 8281, 6236, 2144, 4194, 2147, 8291, 4198, 2151, 8296, 6249, 6250, 2157, 4206, 118, 2167, 4219, 4220, 6269, 128, 130, 6278, 6279, 6281, 8330, 6284, 2197, 8341, 151, 2199, 8342, 4253, 8349, 6304, 6309, 2215, 4263, 8362, 2219, 4267, 8364, 174, 2223, 4271, 4273, 6320, 6325, 4278, 6332, 2240, 193, 8385, 196, 197, 2250, 208, 4305, 6354, 8400, 6357, 2266, 8413, 222, 8415, 4320, 227, 228, 4323, 8419, 4331, 4332, 4333, 6379, 4335, 241, 6389, 4342, 4343, 248, 4345, 8440, 2299, 4353, 262, 8468, 4376, 8475, 8476, 8477, 6433, 4386, 292, 4388, 2342, 295, 298, 4396, 8495, 2353, 308, 6455, 4408, 4417, 6465, 324, 6468, 4422, 327, 2376, 331, 4427, 333, 334, 4431, 6479, 8524, 4435, 4440, 2394, 2395, 6490, 2398, 355, 2404, 357, 4452, 360, 4457, 6506, 6509, 6511, 2417, 6513, 4469, 6518, 377, 8569, 380, 4478, 386, 6530, 4484, 6534, 8582, 398, 399, 2447, 2448, 4494, 8590, 8595, 405, 2454, 6549, 4504, 4506, 6556, 414, 8610, 419, 6563, 8612, 8615, 6568, 4522, 4524, 8621, 6574, 4528, 433, 8625, 435, 4531, 6580, 2488, 6588, 8637, 2496, 2497, 2501, 6599, 459, 2508, 2510, 6606, 2512, 2513, 2514, 6607, 4570, 4577, 6625, 2534, 6630, 4589, 2542, 497, 499, 6653, 2560, 4608, 514, 6659, 519, 2569, 2573, 6670, 2576, 529, 4625, 531, 532, 4626, 6678, 6679, 6689, 2595, 6693, 553, 6702, 4659, 2612, 2613, 4662, 4663, 6707, 2618, 571, 572, 2620, 2621, 4671, 4672, 6716, 4674, 579, 2627, 6719, 584, 2633, 2635, 4685, 2640, 4690, 6741, 2649, 602, 6748, 2655, 6752, 2658, 2660, 6756, 2666, 2673, 626, 4725, 4727, 6778, 6785, 2691, 2692, 6789, 648, 651, 2700, 4751, 657, 660, 6804, 6806, 4759, 2712, 2714, 4763, 6812, 2718, 671, 6814, 2721, 675, 6820, 6821, 4779, 4781, 6829, 4785, 6833, 6836, 694, 2747, 6843, 4797, 2750, 6844, 6847, 707, 6854, 2761, 2766, 2771, 4820, 4829, 2783, 741, 6889, 4842, 2802, 6899, 4856, 764, 4861, 4865, 6913, 6915, 6917, 2824, 778, 2827, 4875, 4876, 6923, 4881, 6931, 4885, 790, 6933, 4888, 6939, 6940, 2845, 6941, 6943, 6946, 803, 2852, 805, 4899, 6948, 6951, 6952, 4909, 4911, 4915, 821, 822, 4918, 4926, 2879, 6976, 4932, 4934, 6983, 2891, 846, 2896, 849, 4944, 2902, 6999, 4960, 4963, 4973, 4974, 2929, 7025, 7026, 4981, 889, 890, 4985, 7038, 896, 899, 7048, 2957, 2960, 5015, 922, 7073, 932, 941, 5039, 2992, 2997, 7095, 5052, 960, 961, 968, 970, 3019, 3025, 5073, 5076, 7127, 7132, 5086, 5089, 7139, 3045, 7144, 1004, 3052, 3055, 3062, 3068, 1022, 3073, 5123, 7172, 5126, 5127, 1034, 5132, 3085, 5135, 3092, 3096, 3098, 3099, 7195, 5149, 3108, 1062, 1063, 3111, 3113, 3119, 7215, 3121, 7219, 7220, 3126, 7222, 3130, 1084, 1085, 1086, 3133, 5183, 7230, 3140, 3141, 5188, 7240, 1100, 3149, 5198, 3156, 5204, 5207, 7256, 7257, 7259, 7260, 7263, 1120, 1129, 1133, 7278, 5233, 3186, 1139, 3188, 5235, 3191, 5241, 1146, 1154, 3206, 1159, 7307, 3213, 5261, 1173, 5269, 5271, 5272, 5274, 5275, 5276, 5277, 1182, 1183, 1184, 7326, 7327, 7329, 1188, 7334, 5287, 1192, 5288, 5289, 3243, 5298, 1206, 1207, 7355, 7356, 3262, 7362, 7372, 7373, 5326, 1235, 5336, 7385, 7388, 3294, 1248, 5345, 7396, 5351, 5354, 7405, 7410, 1271, 5373, 7421, 3328, 5377, 1283, 3332, 7427, 7432, 5385, 5386, 7434, 3351, 7448, 1309, 5406, 3359, 3360, 7455, 1319, 1320, 7464, 7466, 1333, 5430, 3383, 1340, 3390, 7487, 5444, 3398, 5446, 7496, 5456, 3413, 7512, 7513, 5469, 3427, 3430, 3431, 7526, 3433, 7533, 7534, 1391, 3439, 3442, 3443, 5491, 3452, 3455, 1411, 7556, 7563, 1421, 5518, 3471, 3472, 3474, 1426, 5523, 3477, 7572, 7582, 1441, 3493, 5546, 1453, 7598, 5551, 5555, 7603, 5562, 1473, 5571, 1479, 3528, 3531, 1483, 1484, 7627, 7631, 3536, 1490, 1495, 7639, 1498, 7645, 1503, 3557, 7654, 7658, 5611, 7659, 3568, 1521, 5616, 7669, 7675, 1533, 5633, 5634, 3587, 3591, 1545, 5645, 3600, 7701, 3607, 5656, 3611, 5663, 5665, 3618, 3624, 1580, 5680, 5684, 7735, 7737, 7738, 1596, 5695, 3649, 7748, 7750, 5703, 7753, 5707, 7755, 5711, 5712, 7771, 1628, 5729, 3682, 1637, 7782, 1639, 1644, 3692, 5747, 1654, 1656, 1657, 3705, 5755, 1661, 5761, 7809, 5764, 5767, 1675, 7821, 5776, 3730, 5780, 1686, 5784, 5785, 3738, 5787, 5792, 3746, 3747, 7843, 7846, 3751, 7850, 1710, 3758, 7856, 5819, 1727, 1728, 1730, 1731, 3780, 5829, 7878, 7881, 3787, 1741, 5838, 7885, 1744, 7888, 1747, 1748, 3796, 3806, 1764, 3815, 5863, 3817, 1770, 1771, 5868, 7911, 7918, 3823, 7919, 1779, 7926, 7927, 3836, 7932, 1790, 3839, 5895, 5896, 3849, 7945, 5902, 5906, 1813, 5913, 5914, 3867, 5917, 3870, 7966, 5922, 7974, 3884, 1837, 3887, 3891, 7989, 5943, 3897, 5946, 8003, 1860, 5956, 3911, 8008, 1865, 8009, 1867, 3915, 5971, 5973, 5975, 3930, 1883, 8028, 5981, 3934, 5982, 3944, 8041, 3949, 6000, 8052, 3959, 1912, 3960, 3965, 6013, 6015, 3968, 6017, 3970, 6018, 1927, 3975, 6023, 6025, 8071, 8074, 1934, 1935, 3982, 1939, 1941, 1942, 6040, 8088, 6043, 8092, 3999, 4004, 8100, 4012, 6060, 8113, 1972, 4021, 4026, 4030, 1985, 4033, 1989, 6086, 4047, 6097, 2002, 2003, 6100, 2006, 2007, 4055, 4059, 2014, 2016, 2017, 8161, 6115, 4070, 6118, 4079, 4080, 6128, 4085, 4087, 6141}, {6144, 8192, 6146, 8193, 2053, 8198, 2055, 2059, 2060, 8205, 4110, 15, 6159, 8206, 4114, 8212, 22, 6166, 8215, 8218, 6174, 2079, 8222, 33, 4129, 6178, 2084, 6179, 6181, 6183, 2088, 4137, 8238, 2096, 2097, 51, 52, 2100, 58, 61, 4161, 8257, 69, 71, 6215, 73, 6221, 79, 8272, 4182, 4183, 6233, 6234, 4191, 4192, 4195, 100, 2148, 6243, 2155, 2156, 6252, 113, 8305, 4212, 8310, 4215, 8314, 124, 6268, 4222, 131, 137, 4234, 2187, 8332, 142, 4238, 8336, 4241, 8337, 4243, 6291, 8339, 2201, 2206, 161, 2213, 6315, 173, 4270, 2227, 2228, 4281, 4289, 6337, 6338, 8386, 200, 201, 6344, 8392, 2254, 207, 6350, 2257, 6351, 6355, 8401, 214, 217, 8409, 2267, 223, 2271, 6368, 6370, 4325, 2278, 6373, 6376, 2281, 8423, 8427, 236, 8428, 8430, 8431, 8433, 4338, 2294, 8438, 2296, 8441, 8443, 4349, 8447, 4354, 2307, 260, 2309, 8452, 263, 4359, 8457, 6411, 8460, 4367, 2320, 8463, 274, 8467, 4372, 2326, 281, 282, 2330, 2335, 4383, 289, 8481, 4387, 6437, 4394, 299, 6444, 303, 307, 6457, 2362, 8505, 322, 4419, 8514, 328, 2377, 4424, 6474, 4430, 337, 2385, 6483, 8530, 8532, 349, 4445, 351, 8547, 2406, 8551, 2408, 2409, 6504, 4459, 6507, 8555, 6512, 8561, 371, 4467, 4468, 6515, 375, 4471, 8570, 8573, 6526, 4481, 8577, 4483, 2438, 4486, 392, 6536, 394, 8588, 400, 2449, 4496, 4497, 6552, 4505, 8600, 2460, 8605, 8608, 6561, 8611, 2468, 8613, 422, 423, 425, 2475, 2476, 8622, 2479, 2480, 4527, 2483, 6579, 8628, 4535, 440, 4536, 8631, 2491, 8632, 4541, 6590, 447, 2495, 4545, 4546, 2499, 6594, 6595, 6596, 6597, 456, 461, 2509, 4560, 4561, 467, 2516, 472, 6617, 4572, 2531, 2533, 2539, 495, 4595, 503, 504, 505, 6651, 2558, 6657, 2564, 6662, 523, 4620, 4621, 6667, 6668, 6669, 2579, 4628, 4631, 538, 2600, 555, 567, 4665, 6713, 4667, 2625, 4673, 580, 6724, 6727, 2636, 6732, 4688, 6737, 6738, 4696, 2650, 604, 606, 6755, 615, 617, 6761, 4716, 6772, 2677, 2678, 2680, 2681, 4730, 4731, 642, 4741, 4742, 647, 4749, 2702, 4756, 6805, 4758, 4760, 6808, 6809, 4766, 4767, 6818, 6819, 2726, 6822, 2728, 2729, 6823, 6825, 4784, 6832, 4787, 693, 4793, 702, 6850, 4808, 4810, 720, 721, 6864, 6867, 724, 6869, 2775, 4823, 730, 6874, 2782, 6878, 6879, 2789, 742, 4838, 6886, 745, 2794, 747, 6888, 751, 6901, 2809, 4858, 765, 766, 2814, 2818, 771, 4866, 4874, 6924, 2830, 6926, 6928, 787, 6932, 2837, 4886, 4887, 2840, 6935, 2842, 6942, 800, 2851, 4901, 6961, 819, 4920, 6969, 6972, 4931, 839, 847, 2897, 4945, 2905, 859, 861, 7010, 2922, 7021, 7022, 7028, 2935, 2936, 7034, 2939, 892, 4987, 4988, 4990, 902, 904, 2953, 908, 910, 7055, 7056, 7059, 7061, 5014, 7063, 7067, 925, 7071, 2976, 5036, 7085, 7086, 945, 2994, 5043, 7090, 949, 2998, 2999, 7092, 3001, 7097, 955, 964, 3015, 7112, 3022, 7124, 5077, 3030, 984, 7131, 7135, 5088, 999, 1000, 5117, 7168, 7170, 3076, 5124, 3079, 7176, 3086, 3090, 1047, 1048, 3097, 1050, 7191, 3100, 3102, 7198, 7204, 7205, 1064, 3115, 7211, 7214, 1072, 5170, 3123, 3129, 1082, 7225, 5181, 1090, 1091, 3139, 7238, 3145, 7242, 5199, 7258, 5213, 1118, 1119, 7270, 1127, 7273, 7277, 1134, 1135, 7280, 3185, 7281, 7282, 1140, 5236, 3190, 7284, 1144, 1145, 7285, 3195, 7288, 1149, 3197, 7299, 1158, 5258, 3217, 7322, 7324, 5283, 1189, 5286, 1191, 7340, 3250, 7348, 7350, 3257, 3259, 5309, 7360, 5316, 5318, 3274, 5329, 5330, 5333, 1247, 5343, 7391, 7392, 1251, 7395, 1257, 5353, 1263, 7409, 3314, 3317, 7416, 7417, 1281, 7428, 1285, 1295, 1296, 7439, 3347, 5396, 1308, 7453, 7457, 1314, 1315, 7460, 1317, 3366, 5414, 3372, 5420, 5423, 1330, 5433, 5434, 7483, 5436, 1343, 1344, 1346, 5448, 7497, 7499, 7500, 3405, 7503, 7505, 1365, 7509, 1370, 7519, 5475, 5476, 3429, 7524, 7525, 7529, 5485, 1390, 5486, 3440, 7539, 5493, 5496, 1401, 1403, 7547, 7549, 5502, 1408, 1409, 3456, 1414, 3463, 3464, 3466, 1418, 1424, 1427, 1429, 3478, 5528, 5529, 7577, 5531, 3486, 7583, 7584, 5539, 1444, 5541, 1446, 3495, 3496, 7588, 1450, 7589, 5548, 7596, 1454, 3502, 7597, 1457, 3510, 1466, 1467, 3514, 5583, 1488, 7632, 5590, 5592, 1497, 1499, 5596, 7643, 7646, 1505, 5601, 1507, 7650, 1513, 3564, 7660, 3566, 5618, 1528, 5624, 1530, 3579, 5626, 5629, 1534, 5631, 7674, 7678, 1542, 3593, 1550, 5646, 5647, 3601, 5652, 5653, 1558, 7704, 7705, 3610, 3614, 5664, 7714, 3619, 3620, 3621, 5667, 7715, 3628, 3629, 1582, 7727, 3638, 5688, 1595, 1598, 5696, 1605, 5705, 3658, 5708, 3663, 3666, 5714, 7762, 1622, 3672, 7769, 5723, 3678, 1634, 3685, 7784, 5739, 5742, 1648, 5745, 5748, 5749, 7803, 5758, 1665, 3717, 3718, 7815, 3720, 1673, 1674, 5768, 1676, 1677, 3726, 7822, 3728, 7824, 3731, 1685, 3735, 7836, 5794, 1700, 3749, 5796, 3753, 3757, 3759, 3760, 7855, 7858, 7859, 3765, 7862, 7864, 7865, 1722, 3770, 3776, 3777, 5825, 7877, 3784, 5839, 3794, 5843, 7892, 1749, 3798, 1751, 3800, 7896, 3802, 5853, 7902, 7908, 1765, 5861, 5862, 1768, 1769, 7910, 7922, 5879, 7928, 7930, 7936, 1794, 1795, 3843, 5892, 5893, 1801, 3855, 5905, 1811, 3859, 5907, 3862, 5912, 5916, 7968, 3873, 7970, 5924, 3877, 3878, 5926, 5928, 1834, 3882, 5930, 3885, 5933, 7978, 3890, 7990, 1849, 5947, 7996, 5949, 1855, 8000, 3909, 5957, 8007, 5961, 5964, 3917, 3920, 5970, 1882, 8030, 1887, 5990, 1895, 5991, 5992, 5995, 3950, 3954, 3958, 8054, 1914, 8061, 1919, 3971, 3974, 1928, 3980, 8082, 6035, 8084, 3991, 3996, 3998, 6047, 1962, 1963, 4018, 4019, 6068, 8118, 8123, 6078, 6085, 8133, 6088, 8136, 6090, 4045, 8142, 8143, 8145, 4050, 8146, 4053, 8151, 8153, 8158, 2022, 6123, 6129, 8178, 2036, 4084, 4086, 4091, 2047}, {4096, 3, 6151, 4104, 4105, 6154, 4107, 4109, 2063, 18, 4116, 6165, 6170, 6172, 2077, 2078, 6175, 4134, 39, 6184, 8232, 2091, 4143, 6192, 49, 6195, 8243, 54, 6198, 6200, 4153, 4155, 8252, 4158, 2119, 4168, 6222, 6224, 8273, 82, 4181, 86, 6235, 2141, 6238, 8290, 4196, 6247, 6248, 4204, 116, 2165, 2166, 6260, 2168, 8308, 8312, 123, 8313, 126, 127, 2175, 6271, 8320, 4227, 2181, 4229, 8327, 2184, 6286, 4239, 6287, 2194, 8340, 6293, 8344, 8345, 154, 155, 2204, 8353, 164, 165, 4260, 6308, 6311, 4265, 8360, 2221, 4274, 4275, 6326, 2231, 185, 2235, 189, 4286, 192, 2242, 4291, 4293, 6345, 202, 8396, 8402, 2260, 4309, 8408, 4315, 221, 4318, 6371, 8420, 2277, 8425, 234, 2286, 6383, 6385, 8434, 6392, 6396, 255, 256, 4351, 6399, 8449, 2308, 8454, 8455, 4361, 267, 268, 269, 8459, 271, 2322, 2323, 4371, 2325, 2329, 6426, 284, 2332, 6431, 2337, 8482, 291, 6435, 8484, 6440, 6441, 6443, 300, 2349, 2350, 6445, 8493, 6449, 2354, 4402, 4404, 4405, 6451, 6452, 6456, 4409, 316, 2364, 4413, 2368, 321, 6464, 8516, 8517, 8519, 329, 8522, 2380, 8525, 4433, 4434, 340, 6485, 6486, 344, 2396, 4446, 6494, 2400, 8543, 2405, 4455, 4456, 361, 8556, 2414, 2415, 4463, 8558, 373, 6517, 2423, 6522, 2430, 2432, 6528, 2435, 6531, 389, 4485, 393, 2443, 6544, 6546, 8596, 2463, 416, 6560, 6562, 2470, 2473, 6573, 4534, 6583, 6584, 8630, 6587, 2492, 4540, 446, 2494, 451, 457, 458, 2505, 4559, 466, 6610, 468, 471, 4567, 6619, 477, 4574, 2527, 6621, 4579, 4584, 6634, 494, 2543, 2545, 6641, 510, 4606, 513, 4609, 515, 4615, 4616, 6672, 6674, 6675, 535, 2584, 4633, 4634, 2588, 6690, 547, 2597, 2598, 2603, 6706, 2611, 570, 6718, 2624, 6720, 6723, 2629, 582, 585, 586, 6730, 591, 4691, 601, 6746, 6747, 605, 609, 612, 2661, 4708, 4709, 4711, 618, 6765, 624, 637, 2685, 4734, 2690, 644, 4744, 6795, 654, 4754, 6802, 664, 666, 4762, 668, 2719, 676, 679, 2731, 2732, 6831, 2736, 691, 2742, 4790, 6838, 2745, 4794, 699, 2748, 4795, 6839, 4799, 6845, 705, 6852, 4806, 4813, 6861, 6863, 4817, 2770, 6866, 6868, 2774, 4830, 738, 6882, 2788, 743, 744, 2791, 746, 6890, 4844, 6895, 754, 6910, 767, 2815, 2817, 770, 6918, 6921, 4895, 6944, 4900, 808, 2858, 6956, 6958, 6962, 2867, 6964, 4924, 4925, 6978, 2884, 2888, 4937, 6992, 853, 6998, 4956, 2909, 863, 864, 866, 4967, 2920, 4971, 878, 881, 7030, 887, 7040, 4993, 901, 7045, 905, 2956, 2961, 916, 2964, 7060, 2967, 920, 2970, 2971, 2974, 5022, 2978, 5027, 5030, 7083, 2989, 943, 5041, 7089, 947, 5044, 5047, 3000, 5048, 954, 3007, 5058, 5060, 3016, 7113, 5066, 972, 5069, 7116, 980, 7125, 5084, 7133, 990, 991, 3043, 5093, 5096, 7148, 3056, 5105, 7153, 3063, 5114, 3074, 3075, 5125, 1030, 3082, 3083, 1038, 7185, 7187, 7190, 5144, 7192, 3110, 7208, 5165, 3118, 7217, 1074, 1078, 7224, 1081, 5177, 5179, 3132, 7231, 3137, 1099, 7243, 7246, 3152, 7249, 3157, 7253, 3161, 3165, 7265, 1128, 5225, 1130, 5227, 1132, 5229, 5230, 3183, 1136, 7286, 5240, 1147, 3196, 7291, 5246, 3201, 7297, 1155, 1156, 7298, 7301, 5256, 3209, 7305, 3218, 7319, 1176, 3227, 7323, 1185, 3234, 3235, 5282, 5284, 7333, 1194, 5296, 1204, 1210, 3261, 7358, 3263, 5311, 5312, 3268, 3270, 1223, 3271, 1225, 7370, 5328, 1239, 3287, 1241, 3289, 3291, 5339, 3298, 5347, 1254, 5352, 7400, 3308, 1261, 1267, 3320, 5372, 7429, 3339, 7441, 1301, 3350, 7445, 5401, 7450, 1307, 7451, 3358, 1312, 5411, 1321, 5417, 5419, 1325, 5422, 1327, 3377, 1334, 1335, 1336, 7481, 3386, 1339, 7486, 3391, 5440, 5442, 5443, 1350, 7498, 1358, 7502, 1362, 3416, 3424, 3425, 5474, 5477, 3432, 1386, 1387, 1393, 3447, 3450, 3451, 5503, 5504, 7551, 1420, 3470, 1423, 3476, 7574, 3479, 5527, 7575, 1435, 1437, 1439, 5540, 5542, 5543, 1448, 1449, 7590, 1451, 5547, 1455, 3504, 5553, 7601, 3507, 7605, 3512, 5564, 7612, 1470, 5567, 5568, 7616, 7618, 1475, 5577, 5578, 1485, 7629, 5586, 5587, 3540, 1493, 7640, 3545, 5594, 5595, 1501, 1502, 7649, 1509, 3570, 1523, 5620, 7667, 5627, 7677, 3583, 7682, 7683, 3594, 3595, 5642, 7695, 5649, 1555, 3609, 5657, 7708, 1568, 5666, 7716, 5673, 7726, 5679, 7728, 5681, 3634, 7731, 1589, 3637, 1594, 3642, 3644, 1599, 3647, 3648, 3650, 5697, 7749, 1609, 7756, 1613, 3665, 5717, 3670, 7772, 1629, 1630, 7779, 5733, 1641, 7791, 1650, 1651, 7795, 7801, 3708, 3710, 1663, 7808, 1666, 3715, 3719, 1672, 3732, 3734, 5783, 7831, 7832, 1693, 1694, 5791, 7840, 1698, 7842, 3748, 1701, 5801, 1706, 1721, 1723, 1724, 7871, 7875, 7879, 5834, 7887, 5840, 3793, 1746, 5844, 5850, 1755, 1759, 1760, 5855, 5857, 7907, 1766, 7912, 3818, 7916, 1774, 7920, 3828, 5878, 5882, 5889, 3844, 1804, 5900, 1812, 3860, 7959, 7961, 3871, 3872, 1827, 3875, 5923, 5931, 7981, 1841, 5938, 7985, 7987, 7988, 1846, 1851, 1852, 5950, 8006, 1866, 8012, 8019, 3924, 1879, 3933, 1886, 5984, 8032, 1892, 3940, 5989, 3948, 3952, 3953, 6001, 3955, 6002, 6003, 8049, 8058, 8060, 3966, 1922, 8073, 6029, 1936, 3984, 8086, 3995, 1950, 1953, 8097, 6053, 1958, 4009, 8105, 8107, 4013, 1973, 1974, 8121, 1978, 4028, 6077, 8126, 4031, 6079, 8127, 1986, 1987, 8134, 1991, 1993, 4041, 1998, 2001, 2005, 4054, 6102, 8152, 8155, 6109, 6110, 2015, 4063, 4067, 6117, 2024, 8174, 8177, 4082, 6131, 6132, 2037, 8182, 4093, 4094}, {2051, 4, 6, 4103, 8202, 6155, 4108, 2064, 2065, 6162, 23, 2072, 2073, 4121, 27, 2076, 4122, 2080, 4128, 2082, 8227, 38, 2086, 41, 45, 8242, 4147, 8245, 4151, 4162, 68, 6212, 2118, 8264, 6217, 6218, 75, 2124, 8270, 2127, 4177, 85, 4187, 93, 4189, 6239, 6240, 8285, 99, 8292, 2153, 114, 115, 6258, 119, 6263, 6265, 8311, 8315, 6272, 4226, 2179, 6276, 133, 2182, 4232, 6285, 144, 2192, 8338, 148, 4245, 4248, 6297, 2202, 6298, 6302, 159, 2211, 4259, 166, 8369, 8370, 4276, 6324, 182, 8375, 4280, 8384, 194, 8389, 198, 8394, 8395, 2252, 2255, 2258, 4310, 8417, 226, 2280, 6377, 2282, 2283, 2284, 238, 4334, 2291, 6388, 8435, 6390, 4348, 6400, 6401, 2313, 6409, 2315, 4364, 6412, 270, 2319, 8465, 6420, 8469, 2327, 6424, 6428, 2333, 287, 2338, 2339, 2340, 293, 6434, 6439, 4393, 6442, 8491, 4399, 305, 2355, 2356, 8501, 6454, 2361, 6458, 2363, 8508, 317, 318, 4414, 4415, 4420, 325, 6469, 6473, 4426, 6475, 4428, 4432, 8528, 2386, 2390, 345, 4443, 4444, 6491, 354, 8550, 362, 4458, 2412, 365, 367, 368, 4464, 2418, 8565, 376, 383, 4482, 8580, 8581, 6535, 2440, 4492, 6542, 2452, 4500, 4501, 8598, 8602, 2459, 4509, 4511, 2464, 6559, 2469, 6566, 6567, 4520, 8614, 6570, 4525, 431, 432, 6578, 4533, 6586, 2493, 2506, 463, 4564, 470, 473, 4571, 4573, 2526, 4575, 482, 485, 4582, 6629, 2536, 490, 4588, 2541, 4590, 6638, 6639, 6640, 4597, 2550, 6646, 6647, 2553, 6652, 6654, 511, 6660, 521, 2570, 525, 2575, 528, 6680, 6681, 6686, 4640, 546, 2594, 548, 550, 4652, 557, 558, 4654, 6701, 4657, 6704, 4664, 4666, 574, 6721, 6728, 4682, 4684, 2645, 2647, 603, 2659, 6757, 6758, 4713, 619, 620, 2667, 4717, 623, 6768, 2674, 2675, 4724, 629, 6773, 4728, 4733, 639, 4736, 4738, 6787, 2693, 4755, 663, 6807, 669, 4768, 4775, 4777, 6827, 6828, 6835, 4789, 6840, 2749, 2752, 2753, 4802, 2755, 4804, 2757, 2758, 712, 2760, 715, 6859, 6860, 4814, 2769, 6865, 723, 2772, 725, 4819, 728, 4825, 4826, 731, 732, 4827, 6883, 4841, 6891, 2796, 4847, 2805, 2811, 4864, 4867, 4869, 2822, 4872, 781, 6925, 2839, 2844, 4896, 2853, 6950, 2856, 811, 6955, 814, 2863, 2866, 6963, 2869, 825, 2873, 2875, 4923, 831, 833, 837, 4933, 2887, 2889, 845, 4943, 2898, 4946, 6995, 7001, 858, 2906, 862, 4962, 2916, 7012, 7017, 876, 2925, 7023, 2933, 7031, 893, 2944, 4992, 2946, 2948, 7051, 911, 2966, 7064, 7065, 7066, 923, 2975, 2979, 5029, 937, 2986, 5033, 2991, 7087, 5042, 2995, 7091, 953, 3002, 3004, 3006, 7102, 7105, 3024, 5075, 5080, 5081, 7129, 989, 3037, 7134, 3040, 3041, 3042, 996, 3046, 3048, 5097, 3050, 5098, 5101, 1007, 7154, 3059, 7159, 3067, 1020, 1033, 7180, 1041, 3094, 5146, 1055, 3104, 5151, 7199, 7207, 1066, 3114, 1070, 5167, 1077, 1079, 5178, 3131, 7227, 3135, 1088, 5187, 5189, 1095, 1096, 3144, 5196, 7245, 3150, 3151, 7252, 1115, 5212, 7262, 3171, 5221, 3174, 3175, 7272, 1131, 7276, 3181, 1138, 7283, 3193, 7290, 1151, 5248, 1153, 5255, 3208, 1161, 1162, 5264, 1171, 7317, 3224, 7321, 7325, 3237, 5285, 1193, 7339, 1198, 5295, 1201, 7345, 5307, 1212, 1213, 1214, 1217, 5314, 3267, 7364, 1221, 5319, 7367, 1227, 3276, 1229, 7371, 1231, 3283, 5332, 7379, 7381, 7382, 3288, 3290, 3293, 3297, 1250, 7394, 1255, 1256, 3306, 1259, 7406, 5362, 5363, 3316, 7414, 3326, 1279, 5375, 5376, 7424, 5380, 3334, 1287, 3337, 3338, 3344, 5392, 5393, 1299, 5394, 3353, 5403, 5408, 1313, 3361, 5410, 3365, 7465, 7469, 7471, 5426, 7475, 1332, 3385, 7485, 7488, 1347, 7492, 3397, 7495, 5449, 1355, 1360, 3409, 7506, 5463, 3417, 3418, 1371, 1372, 5466, 7514, 1381, 7527, 5480, 1385, 3435, 7531, 7532, 5489, 5497, 7545, 1404, 7548, 7550, 1407, 5505, 3460, 7561, 3469, 7566, 5525, 7581, 3491, 7587, 7591, 7592, 3497, 5550, 1461, 5557, 7607, 7608, 1465, 3515, 7611, 7614, 1471, 1476, 5572, 5576, 3529, 7630, 1489, 5593, 3552, 5602, 1508, 5605, 3558, 1511, 7653, 1515, 5613, 5614, 5617, 7665, 7666, 5621, 1529, 3577, 3584, 1537, 3590, 5640, 3598, 1560, 1571, 7717, 3625, 3626, 7723, 7725, 3630, 1583, 1584, 3633, 1590, 3640, 5690, 1597, 3645, 5693, 5694, 7742, 3651, 5699, 7747, 3654, 3657, 7760, 5715, 7768, 7770, 7774, 1632, 1633, 7777, 7785, 7792, 7793, 3698, 3700, 7798, 1660, 7805, 1662, 3714, 1667, 5763, 7810, 1670, 7814, 5772, 1682, 3739, 3741, 5793, 5800, 1705, 1708, 1709, 5806, 5807, 7852, 7857, 1714, 3763, 1717, 1719, 7869, 1729, 3778, 5828, 7876, 3782, 5833, 7883, 5836, 3790, 1753, 7903, 7904, 3809, 1763, 7909, 7913, 1773, 1777, 7931, 3840, 3841, 7937, 5891, 1796, 7940, 3848, 3853, 3854, 7952, 5910, 5911, 1817, 3869, 5918, 3879, 1832, 1839, 5935, 5936, 5940, 3895, 5944, 7994, 1853, 7998, 5952, 3910, 3912, 5962, 8015, 1874, 1876, 1878, 8022, 5977, 8025, 3937, 5985, 3946, 3947, 5997, 1902, 5998, 8056, 6009, 1916, 1918, 3967, 8077, 3983, 8079, 1947, 8093, 6050, 8101, 1960, 1964, 8108, 4014, 6062, 1968, 1969, 4016, 6064, 6066, 6071, 8120, 1977, 8125, 8130, 6083, 1994, 4043, 4044, 8140, 4046, 6095, 4048, 8147, 2004, 8154, 8157, 2020, 4069, 8175, 2032, 4081, 6133, 8183}, {4097, 6145, 4101, 8201, 12, 6156, 4117, 2070, 8213, 8214, 8219, 32, 2081, 4131, 6180, 42, 2090, 4138, 4141, 6190, 8236, 8240, 2098, 2099, 4152, 2110, 6207, 6208, 2117, 76, 6220, 4174, 4175, 2129, 2130, 6225, 6226, 6229, 8274, 8279, 8280, 2137, 8282, 8284, 8286, 2143, 2145, 2152, 107, 6253, 6256, 6257, 6261, 6262, 4217, 2172, 6277, 4230, 4231, 2185, 138, 4233, 140, 8331, 2191, 4240, 146, 4242, 150, 4254, 4255, 2208, 2209, 4258, 163, 6305, 8351, 8352, 8354, 168, 169, 6312, 171, 2220, 6314, 6317, 6319, 2224, 2225, 6321, 8372, 6327, 188, 6335, 6336, 2241, 8383, 2243, 6341, 6342, 4295, 8393, 6346, 6347, 204, 4301, 206, 4302, 4306, 2262, 216, 2265, 4316, 4317, 6364, 8416, 8421, 4326, 4327, 4336, 244, 4340, 249, 8445, 8446, 257, 6404, 2311, 2312, 6407, 6408, 2317, 6414, 6415, 4368, 8461, 4370, 275, 8464, 6421, 8466, 8470, 8471, 4377, 283, 2331, 6427, 8488, 2346, 2347, 8490, 4397, 310, 2359, 4406, 313, 2365, 8509, 2369, 6466, 6470, 6471, 2384, 339, 2388, 6488, 8536, 4449, 8545, 4451, 4453, 359, 6508, 4461, 366, 4466, 2421, 8568, 2426, 379, 8571, 2429, 8572, 385, 6529, 6532, 391, 4487, 4488, 8585, 8586, 2444, 6540, 2446, 6541, 403, 2451, 2453, 6547, 4508, 413, 2461, 2462, 6558, 2465, 4516, 6564, 427, 2477, 2482, 436, 2484, 438, 6581, 6582, 8629, 448, 454, 4550, 4557, 2511, 4562, 4563, 6611, 2517, 2518, 2519, 2524, 2525, 6622, 481, 483, 6631, 2537, 496, 4593, 4594, 6642, 500, 2549, 502, 4596, 6645, 2555, 507, 508, 2559, 6655, 2563, 4611, 2565, 518, 520, 2568, 6664, 4619, 6671, 6676, 536, 2586, 539, 4636, 6684, 4638, 543, 2591, 4639, 6694, 551, 6696, 6698, 2604, 4653, 6703, 560, 2608, 6709, 568, 4669, 2622, 2628, 2630, 4678, 2638, 6736, 4689, 2642, 4698, 2652, 6750, 4704, 6753, 4706, 2665, 4721, 6776, 6780, 4737, 2698, 6797, 655, 4752, 6799, 6803, 661, 6816, 4772, 2725, 4776, 2730, 2739, 692, 2741, 4791, 701, 4800, 4801, 6848, 6849, 709, 2763, 716, 2764, 4815, 2777, 2781, 736, 2787, 6884, 2793, 748, 752, 6897, 4851, 756, 2804, 4855, 6904, 4857, 2813, 768, 6922, 779, 4879, 784, 2832, 2833, 2835, 788, 792, 797, 2850, 6949, 6959, 2864, 4914, 2868, 6966, 4921, 2874, 827, 2877, 6974, 2880, 4935, 6987, 844, 2892, 2895, 6991, 4947, 2901, 2904, 857, 4954, 7005, 4959, 7008, 2913, 868, 4965, 7015, 879, 880, 2927, 4976, 4977, 7024, 886, 891, 894, 7041, 7042, 4995, 4998, 5001, 906, 2954, 2955, 5003, 7050, 7054, 912, 5008, 5009, 915, 2965, 926, 5024, 930, 7074, 7078, 7081, 5034, 939, 2987, 7082, 946, 948, 5046, 952, 5051, 957, 5055, 5057, 7107, 965, 966, 3014, 3018, 5067, 7117, 7119, 5072, 3029, 7128, 985, 7130, 987, 3039, 995, 7140, 5094, 3047, 5095, 3049, 7146, 3051, 3053, 1006, 1008, 5104, 5107, 7157, 1018, 7162, 3070, 3077, 1031, 5128, 1036, 5133, 5134, 3088, 7186, 7188, 5142, 5145, 7194, 1052, 1054, 5152, 5153, 3106, 1059, 7209, 3116, 7216, 1076, 7226, 1087, 7232, 8357, 7234, 8358, 7237, 1097, 3147, 1104, 5201, 1106, 7250, 8361, 1110, 3159, 5211, 7264, 3170, 1123, 7266, 7271, 5224, 3178, 3182, 3184, 5232, 5234, 5237, 3194, 1150, 7296, 7300, 1157, 5257, 3210, 1169, 5266, 3220, 5270, 5273, 1178, 3226, 1181, 3229, 3231, 7328, 1186, 3238, 3241, 5294, 7343, 3256, 7353, 1211, 7357, 5310, 7359, 1216, 5313, 7361, 3272, 3275, 3277, 3278, 5325, 3281, 1234, 5334, 1242, 5341, 7389, 7393, 1252, 3301, 3302, 7402, 7404, 1264, 3313, 1266, 5360, 1268, 5361, 3318, 5364, 7408, 1274, 7419, 7426, 3331, 7430, 3335, 5387, 5388, 1294, 3349, 1302, 1304, 3352, 5402, 3356, 7458, 3369, 3374, 3375, 7470, 7472, 3378, 3379, 5427, 7474, 7476, 1337, 1338, 5435, 5445, 1351, 5455, 1363, 7507, 1366, 3414, 7510, 1369, 7511, 3419, 7517, 3422, 5470, 5472, 1380, 5479, 5481, 5482, 3438, 5487, 7535, 7538, 1396, 7540, 3446, 5495, 7542, 7546, 5501, 5507, 7555, 7557, 1415, 7560, 1417, 5515, 7565, 5522, 7573, 5532, 5534, 5535, 7585, 1447, 3498, 3500, 5552, 3509, 5560, 5561, 1468, 3523, 7619, 3530, 3533, 1486, 3535, 1492, 7636, 5591, 7641, 3551, 5600, 5610, 3565, 1518, 5615, 7664, 1522, 1525, 1527, 1532, 3581, 3585, 3586, 7681, 7684, 3589, 5641, 5643, 5644, 1549, 3602, 5650, 1559, 1561, 1562, 5660, 7710, 5671, 5675, 5685, 7734, 1593, 1602, 5698, 1604, 3653, 1606, 3655, 5700, 1612, 7757, 3664, 3667, 5721, 3677, 7775, 3684, 5736, 5737, 3690, 1643, 3695, 1652, 7799, 7802, 3707, 3709, 1664, 3713, 7812, 5765, 5770, 7818, 5773, 1681, 1684, 7833, 7837, 3744, 7841, 1699, 3754, 3756, 7854, 3762, 1718, 5814, 3768, 3769, 1725, 3774, 5822, 1732, 1734, 1736, 5837, 1742, 7889, 7893, 7894, 7895, 7901, 3810, 3811, 3814, 3816, 3819, 1772, 7915, 3822, 3825, 5873, 7923, 3829, 3831, 5880, 3834, 1793, 1798, 1799, 1800, 7943, 1802, 5898, 1807, 1809, 1815, 3865, 1818, 3868, 7965, 1826, 1828, 7972, 3880, 1833, 3881, 7977, 3888, 3893, 5942, 7991, 1848, 7992, 7999, 1856, 3907, 3913, 1869, 5968, 8020, 5974, 1880, 3928, 8033, 1890, 1893, 1896, 3945, 5994, 3951, 1904, 1905, 1906, 1907, 1908, 8048, 6008, 8057, 6011, 8065, 8067, 1924, 1932, 3981, 8076, 3986, 1940, 8089, 1946, 6044, 3997, 4000, 6048, 6052, 4006, 6054, 4008, 6057, 8103, 1967, 6063, 4023, 6072, 4025, 4027, 6082, 6089, 1995, 6091, 6093, 2000, 4049, 8144, 8150, 6103, 6105, 4058, 4060, 8156, 4062, 6111, 4064, 6112, 8162, 8166, 6119, 6120, 4074, 2027, 4075, 4077, 6127, 2033, 6138, 2046}, {4099, 2052, 6149, 7, 8, 6157, 16, 8209, 6163, 4119, 4124, 29, 4127, 36, 2085, 40, 6186, 2092, 2093, 8241, 2102, 2103, 8246, 2106, 6202, 8253, 63, 2111, 66, 6211, 78, 4179, 2132, 8277, 6230, 4190, 8287, 8288, 97, 8293, 108, 6254, 111, 2159, 4209, 4211, 2164, 117, 2169, 122, 4218, 8318, 4223, 2176, 4225, 6273, 6275, 8322, 8323, 6282, 6283, 2189, 8333, 8335, 6292, 4250, 8348, 2212, 4261, 4262, 6310, 4264, 8356, 8359, 4269, 2222, 175, 8366, 8367, 6322, 2230, 2233, 6330, 6331, 2236, 8379, 190, 2238, 2239, 4288, 6334, 2245, 4296, 2249, 4299, 6348, 205, 6349, 6352, 210, 8405, 6358, 215, 2268, 6365, 8186, 2275, 4324, 230, 2279, 232, 4329, 4330, 6374, 8187, 6381, 6382, 240, 6384, 6386, 4339, 2292, 2293, 4341, 2295, 6387, 2297, 250, 251, 2306, 6403, 4358, 6406, 8456, 6410, 2316, 6416, 4369, 277, 4373, 6422, 4379, 4380, 4381, 6430, 8479, 4384, 2341, 294, 4389, 2344, 4391, 6438, 8486, 302, 4398, 6446, 8496, 6450, 6453, 311, 8504, 4411, 6459, 6460, 6461, 8513, 2374, 6476, 2381, 2382, 8527, 2389, 4438, 343, 2391, 2392, 6487, 350, 8542, 6497, 2411, 4465, 8564, 2422, 6523, 4476, 6527, 388, 2441, 2442, 4489, 6543, 401, 8594, 406, 6551, 408, 2457, 4513, 4514, 2467, 4519, 6569, 8617, 428, 8620, 4526, 4532, 439, 8634, 6592, 6593, 2500, 4553, 6601, 4555, 460, 4558, 6614, 4568, 4569, 476, 478, 6632, 6633, 6636, 2546, 2547, 4601, 4602, 4604, 2557, 517, 4613, 2567, 4617, 6666, 4624, 2578, 4630, 6682, 6683, 4637, 6685, 545, 4641, 549, 2602, 6699, 2607, 565, 566, 2619, 581, 6726, 4680, 2637, 2639, 4687, 6735, 598, 2648, 2651, 4699, 4703, 608, 2657, 614, 2663, 2664, 6759, 4714, 621, 2672, 625, 6771, 2676, 4726, 2683, 2684, 638, 6788, 649, 650, 2697, 652, 2699, 2701, 6796, 656, 4753, 6798, 4761, 4764, 2717, 673, 4769, 6817, 4773, 682, 684, 685, 2735, 2737, 4786, 6834, 696, 700, 2756, 6853, 2759, 713, 6862, 2773, 726, 6870, 4824, 6875, 4828, 6877, 734, 737, 6887, 4840, 2795, 6893, 2798, 4846, 2800, 2801, 6894, 755, 6898, 6900, 758, 4859, 6907, 6908, 6911, 769, 2819, 775, 6920, 2826, 2829, 2836, 4889, 4893, 4894, 2848, 804, 4906, 2865, 6965, 2871, 826, 6973, 2883, 4936, 2894, 6993, 851, 2900, 4948, 7000, 7003, 860, 7006, 2911, 7007, 865, 2914, 7011, 2917, 7016, 7018, 4975, 7029, 4982, 888, 2937, 4986, 4991, 7039, 900, 7044, 5000, 7049, 907, 5005, 7053, 2963, 5011, 5016, 7069, 928, 933, 2981, 5032, 5035, 2988, 944, 7088, 7093, 5059, 3012, 7108, 7109, 7111, 975, 3026, 5074, 5078, 5079, 3035, 3038, 7142, 7150, 7151, 3057, 3058, 3060, 5108, 5110, 1015, 1017, 5113, 1019, 3069, 1021, 3071, 1023, 1026, 1029, 7174, 5129, 3084, 7183, 3091, 1044, 7193, 1053, 3103, 1056, 1058, 3107, 5155, 7202, 5158, 1067, 1069, 3117, 5168, 1073, 3127, 7228, 7229, 3134, 1092, 1093, 1094, 1098, 5194, 1102, 7248, 3154, 7251, 1108, 3160, 3163, 1116, 1117, 5214, 3167, 1122, 5223, 3180, 3187, 3192, 1148, 5245, 3200, 5254, 7302, 1164, 7308, 3214, 5262, 5263, 7312, 7313, 5267, 1174, 3223, 7320, 1177, 1179, 7331, 7332, 3239, 7341, 3247, 3249, 1202, 7346, 5300, 1205, 5301, 5302, 1209, 3264, 1222, 7366, 7368, 1233, 3282, 1237, 3292, 5348, 1253, 7399, 3304, 7401, 7411, 3322, 7420, 3329, 1282, 5379, 3333, 5382, 3340, 7438, 1298, 3346, 5395, 7446, 1303, 5399, 1305, 1306, 5400, 7454, 3362, 3363, 3367, 1322, 3376, 5424, 5429, 3382, 5431, 7478, 7479, 7491, 5447, 1354, 5453, 7501, 7504, 1364, 3412, 5471, 1376, 7520, 1379, 5484, 5488, 1397, 7544, 5499, 3453, 3457, 5508, 5513, 3468, 5517, 3475, 1428, 1430, 7576, 3481, 3483, 3484, 5533, 7579, 3487, 5537, 1442, 1445, 7594, 3501, 5549, 1456, 7600, 3506, 5554, 1463, 5566, 3520, 5573, 3527, 1480, 7623, 5581, 1491, 3539, 5588, 7637, 3546, 5597, 3550, 5599, 1504, 3554, 5604, 7652, 5606, 7655, 3561, 5612, 7663, 1520, 5619, 3574, 3578, 3580, 5628, 3582, 7676, 5637, 7685, 1543, 3592, 7687, 7688, 7694, 1551, 1552, 1554, 1557, 3606, 1565, 7709, 1567, 3615, 7712, 7713, 3622, 1575, 1576, 5672, 1578, 5674, 1586, 7732, 3639, 3652, 5702, 7752, 5710, 1620, 5716, 7766, 1625, 1627, 3676, 3683, 1636, 5732, 7781, 1642, 3691, 5740, 7786, 1646, 5743, 1649, 5746, 1653, 3702, 7800, 7806, 7816, 7817, 3722, 5771, 3733, 5782, 7829, 1689, 7835, 3740, 1695, 7844, 7847, 5802, 5804, 1712, 1713, 5809, 3764, 5813, 1720, 5816, 5817, 3772, 1726, 5826, 1735, 3783, 1737, 1738, 5831, 5835, 1745, 5842, 7891, 5845, 5848, 7899, 1756, 3804, 1758, 7900, 3808, 1767, 3821, 5869, 5871, 7921, 5875, 5887, 1797, 5894, 3847, 7944, 3851, 7947, 1805, 1806, 3856, 7954, 7955, 7963, 1823, 7975, 5934, 7984, 3894, 7995, 5948, 7997, 1854, 8002, 5955, 3908, 8005, 1862, 1863, 5959, 3914, 3918, 3925, 3927, 3931, 8029, 5983, 3936, 8034, 1891, 3939, 5988, 8036, 3943, 5993, 8045, 8050, 6004, 6005, 1910, 6007, 1913, 3964, 1925, 6021, 6024, 3977, 1930, 3979, 6028, 1933, 8080, 1937, 8081, 8083, 3994, 1948, 8094, 1954, 1955, 8098, 6058, 6059, 1971, 8115, 8116, 4022, 8119, 6074, 1979, 1980, 1981, 1982, 8122, 8129, 4035, 1988, 4038, 6087, 8137, 4052, 6107, 6108, 2013, 4061, 6113, 4066, 2021, 4072, 2025, 6122, 8170, 8173, 4078, 6134, 8185, 2042, 2043, 4092}]\n",
            "237\n",
            "4751\n",
            "230\n",
            "4845\n",
            "238\n",
            "4841\n",
            "226\n",
            "4830\n",
            "229\n",
            "4461\n",
            "277\n",
            "5040\n",
            "242\n",
            "4826\n",
            "250\n",
            "4671\n",
            "225\n",
            "4812\n",
            "276\n",
            "4914\n",
            "0.19137629358142194\n"
          ],
          "name": "stdout"
        }
      ]
    },
    {
      "cell_type": "markdown",
      "metadata": {
        "id": "UkkOCWGSivU2",
        "colab_type": "text"
      },
      "source": [
        "# Messing around with other flow algos"
      ]
    },
    {
      "cell_type": "code",
      "metadata": {
        "id": "3vn0iymSiurd",
        "colab_type": "code",
        "colab": {}
      },
      "source": [
        "#Modifed from https://networkx.github.io/documentation/stable/_modules/networkx/algorithms/community/asyn_fluid.html#asyn_fluidc\n",
        "def signaling(G):\n",
        "    iters = 4\n",
        "    vertices = list(G)\n",
        "    result = {}\n",
        "    for vertex in vertices:\n",
        "      weights = {vertex: 1}\n",
        "      for _ in range(iters):\n",
        "        newweights = {}\n",
        "        #Push weight to neighbors\n",
        "        for v in weights.keys():\n",
        "          newweights[v] = newweights.get(v,0) + weights[v]\n",
        "          for neighbor in G[v].keys():\n",
        "            newweights[neighbor] = newweights.get(neighbor,0) + weights[v]\n",
        "        weights = newweights\n",
        "      result[vertex] = weights\n",
        "    return result\n",
        "temp_result = signaling(G)\n",
        "from sklearn.cluster import KMeans\n",
        "from scipy.sparse import lil_matrix\n",
        "trial = lil_matrix((max(G.nodes()), max(G.nodes()))) #The matrix holding the values\n",
        "for i in temp_result.keys():\n",
        "  for j in temp_result[i].keys():\n",
        "    trial[i-1,j-1] = temp_result[i][j]"
      ],
      "execution_count": 0,
      "outputs": []
    },
    {
      "cell_type": "markdown",
      "metadata": {
        "id": "qqcjlZhSgo9n",
        "colab_type": "text"
      },
      "source": [
        "# Example K Means"
      ]
    },
    {
      "cell_type": "code",
      "metadata": {
        "id": "jRkxwkVNPdO3",
        "colab_type": "code",
        "outputId": "e3c868ed-692a-4c51-fecc-3fcd6ada9803",
        "colab": {
          "base_uri": "https://localhost:8080/",
          "height": 34
        }
      },
      "source": [
        "import time\n",
        "clusters = 8\n",
        "start_time = time.time()\n",
        "kmeans = KMeans(n_clusters=clusters,precompute_distances=True).fit(reduced)\n",
        "print(time.time() - start_time)\n",
        "  \n",
        "#https://stackoverflow.com/questions/43828704/how-to-cluster-sparse-data-using-sklearn-kmeans"
      ],
      "execution_count": 0,
      "outputs": [
        {
          "output_type": "stream",
          "text": [
            "2.1521713733673096\n"
          ],
          "name": "stdout"
        }
      ]
    },
    {
      "cell_type": "code",
      "metadata": {
        "id": "LD_WZWc3Vwl0",
        "colab_type": "code",
        "colab": {}
      },
      "source": [
        "from sklearn.cluster import AgglomerativeClustering\n",
        "from sklearn.decomposition import TruncatedSVD\n",
        "from sklearn.random_projection import sparse_random_matrix\n",
        "clusters = 1000\n",
        "svd = TruncatedSVD(n_components=clusters*3, n_iter=20, random_state=42)\n",
        "svd.fit(trial)\n",
        "clustering = AgglomerativeClustering(n_clusters=clusters).fit(reduced)"
      ],
      "execution_count": 0,
      "outputs": []
    },
    {
      "cell_type": "code",
      "metadata": {
        "id": "0rra2CkZTuj0",
        "colab_type": "code",
        "outputId": "cef819de-1569-4c70-f48e-f924e85c2bf2",
        "colab": {
          "base_uri": "https://localhost:8080/",
          "height": 54
        }
      },
      "source": [
        "partition = []\n",
        "temp = []\n",
        "for label in range(clusters):\n",
        "  indices = [i+1 for i, x in enumerate(clustering.labels_) if x == label]\n",
        "  partition.append(set(indices))\n",
        "  temp.append(len(indices))\n",
        "temp.sort(reverse=True)\n",
        "print(temp)"
      ],
      "execution_count": 0,
      "outputs": [
        {
          "output_type": "stream",
          "text": [
            "[4206, 202, 87, 75, 59, 45, 44, 41, 39, 39, 39, 39, 39, 38, 34, 34, 33, 32, 31, 31, 29, 29, 28, 28, 27, 27, 25, 25, 24, 24, 24, 23, 23, 23, 23, 23, 23, 22, 22, 22, 22, 22, 21, 21, 21, 21, 21, 20, 20, 20, 20, 19, 19, 19, 19, 19, 18, 18, 18, 18, 18, 18, 18, 18, 18, 18, 18, 17, 17, 17, 17, 17, 17, 17, 17, 17, 17, 16, 16, 16, 16, 16, 16, 16, 16, 16, 15, 15, 15, 15, 15, 15, 15, 14, 14, 14, 14, 14, 14, 14, 14, 14, 14, 14, 14, 14, 14, 14, 14, 14, 13, 13, 13, 13, 13, 13, 13, 13, 13, 13, 13, 13, 13, 13, 13, 13, 13, 12, 12, 12, 12, 12, 12, 12, 12, 12, 12, 12, 12, 12, 12, 12, 11, 11, 11, 11, 11, 11, 11, 11, 11, 11, 11, 11, 11, 11, 11, 10, 10, 10, 10, 10, 10, 10, 10, 10, 10, 10, 10, 9, 9, 9, 9, 9, 9, 9, 9, 9, 9, 9, 9, 9, 9, 9, 9, 9, 9, 9, 9, 9, 9, 9, 9, 9, 9, 9, 9, 9, 9, 8, 8, 8, 8, 8, 8, 8, 8, 8, 8, 8, 8, 8, 8, 8, 8, 8, 8, 8, 8, 8, 8, 8, 8, 8, 8, 8, 7, 7, 7, 7, 7, 7, 7, 7, 7, 7, 7, 7, 7, 7, 7, 7, 7, 7, 7, 7, 7, 7, 7, 7, 7, 7, 7, 7, 7, 7, 7, 7, 7, 7, 7, 7, 7, 6, 6, 6, 6, 6, 6, 6, 6, 6, 6, 6, 6, 6, 6, 6, 6, 6, 6, 6, 6, 6, 6, 6, 6, 6, 6, 6, 6, 6, 6, 6, 6, 6, 6, 6, 6, 6, 6, 6, 6, 6, 6, 6, 6, 6, 6, 5, 5, 5, 5, 5, 5, 5, 5, 5, 5, 5, 5, 5, 5, 5, 5, 5, 5, 5, 5, 5, 5, 5, 5, 5, 5, 5, 5, 5, 5, 5, 5, 5, 5, 5, 5, 5, 5, 5, 5, 5, 5, 5, 5, 4, 4, 4, 4, 4, 4, 4, 4, 4, 4, 4, 4, 4, 4, 4, 4, 4, 4, 4, 4, 4, 4, 4, 4, 4, 4, 4, 4, 4, 4, 4, 4, 4, 4, 4, 4, 4, 4, 4, 4, 4, 4, 4, 4, 4, 4, 4, 4, 4, 4, 4, 4, 4, 4, 3, 3, 3, 3, 3, 3, 3, 3, 3, 3, 3, 3, 3, 3, 3, 3, 3, 3, 3, 3, 3, 3, 3, 3, 3, 3, 3, 3, 3, 3, 3, 3, 3, 3, 3, 3, 3, 3, 3, 3, 3, 3, 3, 3, 3, 3, 3, 3, 3, 3, 3, 3, 3, 3, 3, 3, 3, 3, 3, 3, 3, 3, 3, 3, 3, 3, 3, 3, 3, 3, 3, 2, 2, 2, 2, 2, 2, 2, 2, 2, 2, 2, 2, 2, 2, 2, 2, 2, 2, 2, 2, 2, 2, 2, 2, 2, 2, 2, 2, 2, 2, 2, 2, 2, 2, 2, 2, 2, 2, 2, 2, 2, 2, 2, 2, 2, 2, 2, 2, 2, 2, 2, 2, 2, 2, 2, 2, 2, 2, 2, 2, 2, 2, 2, 2, 2, 2, 2, 2, 2, 2, 2, 2, 2, 2, 2, 2, 2, 2, 2, 2, 2, 2, 2, 2, 2, 2, 2, 2, 2, 2, 2, 2, 2, 2, 2, 2, 2, 2, 2, 2, 2, 2, 2, 2, 2, 2, 2, 2, 2, 2, 2, 2, 2, 2, 2, 2, 2, 2, 2, 2, 2, 2, 2, 2, 2, 2, 2, 2, 2, 2, 2, 2, 2, 2, 2, 2, 2, 2, 1, 1, 1, 1, 1, 1, 1, 1, 1, 1, 1, 1, 1, 1, 1, 1, 1, 1, 1, 1, 1, 1, 1, 1, 1, 1, 1, 1, 1, 1, 1, 1, 1, 1, 1, 1, 1, 1, 1, 1, 1, 1, 1, 1, 1, 1, 1, 1, 1, 1, 1, 1, 1, 1, 1, 1, 1, 1, 1, 1, 1, 1, 1, 1, 1, 1, 1, 1, 1, 1, 1, 1, 1, 1, 1, 1, 1, 1, 1, 1, 1, 1, 1, 1, 1, 1, 1, 1, 1, 1, 1, 1, 1, 1, 1, 1, 1, 1, 1, 1, 1, 1, 1, 1, 1, 1, 1, 1, 1, 1, 1, 1, 1, 1, 1, 1, 1, 1, 1, 1, 1, 1, 1, 1, 1, 1, 1, 1, 1, 1, 1, 1, 1, 1, 1, 1, 1, 1, 1, 1, 1, 1, 1, 1, 1, 1, 1, 1, 1, 1, 1, 1, 1, 1, 1, 1, 1, 1, 1, 1, 1, 1, 1, 1, 1, 1, 1, 1, 1, 1, 1, 1, 1, 1, 1, 1, 1, 1, 1, 1, 1, 1, 1, 1, 1, 1, 1, 1, 1, 1, 1, 1, 1, 1, 1, 1, 1, 1, 1, 1, 1, 1, 1, 1, 1, 1, 1, 1, 1, 1, 1, 1, 1, 1, 1, 1, 1, 1, 1, 1, 1, 1, 1, 1, 1, 1, 1, 1, 1, 1, 1, 1, 1, 1, 1, 1, 1, 1, 1, 1, 1, 1, 1, 1, 1, 1, 1, 1, 1, 1, 1, 1, 1, 1, 1, 1, 1, 1, 1, 1, 1, 1, 1, 1, 1, 1, 1, 1, 1, 1, 1, 1, 1, 1, 1, 1, 1, 1, 1, 1, 1, 1, 1, 1, 1, 1, 1, 1, 1, 1, 1, 1, 1, 1, 1, 1, 1, 1, 1, 1, 1, 1, 1, 1, 1, 1, 1, 1, 1, 1, 1, 1, 1, 1, 1, 1, 1, 1, 1, 1, 1, 1, 1, 1, 1, 1, 1, 1, 1, 1, 1, 1, 1, 1, 1, 1, 1, 1, 1, 1, 1, 1, 1, 1, 1, 1, 1, 1, 1, 1, 1, 1, 1, 1, 1, 1, 1, 1, 1, 1, 1, 1, 1, 1, 1, 1, 1, 1, 1, 1, 1, 1, 1, 1, 1, 1, 1, 1, 1, 1, 1, 1, 1, 1]\n"
          ],
          "name": "stdout"
        }
      ]
    },
    {
      "cell_type": "code",
      "metadata": {
        "id": "fexJbF2fSfSC",
        "colab_type": "code",
        "outputId": "dc5d4f5f-b75e-4101-9617-7ba3e5d1be83",
        "colab": {
          "base_uri": "https://localhost:8080/",
          "height": 88
        }
      },
      "source": [
        "print(partition)\n",
        "print(mod_score(partition,G))\n",
        "partition2 = []\n",
        "for p in partition:\n",
        "  partition2.append(set(p))\n",
        "print(partition2)"
      ],
      "execution_count": 0,
      "outputs": [
        {
          "output_type": "stream",
          "text": [
            "[{1024, 2048, 1026, 1027, 1028, 1029, 2054, 7, 9, 10, 12, 13, 18, 20, 22, 27, 2245, 33, 34, 2082, 39, 2599, 553, 2600, 2602, 2603, 46, 559, 1582, 49, 561, 51, 1587, 53, 566, 55, 2045, 7032, 1594, 59, 60, 61, 63, 64, 65, 66, 1599, 68, 583, 585, 1103, 2128, 1105, 594, 1107, 84, 85, 597, 598, 1108, 601, 1112, 1113, 2133, 1629, 1630, 2138, 2140, 1633, 1634, 1635, 2142, 2143, 614, 1127, 1128, 2146, 618, 1131, 1643, 1133, 2149, 623, 624, 2152, 2154, 5111, 6769, 6772, 124, 127, 130, 136, 1161, 138, 141, 2191, 144, 146, 2195, 2196, 150, 663, 665, 155, 668, 1180, 1182, 1183, 1184, 5731, 170, 173, 177, 179, 691, 695, 696, 2744, 187, 188, 701, 191, 703, 5737, 194, 707, 197, 198, 199, 711, 201, 712, 713, 715, 205, 206, 211, 212, 214, 215, 219, 5340, 222, 224, 736, 228, 230, 1254, 235, 238, 240, 242, 244, 246, 248, 250, 251, 1802, 1803, 1805, 1806, 4367, 4369, 4370, 1811, 3348, 3860, 4371, 282, 283, 284, 288, 291, 817, 824, 315, 318, 1397, 856, 1370, 860, 3423, 864, 869, 1381, 1382, 360, 5992, 362, 363, 364, 1387, 366, 879, 880, 369, 881, 882, 884, 1393, 374, 375, 1394, 377, 378, 379, 1395, 1396, 382, 1398, 384, 1400, 1401, 387, 1403, 1405, 390, 391, 1407, 1408, 1409, 1410, 1412, 1413, 398, 1402, 400, 1419, 402, 914, 1424, 1426, 407, 410, 2463, 416, 1406, 1960, 429, 943, 1969, 946, 947, 1973, 1974, 951, 442, 955, 956, 3172, 2494, 960, 2496, 964, 968, 3017, 970, 971, 972, 2509, 974, 975, 976, 977, 978, 979, 981, 984, 2129, 1001, 1002, 493, 1007, 1014, 1015, 1018, 1021, 1022, 1023}, {386, 67, 38, 582, 200, 1094, 202, 1098, 588, 1420, 14, 15, 590, 370, 1299, 596}, {3, 5, 6, 11, 19, 21, 23, 25, 29, 37, 41, 43, 44, 45, 47, 48, 50, 52, 56, 57, 69, 71, 72, 74, 78, 79, 81, 82, 83, 86, 88, 89, 90, 91, 92, 93, 94, 95, 96, 99, 100, 101, 102, 103, 104, 105, 106, 107, 108, 109, 110, 111, 112, 113, 114, 115, 116, 117, 118, 119, 120, 121, 122, 123, 125, 126, 128, 129, 131, 133, 134, 135, 137, 139, 140, 142, 143, 145, 147, 148, 149, 151, 152, 153, 154, 156, 157, 158, 159, 161, 164, 166, 167, 168, 169, 172, 174, 175, 176, 178, 180, 181, 182, 183, 184, 185, 186, 189, 193, 195, 196, 203, 204, 207, 210, 213, 216, 217, 218, 221, 223, 225, 226, 227, 229, 232, 234, 236, 237, 239, 241, 243, 245, 249, 253, 254, 255, 256, 257, 258, 259, 260, 261, 262, 263, 264, 265, 266, 267, 268, 269, 270, 271, 272, 273, 274, 275, 278, 279, 280, 281, 285, 286, 287, 289, 292, 293, 295, 296, 297, 298, 299, 300, 301, 302, 303, 304, 305, 306, 307, 308, 309, 310, 311, 312, 313, 314, 316, 317, 319, 320, 321, 322, 323, 324, 325, 326, 327, 328, 329, 330, 331, 332, 333, 334, 335, 336, 337, 338, 339, 340, 341, 342, 343, 344, 345, 346, 347, 348, 349, 350, 351, 352, 353, 354, 355, 356, 357, 358, 361, 365, 367, 368, 371, 372, 373, 376, 380, 381, 383, 385, 388, 389, 393, 394, 395, 396, 399, 401, 403, 404, 405, 406, 408, 409, 411, 412, 413, 414, 415, 417, 418, 419, 420, 421, 422, 423, 424, 425, 426, 427, 428, 430, 431, 432, 433, 434, 435, 436, 437, 438, 439, 440, 441, 443, 444, 445, 446, 447, 448, 449, 450, 451, 452, 453, 454, 455, 456, 457, 459, 460, 461, 462, 463, 464, 465, 466, 467, 468, 469, 470, 471, 472, 473, 474, 475, 476, 477, 478, 479, 480, 481, 482, 483, 484, 485, 486, 487, 488, 489, 490, 491, 492, 494, 495, 496, 497, 498, 499, 500, 501, 502, 503, 504, 505, 506, 507, 508, 509, 510, 511, 512, 513, 514, 515, 516, 517, 518, 519, 520, 521, 522, 523, 524, 525, 526, 528, 530, 531, 532, 533, 534, 535, 536, 537, 538, 539, 540, 541, 542, 543, 544, 545, 546, 547, 548, 549, 550, 551, 552, 554, 555, 556, 557, 558, 560, 562, 563, 565, 567, 568, 570, 571, 572, 573, 574, 575, 576, 577, 578, 579, 580, 581, 584, 586, 587, 589, 591, 592, 593, 595, 599, 600, 602, 603, 604, 605, 606, 607, 608, 609, 610, 611, 612, 613, 615, 616, 617, 619, 620, 621, 622, 625, 626, 628, 629, 630, 631, 632, 633, 634, 636, 637, 638, 639, 640, 641, 642, 643, 644, 645, 646, 647, 648, 649, 650, 651, 652, 653, 654, 655, 656, 657, 658, 659, 660, 661, 662, 664, 666, 667, 669, 670, 671, 672, 673, 674, 675, 676, 677, 678, 679, 680, 681, 682, 683, 684, 685, 686, 687, 688, 689, 690, 692, 693, 694, 697, 698, 699, 700, 702, 704, 705, 706, 708, 709, 710, 714, 716, 717, 718, 719, 720, 721, 722, 723, 724, 725, 726, 727, 728, 729, 730, 731, 732, 733, 734, 735, 737, 738, 739, 740, 741, 742, 743, 744, 745, 746, 747, 748, 749, 750, 751, 752, 753, 754, 755, 756, 757, 758, 759, 760, 761, 762, 763, 764, 765, 766, 767, 768, 769, 770, 771, 772, 773, 774, 775, 776, 777, 778, 779, 780, 781, 782, 783, 784, 785, 786, 787, 788, 789, 790, 791, 792, 793, 794, 795, 796, 797, 798, 799, 800, 801, 802, 803, 804, 805, 806, 807, 808, 809, 810, 811, 812, 813, 814, 815, 816, 818, 819, 820, 821, 822, 823, 825, 826, 827, 828, 829, 830, 831, 832, 833, 834, 835, 836, 837, 838, 839, 840, 841, 842, 843, 844, 845, 846, 847, 848, 849, 850, 851, 852, 853, 854, 855, 857, 858, 859, 861, 862, 863, 865, 866, 867, 868, 870, 871, 872, 873, 874, 875, 876, 877, 878, 883, 885, 886, 887, 888, 889, 890, 891, 892, 893, 894, 895, 896, 897, 898, 899, 900, 901, 902, 903, 904, 905, 906, 907, 908, 909, 910, 911, 912, 913, 915, 916, 917, 918, 919, 920, 921, 922, 923, 924, 925, 926, 927, 928, 929, 930, 931, 932, 933, 934, 935, 936, 937, 938, 939, 940, 941, 942, 944, 945, 948, 950, 952, 953, 954, 957, 958, 959, 961, 962, 963, 965, 966, 967, 969, 973, 980, 982, 983, 985, 986, 987, 988, 989, 990, 991, 992, 993, 994, 995, 996, 997, 998, 999, 1000, 1003, 1004, 1005, 1006, 1008, 1009, 1010, 1011, 1012, 1016, 1017, 1019, 1020, 1025, 1030, 1031, 1032, 1033, 1034, 1035, 1036, 1037, 1038, 1039, 1040, 1041, 1042, 1043, 1044, 1045, 1046, 1047, 1048, 1049, 1050, 1051, 1052, 1053, 1054, 1055, 1056, 1057, 1058, 1059, 1060, 1061, 1062, 1063, 1064, 1065, 1066, 1067, 1069, 1070, 1071, 1072, 1073, 1074, 1075, 1076, 1077, 1078, 1079, 1080, 1081, 1082, 1083, 1084, 1085, 1086, 1087, 1088, 1089, 1090, 1091, 1092, 1093, 1095, 1096, 1097, 1099, 1100, 1101, 1102, 1104, 1106, 1109, 1110, 1111, 1114, 1115, 1116, 1117, 1118, 1119, 1120, 1121, 1122, 1123, 1124, 1125, 1126, 1129, 1130, 1132, 1134, 1135, 1136, 1137, 1138, 1139, 1140, 1141, 1142, 1143, 1144, 1145, 1146, 1147, 1148, 1149, 1150, 1151, 1152, 1153, 1154, 1155, 1156, 1157, 1158, 1159, 1160, 1162, 1163, 1164, 1165, 1166, 1167, 1168, 1169, 1170, 1171, 1172, 1173, 1174, 1175, 1176, 1177, 1178, 1179, 1181, 1185, 1186, 1187, 1188, 1189, 1190, 1191, 1192, 1193, 1194, 1195, 1196, 1197, 1198, 1199, 1200, 1201, 1202, 1203, 1204, 1205, 1206, 1207, 1208, 1209, 1210, 1211, 1212, 1213, 1214, 1215, 1216, 1217, 1218, 1219, 1220, 1221, 1222, 1223, 1224, 1225, 1226, 1227, 1228, 1229, 1230, 1231, 1232, 1233, 1234, 1235, 1236, 1237, 1238, 1239, 1240, 1241, 1242, 1243, 1244, 1245, 1246, 1247, 1248, 1249, 1250, 1251, 1252, 1253, 1255, 1256, 1257, 1258, 1259, 1260, 1261, 1262, 1263, 1264, 1265, 1266, 1267, 1268, 1269, 1270, 1271, 1272, 1273, 1275, 1276, 1278, 1279, 1280, 1281, 1282, 1283, 1284, 1285, 1286, 1287, 1288, 1289, 1290, 1291, 1292, 1293, 1294, 1295, 1296, 1297, 1298, 1300, 1301, 1302, 1303, 1304, 1306, 1307, 1308, 1309, 1310, 1311, 1312, 1313, 1314, 1315, 1316, 1317, 1318, 1319, 1320, 1321, 1322, 1323, 1324, 1325, 1327, 1328, 1329, 1330, 1331, 1333, 1334, 1335, 1336, 1337, 1338, 1339, 1340, 1341, 1342, 1343, 1344, 1345, 1346, 1347, 1348, 1349, 1350, 1351, 1352, 1353, 1354, 1355, 1356, 1357, 1358, 1359, 1360, 1361, 1362, 1363, 1364, 1365, 1366, 1367, 1368, 1371, 1372, 1373, 1374, 1375, 1376, 1377, 1378, 1379, 1380, 1383, 1384, 1385, 1386, 1388, 1389, 1390, 1391, 1392, 1399, 1404, 1411, 1414, 1415, 1416, 1417, 1418, 1421, 1422, 1423, 1425, 1427, 1428, 1429, 1431, 1432, 1433, 1434, 1435, 1436, 1437, 1438, 1439, 1440, 1441, 1442, 1443, 1444, 1445, 1446, 1447, 1448, 1449, 1450, 1451, 1452, 1453, 1454, 1455, 1456, 1457, 1458, 1459, 1460, 1462, 1463, 1464, 1465, 1466, 1467, 1468, 1469, 1470, 1471, 1472, 1473, 1474, 1475, 1476, 1477, 1478, 1479, 1480, 1481, 1482, 1483, 1484, 1485, 1486, 1487, 1488, 1489, 1490, 1491, 1492, 1493, 1494, 1495, 1496, 1497, 1498, 1499, 1500, 1501, 1502, 1503, 1504, 1505, 1506, 1507, 1508, 1509, 1510, 1511, 1512, 1513, 1514, 1515, 1516, 1517, 1518, 1519, 1520, 1521, 1522, 1523, 1524, 1525, 1526, 1527, 1528, 1529, 1530, 1531, 1532, 1533, 1534, 1535, 1536, 1537, 1538, 1539, 1540, 1541, 1542, 1543, 1544, 1545, 1546, 1547, 1548, 1549, 1550, 1551, 1552, 1553, 1554, 1557, 1558, 1559, 1560, 1561, 1562, 1563, 1564, 1565, 1566, 1567, 1568, 1569, 1570, 1571, 1572, 1573, 1574, 1575, 1576, 1577, 1578, 1579, 1580, 1581, 1583, 1584, 1585, 1586, 1588, 1589, 1590, 1591, 1592, 1593, 1595, 1596, 1597, 1598, 1600, 1601, 1602, 1603, 1604, 1605, 1606, 1607, 1608, 1609, 1610, 1611, 1612, 1613, 1614, 1615, 1616, 1617, 1618, 1619, 1620, 1621, 1622, 1623, 1624, 1625, 1626, 1627, 1628, 1631, 1632, 1636, 1637, 1638, 1639, 1640, 1641, 1642, 1644, 1645, 1646, 1647, 1648, 1649, 1650, 1651, 1652, 1653, 1654, 1655, 1656, 1657, 1658, 1659, 1660, 1661, 1662, 1664, 1665, 1666, 1667, 1668, 1669, 1670, 1671, 1672, 1673, 1674, 1675, 1676, 1677, 1678, 1679, 1680, 1681, 1682, 1683, 1685, 1693, 1696, 1697, 1698, 1699, 1700, 1701, 1702, 1703, 1704, 1705, 1706, 1707, 1708, 1709, 1710, 1711, 1712, 1713, 1714, 1715, 1716, 1717, 1718, 1719, 1720, 1721, 1722, 1723, 1724, 1725, 1726, 1727, 1728, 1729, 1730, 1731, 1732, 1733, 1734, 1735, 1736, 1737, 1738, 1739, 1740, 1741, 1742, 1743, 1744, 1745, 1746, 1747, 1748, 1749, 1750, 1751, 1752, 1753, 1754, 1755, 1756, 1757, 1758, 1759, 1760, 1761, 1762, 1763, 1764, 1765, 1766, 1767, 1768, 1769, 1770, 1771, 1772, 1773, 1774, 1775, 1776, 1777, 1778, 1779, 1780, 1781, 1782, 1783, 1784, 1785, 1786, 1787, 1788, 1789, 1790, 1791, 1792, 1793, 1794, 1795, 1796, 1797, 1798, 1799, 1800, 1801, 1804, 1807, 1808, 1809, 1810, 1812, 1813, 1814, 1815, 1816, 1817, 1818, 1819, 1820, 1821, 1822, 1823, 1824, 1825, 1826, 1827, 1828, 1829, 1830, 1831, 1832, 1833, 1834, 1835, 1836, 1837, 1838, 1839, 1840, 1841, 1842, 1843, 1844, 1845, 1846, 1847, 1848, 1849, 1850, 1851, 1852, 1853, 1854, 1855, 1856, 1857, 1858, 1859, 1860, 1861, 1862, 1863, 1864, 1865, 1866, 1867, 1868, 1869, 1870, 1871, 1872, 1873, 1874, 1875, 1876, 1877, 1878, 1879, 1880, 1881, 1882, 1883, 1884, 1885, 1886, 1887, 1888, 1889, 1890, 1891, 1892, 1893, 1894, 1895, 1896, 1897, 1898, 1899, 1900, 1901, 1902, 1903, 1905, 1906, 1908, 1909, 1910, 1911, 1912, 1913, 1914, 1915, 1916, 1917, 1918, 1919, 1920, 1921, 1922, 1923, 1924, 1925, 1926, 1927, 1928, 1929, 1930, 1931, 1932, 1933, 1934, 1935, 1936, 1937, 1938, 1939, 1940, 1941, 1942, 1943, 1944, 1945, 1946, 1947, 1948, 1949, 1950, 1951, 1952, 1953, 1954, 1955, 1956, 1957, 1958, 1959, 1961, 1962, 1963, 1964, 1965, 1967, 1968, 1970, 1971, 1972, 1975, 1976, 1977, 1978, 1979, 1980, 1981, 1982, 1983, 1984, 1985, 1986, 1987, 1988, 1989, 1990, 1991, 1992, 1993, 1994, 1995, 1996, 1997, 1998, 1999, 2000, 2001, 2002, 2008, 2009, 2010, 2014, 2015, 2019, 2022, 2023, 2029, 2032, 2033, 2034, 2035, 2036, 2037, 2038, 2039, 2040, 2041, 2042, 2043, 2044, 2046, 2047, 2049, 2050, 2051, 2052, 2053, 2055, 2056, 2057, 2058, 2059, 2060, 2061, 2062, 2063, 2064, 2065, 2066, 2067, 2068, 2069, 2070, 2071, 2072, 2073, 2074, 2075, 2076, 2077, 2078, 2079, 2080, 2081, 2083, 2084, 2085, 2086, 2087, 2088, 2089, 2090, 2091, 2092, 2093, 2094, 2095, 2096, 2097, 2098, 2099, 2100, 2101, 2102, 2103, 2104, 2105, 2106, 2107, 2108, 2109, 2110, 2111, 2112, 2113, 2114, 2115, 2116, 2117, 2118, 2119, 2120, 2121, 2122, 2123, 2124, 2125, 2126, 2127, 2130, 2131, 2132, 2134, 2135, 2137, 2141, 2144, 2147, 2150, 2151, 2153, 2155, 2156, 2157, 2158, 2159, 2160, 2161, 2162, 2163, 2164, 2165, 2166, 2167, 2168, 2169, 2170, 2171, 2172, 2173, 2174, 2175, 2176, 2177, 2178, 2179, 2180, 2181, 2183, 2184, 2185, 2186, 2187, 2188, 2189, 2190, 2192, 2193, 2194, 2197, 2198, 2199, 2200, 2201, 2202, 2203, 2204, 2205, 2206, 2207, 2208, 2209, 2210, 2211, 2212, 2213, 2214, 2215, 2216, 2217, 2218, 2219, 2220, 2221, 2222, 2223, 2224, 2225, 2226, 2227, 2228, 2229, 2230, 2231, 2232, 2233, 2234, 2235, 2236, 2237, 2238, 2240, 2241, 2242, 2244, 2246, 2247, 2248, 2249, 2250, 2251, 2253, 2254, 2255, 2256, 2257, 2258, 2259, 2260, 2261, 2262, 2263, 2264, 2265, 2266, 2267, 2268, 2269, 2270, 2271, 2272, 2273, 2274, 2275, 2276, 2277, 2278, 2279, 2280, 2281, 2282, 2283, 2284, 2285, 2286, 2287, 2288, 2289, 2290, 2291, 2292, 2293, 2294, 2295, 2296, 2297, 2298, 2299, 2300, 2301, 2302, 2303, 2304, 2305, 2306, 2307, 2308, 2309, 2310, 2311, 2312, 2313, 2314, 2315, 2316, 2317, 2318, 2319, 2320, 2321, 2323, 2324, 2325, 2326, 2327, 2328, 2329, 2330, 2331, 2332, 2333, 2334, 2335, 2336, 2337, 2338, 2339, 2340, 2341, 2342, 2343, 2344, 2345, 2346, 2347, 2348, 2349, 2350, 2351, 2352, 2353, 2354, 2355, 2356, 2357, 2358, 2359, 2360, 2361, 2362, 2363, 2364, 2365, 2366, 2367, 2368, 2369, 2370, 2371, 2372, 2373, 2374, 2375, 2376, 2377, 2378, 2379, 2380, 2381, 2382, 2383, 2384, 2385, 2386, 2387, 2388, 2389, 2390, 2391, 2392, 2393, 2394, 2395, 2396, 2397, 2398, 2399, 2400, 2401, 2402, 2403, 2404, 2405, 2406, 2407, 2408, 2409, 2410, 2411, 2412, 2413, 2414, 2415, 2416, 2417, 2418, 2419, 2420, 2421, 2422, 2423, 2424, 2425, 2426, 2427, 2428, 2429, 2430, 2431, 2432, 2433, 2434, 2435, 2436, 2437, 2438, 2439, 2440, 2441, 2442, 2443, 2444, 2445, 2446, 2447, 2448, 2449, 2450, 2451, 2452, 2453, 2454, 2455, 2457, 2458, 2459, 2460, 2461, 2464, 2465, 2466, 2467, 2468, 2469, 2470, 2471, 2472, 2473, 2474, 2475, 2476, 2477, 2478, 2479, 2480, 2481, 2482, 2483, 2484, 2485, 2486, 2487, 2488, 2489, 2490, 2491, 2492, 2493, 2495, 2497, 2498, 2499, 2500, 2501, 2502, 2503, 2504, 2505, 2506, 2507, 2508, 2510, 2511, 2512, 2513, 2514, 2515, 2516, 2517, 2518, 2519, 2520, 2521, 2522, 2523, 2524, 2525, 2526, 2527, 2528, 2529, 2530, 2531, 2532, 2533, 2534, 2535, 2536, 2537, 2538, 2539, 2540, 2541, 2542, 2543, 2544, 2545, 2546, 2547, 2548, 2549, 2550, 2551, 2552, 2553, 2554, 2555, 2556, 2557, 2558, 2559, 2560, 2561, 2562, 2563, 2564, 2565, 2566, 2567, 2568, 2569, 2570, 2571, 2572, 2573, 2574, 2575, 2576, 2577, 2578, 2579, 2580, 2581, 2582, 2583, 2584, 2585, 2586, 2587, 2588, 2589, 2590, 2591, 2592, 2593, 2594, 2595, 2596, 2597, 2598, 2601, 2604, 2605, 2606, 2607, 2608, 2609, 2610, 2611, 2612, 2613, 2614, 2615, 2616, 2617, 2618, 2619, 2620, 2621, 2622, 2623, 2624, 2625, 2626, 2627, 2628, 2629, 2630, 2631, 2632, 2633, 2634, 2635, 2636, 2637, 2638, 2639, 2640, 2641, 2642, 2643, 2644, 2645, 2646, 2647, 2648, 2649, 2650, 2651, 2652, 2653, 2654, 2655, 2656, 2657, 2658, 2659, 2660, 2661, 2662, 2663, 2664, 2665, 2666, 2667, 2668, 2669, 2670, 2671, 2672, 2673, 2674, 2675, 2676, 2677, 2678, 2679, 2680, 2681, 2682, 2683, 2684, 2685, 2686, 2687, 2688, 2689, 2690, 2691, 2692, 2693, 2694, 2695, 2696, 2697, 2698, 2699, 2700, 2701, 2702, 2703, 2704, 2705, 2706, 2707, 2708, 2709, 2710, 2711, 2712, 2713, 2714, 2715, 2716, 2717, 2718, 2719, 2720, 2721, 2722, 2723, 2724, 2725, 2726, 2727, 2728, 2729, 2730, 2731, 2732, 2733, 2734, 2735, 2736, 2737, 2738, 2739, 2740, 2741, 2742, 2743, 2745, 2746, 2747, 2748, 2749, 2750, 2751, 2752, 2753, 2754, 2755, 2756, 2757, 2758, 2759, 2760, 2761, 2762, 2763, 2764, 2765, 2766, 2767, 2768, 2769, 2770, 2771, 2772, 2773, 2774, 2775, 2776, 2777, 2778, 2779, 2780, 2781, 2782, 2783, 2784, 2785, 2786, 2787, 2788, 2789, 2790, 2791, 2792, 2793, 2794, 2795, 2796, 2797, 2798, 2799, 2800, 2801, 2802, 2803, 2804, 2805, 2806, 2807, 2808, 2809, 2810, 2811, 2812, 2813, 2814, 2815, 2816, 2817, 2818, 2819, 2820, 2821, 2822, 2823, 2824, 2825, 2826, 2827, 2828, 2829, 2830, 2831, 2832, 2833, 2834, 2835, 2836, 2837, 2838, 2839, 2840, 2841, 2842, 2843, 2844, 2845, 2846, 2847, 2848, 2849, 2850, 2851, 2852, 2853, 2854, 2855, 2856, 2857, 2858, 2859, 2860, 2861, 2862, 2863, 2864, 2865, 2866, 2867, 2868, 2869, 2870, 2871, 2872, 2873, 2874, 2875, 2876, 2877, 2878, 2879, 2880, 2881, 2882, 2883, 2884, 2885, 2886, 2887, 2888, 2889, 2890, 2891, 2892, 2893, 2894, 2895, 2896, 2897, 2898, 2899, 2900, 2901, 2902, 2903, 2904, 2905, 2906, 2907, 2908, 2909, 2910, 2911, 2912, 2913, 2914, 2915, 2916, 2917, 2918, 2919, 2920, 2921, 2922, 2923, 2924, 2925, 2926, 2927, 2928, 2929, 2930, 2931, 2932, 2933, 2934, 2935, 2936, 2937, 2938, 2939, 2940, 2941, 2942, 2943, 2944, 2945, 2946, 2947, 2948, 2949, 2950, 2951, 2952, 2953, 2954, 2955, 2956, 2957, 2958, 2959, 2960, 2961, 2962, 2963, 2964, 2965, 2966, 2967, 2968, 2969, 2970, 2971, 2972, 2973, 2974, 2975, 2976, 2977, 2978, 2979, 2980, 2981, 2982, 2983, 2984, 2985, 2986, 2987, 2988, 2989, 2990, 2991, 2992, 2993, 2994, 2995, 2996, 2997, 2998, 2999, 3000, 3001, 3002, 3003, 3004, 3005, 3006, 3007, 3008, 3009, 3010, 3011, 3012, 3013, 3014, 3015, 3016, 3018, 3019, 3020, 3021, 3022, 3023, 3024, 3025, 3026, 3027, 3028, 3029, 3030, 3031, 3032, 3033, 3034, 3035, 3036, 3037, 3038, 3039, 3040, 3041, 3042, 3043, 3044, 3045, 3046, 3047, 3048, 3049, 3050, 3051, 3052, 3053, 3054, 3055, 3056, 3057, 3058, 3059, 3060, 3061, 3062, 3063, 3064, 3065, 3066, 3067, 3068, 3069, 3070, 3071, 3072, 3073, 3074, 3075, 3076, 3077, 3078, 3079, 3080, 3081, 3082, 3083, 3084, 3085, 3086, 3087, 3088, 3089, 3090, 3091, 3092, 3093, 3094, 3095, 3096, 3097, 3098, 3099, 3100, 3101, 3102, 3103, 3104, 3105, 3106, 3107, 3108, 3109, 3110, 3111, 3112, 3113, 3114, 3115, 3116, 3117, 3118, 3119, 3120, 3121, 3122, 3123, 3124, 3125, 3126, 3127, 3128, 3129, 3130, 3131, 3132, 3133, 3134, 3135, 3136, 3137, 3138, 3139, 3140, 3141, 3142, 3143, 3144, 3145, 3146, 3147, 3148, 3149, 3150, 3151, 3152, 3153, 3154, 3155, 3156, 3157, 3158, 3159, 3160, 3161, 3162, 3163, 3164, 3165, 3166, 3167, 3168, 3169, 3170, 3171, 3173, 3174, 3175, 3176, 3177, 3178, 3179, 3180, 3181, 3182, 3183, 3184, 3185, 3186, 3187, 3188, 3189, 3190, 3191, 3194, 3195, 3196, 3197, 3198, 3199, 3200, 3202, 3203, 3205, 3206, 3207, 3208, 3209, 3210, 3211, 3212, 3213, 3214, 3215, 3216, 3217, 3218, 3219, 3220, 3221, 3222, 3223, 3224, 3225, 3226, 3227, 3228, 3229, 3230, 3231, 3232, 3233, 3234, 3235, 3236, 3237, 3238, 3239, 3240, 3241, 3242, 3243, 3244, 3245, 3246, 3247, 3248, 3249, 3250, 3251, 3252, 3253, 3254, 3255, 3256, 3257, 3258, 3259, 3260, 3261, 3262, 3263, 3264, 3265, 3266, 3267, 3268, 3269, 3270, 3271, 3272, 3273, 3274, 3275, 3276, 3277, 3278, 3279, 3280, 3281, 3282, 3283, 3284, 3285, 3286, 3287, 3288, 3289, 3290, 3291, 3292, 3293, 3294, 3295, 3296, 3297, 3298, 3299, 3300, 3301, 3302, 3303, 3304, 3305, 3306, 3307, 3308, 3309, 3310, 3311, 3312, 3313, 3314, 3315, 3316, 3317, 3318, 3319, 3320, 3321, 3322, 3323, 3324, 3325, 3326, 3327, 3328, 3329, 3330, 3331, 3332, 3333, 3334, 3335, 3336, 3337, 3338, 3339, 3340, 3341, 3342, 3343, 3344, 3345, 3346, 3347, 3349, 3350, 3351, 3352, 3353, 3354, 3355, 3356, 3357, 3358, 3359, 3360, 3361, 3362, 3363, 3364, 3365, 3366, 3368, 3369, 3370, 3371, 3374, 3375, 3376, 3377, 3379, 3380, 3382, 3383, 3384, 3385, 3386, 3387, 3388, 3389, 3390, 3391, 3392, 3393, 3394, 3395, 3396, 3397, 3398, 3399, 3400, 3401, 3402, 3403, 3404, 3405, 3406, 3407, 3408, 3409, 3410, 3411, 3412, 3413, 3414, 3415, 3416, 3417, 3418, 3419, 3420, 3421, 3422, 3424, 3425, 3426, 3427, 3428, 3429, 3430, 3431, 3432, 3433, 3434, 3435, 3436, 3437, 3438, 3439, 3440, 3441, 3442, 3443, 3444, 3445, 3446, 3447, 3448, 3449, 3450, 3451, 3452, 3453, 3454, 3455, 3457, 3458, 3459, 3460, 3461, 3462, 3463, 3464, 3465, 3466, 3467, 3468, 3469, 3470, 3471, 3472, 3473, 3474, 3475, 3476, 3477, 3478, 3479, 3480, 3481, 3482, 3483, 3484, 3485, 3486, 3487, 3488, 3489, 3490, 3491, 3492, 3493, 3494, 3495, 3496, 3497, 3498, 3499, 3500, 3501, 3502, 3503, 3504, 3505, 3506, 3507, 3508, 3509, 3510, 3511, 3512, 3513, 3514, 3515, 3516, 3517, 3518, 3519, 3520, 3521, 3522, 3523, 3524, 3525, 3526, 3527, 3528, 3529, 3530, 3531, 3532, 3533, 3534, 3535, 3536, 3537, 3538, 3539, 3540, 3541, 3542, 3543, 3544, 3545, 3546, 3547, 3548, 3549, 3550, 3551, 3552, 3553, 3554, 3555, 3556, 3557, 3558, 3559, 3560, 3561, 3562, 3563, 3564, 3565, 3566, 3567, 3568, 3569, 3570, 3571, 3572, 3573, 3574, 3575, 3576, 3577, 3578, 3579, 3580, 3581, 3582, 3583, 3584, 3585, 3586, 3587, 3588, 3589, 3590, 3591, 3592, 3593, 3594, 3595, 3596, 3597, 3598, 3599, 3600, 3601, 3602, 3603, 3604, 3605, 3606, 3607, 3608, 3609, 3610, 3611, 3612, 3613, 3614, 3615, 3616, 3617, 3618, 3619, 3620, 3621, 3622, 3623, 3624, 3625, 3626, 3627, 3628, 3629, 3630, 3631, 3632, 3633, 3634, 3635, 3636, 3637, 3638, 3639, 3640, 3641, 3642, 3643, 3644, 3645, 3646, 3647, 3648, 3649, 3650, 3651, 3652, 3653, 3654, 3655, 3656, 3657, 3658, 3659, 3660, 3661, 3662, 3663, 3664, 3665, 3666, 3667, 3668, 3669, 3670, 3671, 3672, 3673, 3674, 3675, 3676, 3677, 3678, 3679, 3680, 3681, 3682, 3683, 3684, 3685, 3686, 3687, 3688, 3689, 3690, 3691, 3692, 3693, 3694, 3695, 3696, 3697, 3698, 3699, 3700, 3701, 3702, 3703, 3704, 3705, 3706, 3707, 3708, 3709, 3710, 3711, 3712, 3713, 3714, 3715, 3716, 3717, 3718, 3719, 3720, 3721, 3722, 3723, 3724, 3725, 3726, 3727, 3728, 3729, 3730, 3731, 3732, 3733, 3734, 3735, 3736, 3737, 3738, 3739, 3740, 3741, 3742, 3743, 3744, 3745, 3746, 3747, 3748, 3749, 3750, 3751, 3752, 3753, 3754, 3755, 3756, 3757, 3758, 3759, 3760, 3761, 3762, 3763, 3764, 3765, 3766, 3767, 3768, 3769, 3770, 3771, 3772, 3773, 3774, 3775, 3776, 3777, 3778, 3779, 3780, 3781, 3782, 3783, 3784, 3785, 3786, 3787, 3788, 3789, 3790, 3791, 3792, 3793, 3794, 3795, 3796, 3797, 3798, 3799, 3800, 3801, 3802, 3803, 3804, 3805, 3806, 3807, 3808, 3809, 3810, 3811, 3812, 3813, 3814, 3815, 3816, 3817, 3818, 3819, 3820, 3821, 3822, 3823, 3824, 3825, 3826, 3827, 3828, 3829, 3830, 3831, 3832, 3833, 3834, 3835, 3836, 3837, 3838, 3839, 3840, 3841, 3842, 3843, 3844, 3845, 3850, 3857, 3866, 3867, 3868, 3869, 3870, 3871, 3872, 3873, 3874, 3875, 3876, 3877, 3878, 3879, 3880, 3881, 3882, 3883, 3884, 3885, 3886, 3887, 3888, 3889, 3890, 3891, 3892, 3893, 3894, 3895, 3896, 3897, 3898, 3899, 3900, 3901, 3902, 3903, 3904, 3905, 3906, 3907, 3908, 3909, 3910, 3911, 3912, 3913, 3914, 3915, 3916, 3917, 3918, 3919, 3920, 3921, 3922, 3923, 3924, 3925, 3926, 3927, 3928, 3929, 3930, 3931, 3932, 3933, 3934, 3935, 3936, 3937, 3938, 3939, 3940, 3941, 3942, 3943, 3944, 3945, 3946, 3947, 3948, 3949, 3950, 3951, 3952, 3953, 3954, 3955, 3956, 3957, 3958, 3959, 3960, 3961, 3962, 3963, 3964, 3965, 3966, 3967, 3968, 3969, 3970, 3971, 3972, 3973, 3974, 3975, 3976, 3977, 3978, 3979, 3980, 3981, 3982, 3983, 3984, 3985, 3986, 3987, 3988, 3989, 3990, 3991, 3992, 3993, 3994, 3995, 3996, 3997, 3998, 3999, 4000, 4001, 4002, 4003, 4004, 4005, 4006, 4007, 4008, 4009, 4010, 4011, 4012, 4013, 4014, 4015, 4016, 4017, 4018, 4019, 4020, 4021, 4022, 4023, 4024, 4025, 4026, 4027, 4028, 4029, 4030, 4031, 4032, 4033, 4034, 4035, 4036, 4037, 4038, 4039, 4040, 4041, 4042, 4043, 4044, 4045, 4046, 4047, 4048, 4049, 4050, 4051, 4052, 4053, 4054, 4055, 4056, 4057, 4058, 4059, 4060, 4061, 4062, 4063, 4064, 4065, 4066, 4067, 4068, 4069, 4070, 4071, 4072, 4073, 4074, 4075, 4076, 4077, 4078, 4079, 4080, 4081, 4082, 4083, 4084, 4085, 4086, 4087, 4088, 4089, 4090, 4091, 4092, 4093, 4094, 4095, 4096, 4097, 4098, 4099, 4100, 4101, 4102, 4103, 4104, 4105, 4106, 4107, 4108, 4109, 4110, 4111, 4112, 4113, 4114, 4115, 4116, 4117, 4118, 4119, 4120, 4121, 4122, 4123, 4124, 4125, 4126, 4127, 4128, 4129, 4130, 4131, 4132, 4133, 4134, 4135, 4136, 4137, 4138, 4139, 4140, 4141, 4142, 4143, 4144, 4145, 4146, 4147, 4148, 4149, 4150, 4151, 4152, 4153, 4154, 4155, 4156, 4157, 4158, 4159, 4160, 4161, 4162, 4163, 4164, 4165, 4166, 4167, 4168, 4169, 4170, 4171, 4172, 4173, 4174, 4175, 4176, 4177, 4178, 4179, 4180, 4181, 4182, 4183, 4184, 4185, 4186, 4187, 4188, 4189, 4190, 4191, 4192, 4193, 4194, 4195, 4196, 4197, 4198, 4199, 4200, 4201, 4202, 4203, 4204, 4205, 4206, 4207, 4208, 4209, 4210, 4211, 4212, 4213, 4214, 4215, 4216, 4217, 4218, 4219, 4220, 4221, 4222, 4223, 4224, 4225, 4226, 4227, 4228, 4229, 4230, 4231, 4232, 4233, 4234, 4235, 4236, 4237, 4238, 4239, 4240, 4241, 4242, 4243, 4244, 4245, 4246, 4247, 4248, 4249, 4250, 4251, 4252, 4253, 4254, 4255, 4256, 4257, 4258, 4259, 4260, 4261, 4262, 4263, 4264, 4265, 4266, 4267, 4268, 4269, 4270, 4271, 4272, 4273, 4274, 4275, 4276, 4277, 4278, 4279, 4280, 4281, 4282, 4283, 4284, 4285, 4286, 4287, 4288, 4289, 4290, 4291, 4292, 4293, 4294, 4295, 4296, 4297, 4298, 4299, 4300, 4301, 4302, 4303, 4304, 4305, 4306, 4307, 4308, 4309, 4310, 4311, 4312, 4313, 4314, 4315, 4316, 4317, 4318, 4319, 4320, 4321, 4322, 4323, 4324, 4325, 4326, 4327, 4328, 4329, 4330, 4331, 4332, 4333, 4334, 4335, 4336, 4337, 4338, 4339, 4340, 4341, 4342, 4343, 4344, 4345, 4346, 4347, 4348, 4349, 4350, 4351, 4352, 4353, 4354, 4355, 4356, 4357, 4358, 4359, 4360, 4361, 4362, 4363, 4364, 4365, 4366, 4368, 4372, 4373, 4374, 4375, 4376, 4377, 4378, 4379, 4380, 4381, 4382, 4383, 4384, 4385, 4386, 4387, 4388, 4389, 4390, 4391, 4392, 4393, 4394, 4395, 4396, 4397, 4398, 4399, 4400, 4401, 4402, 4403, 4404, 4405, 4406, 4407, 4408, 4409, 4410, 4411, 4412, 4413, 4414, 4415, 4416, 4417, 4418, 4419, 4420, 4421, 4422, 4423, 4424, 4425, 4426, 4427, 4428, 4429, 4430, 4431, 4432, 4433, 4434, 4435, 4436, 4437, 4438, 4439, 4440, 4441, 4442, 4443, 4444, 4445, 4446, 4447, 4448, 4449, 4450, 4451, 4452, 4453, 4454, 4455, 4456, 4457, 4458, 4459, 4460, 4461, 4462, 4463, 4464, 4465, 4466, 4467, 4468, 4469, 4470, 4471, 4472, 4473, 4474, 4475, 4476, 4477, 4478, 4479, 4480, 4481, 4482, 4494, 4513, 4515, 4516, 4517, 4518, 4519, 4520, 4521, 4522, 4523, 4524, 4525, 4526, 4527, 4528, 4529, 4530, 4531, 4532, 4533, 4534, 4535, 4536, 4537, 4538, 4539, 4540, 4541, 4542, 4543, 4544, 4545, 4546, 4547, 4548, 4549, 4550, 4551, 4552, 4553, 4554, 4555, 4556, 4557, 4558, 4559, 4560, 4561, 4562, 4563, 4564, 4565, 4566, 4567, 4568, 4569, 4570, 4571, 4572, 4573, 4574, 4575, 4576, 4577, 4578, 4579, 4580, 4581, 4582, 4583, 4584, 4585, 4586, 4587, 4588, 4589, 4590, 4591, 4592, 4593, 4594, 4595, 4596, 4597, 4598, 4599, 4600, 4601, 4602, 4603, 4604, 4605, 4606, 4607, 4608, 4609, 4610, 4611, 4612, 4613, 4614, 4615, 4616, 4617, 4618, 4619, 4620, 4621, 4622, 4623, 4624, 4625, 4626, 4627, 4628, 4629, 4630, 4631, 4632, 4633, 4634, 4635, 4636, 4637, 4638, 4639, 4640, 4641, 4642, 4643, 4644, 4645, 4646, 4647, 4648, 4649, 4650, 4651, 4652, 4653, 4654, 4655, 4656, 4657, 4658, 4659, 4660, 4661, 4662, 4663, 4664, 4665, 4666, 4667, 4668, 4669, 4670, 4671, 4672, 4673, 4674, 4675, 4676, 4677, 4678, 4679, 4680, 4681, 4682, 4683, 4684, 4685, 4686, 4687, 4688, 4689, 4690, 4691, 4692, 4693, 4694, 4695, 4696, 4697, 4698, 4699, 4700, 4701, 4702, 4703, 4704, 4705, 4706, 4707, 4708, 4709, 4710, 4711, 4712, 4713, 4714, 4715, 4716, 4717, 4718, 4719, 4720, 4721, 4722, 4723, 4724, 4725, 4726, 4727, 4728, 4729, 4730, 4731, 4732, 4733, 4734, 4735, 4736, 4737, 4738, 4739, 4740, 4741, 4742, 4743, 4744, 4745, 4746, 4747, 4748, 4749, 4750, 4751, 4752, 4753, 4754, 4755, 4756, 4757, 4758, 4759, 4760, 4761, 4762, 4763, 4764, 4765, 4766, 4767, 4768, 4769, 4770, 4771, 4772, 4773, 4774, 4775, 4776, 4777, 4778, 4779, 4780, 4781, 4782, 4783, 4784, 4785, 4786, 4787, 4788, 4789, 4790, 4791, 4792, 4793, 4794, 4795, 4796, 4797, 4798, 4799, 4800, 4801, 4802, 4803, 4804, 4805, 4806, 4807, 4808, 4809, 4810, 4811, 4812, 4813, 4814, 4815, 4816, 4817, 4818, 4819, 4820, 4821, 4822, 4823, 4824, 4825, 4826, 4827, 4828, 4829, 4830, 4831, 4832, 4833, 4834, 4835, 4836, 4837, 4838, 4839, 4840, 4841, 4842, 4843, 4844, 4845, 4846, 4847, 4848, 4849, 4850, 4851, 4852, 4853, 4854, 4855, 4856, 4857, 4858, 4859, 4860, 4861, 4862, 4863, 4864, 4865, 4866, 4867, 4868, 4869, 4870, 4871, 4872, 4873, 4874, 4875, 4876, 4877, 4878, 4879, 4880, 4881, 4882, 4883, 4884, 4885, 4886, 4887, 4888, 4889, 4890, 4891, 4892, 4893, 4894, 4895, 4896, 4897, 4898, 4899, 4900, 4901, 4902, 4903, 4904, 4905, 4906, 4907, 4908, 4909, 4910, 4911, 4912, 4913, 4914, 4915, 4916, 4917, 4918, 4919, 4920, 4921, 4922, 4923, 4924, 4925, 4926, 4927, 4928, 4929, 4930, 4931, 4932, 4933, 4934, 4935, 4936, 4937, 4938, 4939, 4940, 4941, 4942, 4943, 4944, 4945, 4946, 4947, 4948, 4949, 4950, 4951, 4952, 4953, 4954, 4955, 4956, 4957, 4958, 4960, 4961, 4962, 4963, 4964, 4965, 4966, 4967, 4968, 4969, 4970, 4971, 4972, 4973, 4974, 4975, 4976, 4977, 4978, 4979, 4980, 4981, 4982, 4983, 4984, 4985, 4986, 4987, 4988, 4989, 4990, 4991, 4992, 4993, 4994, 4995, 4996, 4997, 4998, 4999, 5000, 5001, 5002, 5003, 5004, 5005, 5006, 5007, 5008, 5009, 5010, 5011, 5012, 5013, 5014, 5015, 5016, 5017, 5018, 5019, 5020, 5021, 5022, 5023, 5024, 5025, 5026, 5027, 5028, 5029, 5030, 5031, 5032, 5033, 5034, 5035, 5036, 5037, 5038, 5039, 5040, 5041, 5042, 5043, 5044, 5045, 5046, 5047, 5048, 5049, 5050, 5051, 5052, 5053, 5054, 5055, 5056, 5057, 5058, 5059, 5060, 5061, 5062, 5063, 5064, 5065, 5066, 5067, 5068, 5069, 5070, 5071, 5072, 5073, 5074, 5075, 5076, 5077, 5078, 5079, 5080, 5081, 5082, 5083, 5084, 5085, 5086, 5087, 5088, 5089, 5090, 5091, 5092, 5093, 5094, 5095, 5096, 5097, 5098, 5099, 5100, 5101, 5102, 5103, 5104, 5105, 5106, 5107, 5108, 5109, 5110, 5112, 5113, 5114, 5115, 5116, 5117, 5118, 5119, 5120, 5121, 5122, 5123, 5124, 5125, 5126, 5127, 5128, 5129, 5130, 5131, 5132, 5133, 5134, 5135, 5136, 5137, 5138, 5139, 5140, 5141, 5142, 5143, 5144, 5145, 5146, 5147, 5148, 5149, 5150, 5151, 5152, 5153, 5154, 5155, 5156, 5157, 5158, 5159, 5160, 5161, 5162, 5163, 5164, 5165, 5166, 5167, 5168, 5169, 5170, 5171, 5172, 5173, 5174, 5175, 5176, 5177, 5178, 5179, 5180, 5181, 5182, 5183, 5184, 5185, 5186, 5187, 5188, 5189, 5190, 5191, 5192, 5193, 5194, 5195, 5196, 5197, 5198, 5199, 5200, 5201, 5202, 5203, 5204, 5205, 5206, 5207, 5208, 5209, 5210, 5211, 5212, 5213, 5214, 5215, 5216, 5217, 5218, 5219, 5220, 5221, 5222, 5223, 5224, 5225, 5226, 5227, 5228, 5229, 5230, 5231, 5232, 5233, 5234, 5235, 5236, 5237, 5238, 5239, 5240, 5241, 5242, 5243, 5244, 5245, 5246, 5247, 5248, 5249, 5250, 5251, 5252, 5253, 5254, 5255, 5256, 5257, 5258, 5259, 5260, 5261, 5262, 5263, 5264, 5265, 5266, 5267, 5268, 5269, 5270, 5271, 5272, 5273, 5274, 5275, 5276, 5277, 5278, 5279, 5280, 5281, 5282, 5283, 5284, 5285, 5286, 5287, 5288, 5289, 5290, 5291, 5292, 5293, 5294, 5295, 5296, 5297, 5298, 5299, 5300, 5301, 5302, 5303, 5304, 5305, 5306, 5307, 5308, 5309, 5310, 5311, 5312, 5313, 5314, 5315, 5316, 5317, 5318, 5319, 5320, 5321, 5322, 5323, 5324, 5325, 5326, 5327, 5328, 5329, 5330, 5331, 5332, 5333, 5334, 5335, 5336, 5337, 5338, 5339, 5341, 5342, 5343, 5344, 5345, 5346, 5347, 5348, 5349, 5350, 5351, 5352, 5353, 5354, 5355, 5356, 5357, 5358, 5359, 5360, 5361, 5362, 5363, 5364, 5365, 5366, 5367, 5368, 5369, 5370, 5371, 5372, 5373, 5374, 5375, 5376, 5377, 5378, 5379, 5380, 5381, 5382, 5383, 5384, 5385, 5386, 5387, 5388, 5389, 5390, 5391, 5392, 5393, 5394, 5395, 5396, 5397, 5398, 5399, 5400, 5401, 5402, 5403, 5404, 5405, 5406, 5407, 5408, 5409, 5410, 5411, 5412, 5413, 5414, 5415, 5416, 5417, 5418, 5419, 5420, 5421, 5422, 5423, 5424, 5425, 5426, 5427, 5428, 5429, 5430, 5431, 5432, 5433, 5434, 5435, 5436, 5437, 5438, 5439, 5440, 5441, 5442, 5443, 5444, 5445, 5446, 5447, 5448, 5449, 5450, 5451, 5452, 5453, 5454, 5455, 5456, 5457, 5458, 5459, 5460, 5461, 5462, 5463, 5464, 5465, 5466, 5467, 5468, 5469, 5470, 5471, 5472, 5473, 5474, 5475, 5476, 5477, 5478, 5479, 5480, 5481, 5482, 5483, 5484, 5485, 5486, 5487, 5488, 5489, 5490, 5491, 5492, 5493, 5494, 5495, 5496, 5497, 5498, 5499, 5500, 5501, 5502, 5503, 5504, 5505, 5506, 5507, 5508, 5509, 5510, 5511, 5512, 5513, 5514, 5515, 5516, 5517, 5518, 5519, 5520, 5521, 5522, 5523, 5524, 5525, 5526, 5527, 5528, 5529, 5530, 5531, 5532, 5533, 5534, 5535, 5536, 5537, 5538, 5539, 5540, 5541, 5542, 5543, 5544, 5545, 5546, 5547, 5548, 5549, 5550, 5551, 5552, 5553, 5554, 5555, 5556, 5557, 5558, 5559, 5560, 5561, 5562, 5563, 5564, 5565, 5566, 5567, 5568, 5569, 5570, 5571, 5572, 5573, 5574, 5575, 5576, 5577, 5578, 5579, 5580, 5581, 5582, 5583, 5584, 5585, 5586, 5587, 5588, 5589, 5590, 5591, 5592, 5593, 5594, 5595, 5596, 5597, 5598, 5599, 5600, 5601, 5602, 5603, 5604, 5605, 5606, 5607, 5608, 5609, 5610, 5611, 5612, 5613, 5614, 5615, 5616, 5617, 5618, 5619, 5620, 5621, 5622, 5623, 5624, 5625, 5626, 5627, 5628, 5629, 5630, 5631, 5632, 5633, 5634, 5635, 5636, 5637, 5638, 5639, 5640, 5641, 5642, 5643, 5644, 5645, 5646, 5647, 5648, 5649, 5650, 5651, 5652, 5653, 5654, 5655, 5656, 5657, 5658, 5659, 5660, 5661, 5662, 5663, 5664, 5665, 5666, 5667, 5668, 5669, 5670, 5671, 5672, 5673, 5674, 5675, 5676, 5677, 5678, 5679, 5680, 5681, 5682, 5683, 5684, 5685, 5686, 5687, 5688, 5689, 5690, 5691, 5692, 5693, 5694, 5695, 5696, 5697, 5698, 5699, 5700, 5701, 5702, 5703, 5704, 5705, 5706, 5707, 5708, 5709, 5710, 5711, 5712, 5713, 5714, 5715, 5716, 5717, 5718, 5719, 5720, 5721, 5722, 5723, 5724, 5725, 5726, 5727, 5728, 5729, 5730, 5732, 5733, 5734, 5735, 5736, 5738, 5739, 5740, 5741, 5742, 5743, 5744, 5745, 5746, 5747, 5748, 5749, 5750, 5751, 5752, 5753, 5754, 5755, 5756, 5757, 5758, 5759, 5760, 5761, 5762, 5763, 5764, 5765, 5766, 5767, 5768, 5769, 5770, 5771, 5772, 5773, 5774, 5775, 5776, 5777, 5778, 5779, 5780, 5781, 5782, 5783, 5784, 5785, 5786, 5787, 5788, 5789, 5790, 5791, 5792, 5793, 5794, 5795, 5796, 5797, 5798, 5799, 5800, 5801, 5802, 5803, 5804, 5805, 5806, 5807, 5808, 5809, 5810, 5811, 5812, 5813, 5814, 5815, 5816, 5817, 5818, 5819, 5820, 5821, 5822, 5823, 5824, 5825, 5826, 5827, 5828, 5829, 5830, 5831, 5832, 5833, 5834, 5835, 5836, 5837, 5838, 5839, 5840, 5841, 5842, 5843, 5844, 5845, 5846, 5847, 5848, 5849, 5850, 5851, 5852, 5853, 5854, 5855, 5856, 5857, 5858, 5859, 5860, 5861, 5862, 5863, 5864, 5865, 5866, 5867, 5868, 5869, 5870, 5871, 5872, 5873, 5874, 5875, 5876, 5877, 5878, 5879, 5880, 5881, 5882, 5883, 5884, 5885, 5886, 5887, 5888, 5889, 5890, 5891, 5892, 5893, 5894, 5895, 5896, 5897, 5898, 5899, 5900, 5901, 5902, 5903, 5904, 5905, 5906, 5907, 5908, 5909, 5910, 5911, 5912, 5913, 5914, 5915, 5916, 5917, 5918, 5919, 5920, 5921, 5922, 5923, 5924, 5925, 5926, 5927, 5928, 5929, 5930, 5931, 5932, 5933, 5934, 5935, 5936, 5937, 5938, 5939, 5940, 5941, 5942, 5943, 5944, 5945, 5946, 5947, 5948, 5949, 5950, 5951, 5952, 5953, 5954, 5955, 5956, 5957, 5958, 5959, 5960, 5961, 5962, 5963, 5964, 5965, 5966, 5967, 5968, 5969, 5970, 5971, 5972, 5973, 5974, 5975, 5976, 5977, 5978, 5979, 5980, 5981, 5982, 5983, 5984, 5985, 5986, 5987, 5988, 5989, 5990, 5991, 5993, 5994, 5995, 5996, 5997, 5998, 5999, 6000, 6001, 6002, 6003, 6004, 6005, 6006, 6007, 6008, 6009, 6010, 6011, 6012, 6013, 6014, 6015, 6016, 6017, 6018, 6019, 6020, 6021, 6022, 6023, 6024, 6025, 6026, 6027, 6028, 6029, 6030, 6031, 6032, 6033, 6034, 6035, 6036, 6037, 6038, 6039, 6040, 6041, 6042, 6043, 6044, 6045, 6046, 6047, 6048, 6049, 6050, 6051, 6052, 6053, 6054, 6055, 6056, 6057, 6058, 6059, 6060, 6061, 6062, 6063, 6064, 6065, 6066, 6067, 6068, 6069, 6070, 6071, 6072, 6073, 6074, 6075, 6076, 6077, 6078, 6079, 6080, 6081, 6082, 6083, 6084, 6085, 6086, 6087, 6088, 6089, 6090, 6091, 6092, 6093, 6094, 6095, 6096, 6097, 6098, 6099, 6100, 6101, 6102, 6103, 6104, 6105, 6106, 6107, 6108, 6109, 6110, 6111, 6112, 6113, 6114, 6115, 6116, 6117, 6118, 6119, 6120, 6121, 6122, 6123, 6124, 6125, 6126, 6127, 6128, 6129, 6130, 6131, 6132, 6133, 6134, 6135, 6136, 6137, 6138, 6139, 6140, 6141, 6142, 6143, 6144, 6145, 6146, 6147, 6148, 6149, 6150, 6151, 6152, 6153, 6154, 6155, 6156, 6157, 6158, 6159, 6160, 6161, 6162, 6163, 6164, 6165, 6166, 6167, 6168, 6169, 6170, 6171, 6172, 6173, 6174, 6175, 6176, 6177, 6178, 6179, 6180, 6181, 6182, 6183, 6184, 6185, 6186, 6187, 6188, 6189, 6190, 6191, 6192, 6193, 6194, 6195, 6196, 6197, 6198, 6199, 6200, 6201, 6202, 6203, 6204, 6205, 6206, 6207, 6208, 6209, 6210, 6211, 6212, 6213, 6214, 6215, 6216, 6217, 6218, 6219, 6220, 6221, 6222, 6223, 6224, 6225, 6226, 6227, 6228, 6229, 6230, 6231, 6232, 6233, 6234, 6235, 6236, 6237, 6238, 6239, 6240, 6241, 6242, 6243, 6244, 6245, 6246, 6247, 6248, 6249, 6250, 6251, 6252, 6253, 6254, 6255, 6256, 6257, 6258, 6259, 6260, 6261, 6262, 6263, 6264, 6265, 6266, 6267, 6268, 6269, 6270, 6271, 6272, 6273, 6274, 6275, 6276, 6277, 6278, 6279, 6280, 6281, 6282, 6283, 6284, 6285, 6286, 6287, 6288, 6289, 6290, 6291, 6292, 6293, 6294, 6295, 6296, 6297, 6298, 6299, 6300, 6301, 6302, 6303, 6304, 6305, 6306, 6307, 6308, 6309, 6310, 6311, 6312, 6313, 6314, 6315, 6316, 6317, 6318, 6319, 6320, 6321, 6322, 6323, 6324, 6325, 6326, 6327, 6328, 6329, 6330, 6331, 6332, 6333, 6334, 6335, 6336, 6337, 6338, 6339, 6340, 6341, 6342, 6343, 6344, 6345, 6346, 6347, 6348, 6349, 6350, 6351, 6352, 6353, 6354, 6355, 6356, 6357, 6358, 6359, 6360, 6361, 6362, 6363, 6364, 6365, 6366, 6367, 6368, 6369, 6370, 6371, 6372, 6373, 6374, 6375, 6376, 6377, 6378, 6379, 6380, 6381, 6382, 6383, 6384, 6385, 6386, 6387, 6388, 6389, 6390, 6391, 6392, 6393, 6394, 6395, 6396, 6397, 6398, 6399, 6400, 6401, 6402, 6403, 6404, 6405, 6406, 6407, 6408, 6409, 6410, 6411, 6412, 6413, 6414, 6415, 6416, 6417, 6418, 6419, 6420, 6421, 6422, 6423, 6424, 6425, 6426, 6427, 6428, 6429, 6430, 6431, 6432, 6433, 6434, 6435, 6436, 6437, 6438, 6439, 6440, 6441, 6442, 6443, 6444, 6445, 6446, 6447, 6448, 6449, 6450, 6451, 6452, 6453, 6454, 6455, 6456, 6457, 6458, 6459, 6460, 6461, 6462, 6463, 6464, 6465, 6466, 6467, 6468, 6469, 6470, 6471, 6472, 6473, 6474, 6475, 6476, 6477, 6478, 6479, 6480, 6481, 6482, 6483, 6484, 6485, 6486, 6487, 6488, 6489, 6490, 6491, 6492, 6493, 6494, 6495, 6496, 6497, 6498, 6499, 6500, 6501, 6502, 6503, 6504, 6505, 6506, 6507, 6508, 6509, 6510, 6511, 6512, 6513, 6514, 6515, 6516, 6517, 6518, 6519, 6520, 6521, 6522, 6523, 6524, 6525, 6526, 6527, 6528, 6529, 6530, 6531, 6532, 6533, 6534, 6535, 6536, 6537, 6538, 6539, 6540, 6541, 6542, 6543, 6544, 6545, 6546, 6547, 6548, 6549, 6550, 6551, 6552, 6553, 6554, 6555, 6556, 6557, 6558, 6559, 6560, 6561, 6562, 6563, 6564, 6565, 6566, 6567, 6568, 6569, 6570, 6571, 6572, 6573, 6574, 6575, 6576, 6577, 6578, 6579, 6580, 6581, 6582, 6583, 6584, 6585, 6586, 6587, 6588, 6589, 6590, 6591, 6592, 6593, 6594, 6595, 6596, 6597, 6598, 6599, 6600, 6601, 6602, 6603, 6604, 6605, 6606, 6607, 6608, 6609, 6610, 6611, 6612, 6613, 6614, 6615, 6616, 6617, 6618, 6619, 6620, 6621, 6622, 6623, 6624, 6625, 6626, 6627, 6628, 6629, 6630, 6631, 6632, 6633, 6634, 6635, 6636, 6637, 6638, 6639, 6640, 6641, 6642, 6643, 6644, 6645, 6646, 6647, 6648, 6649, 6650, 6651, 6652, 6653, 6654, 6655, 6656, 6657, 6658, 6659, 6660, 6661, 6662, 6663, 6664, 6665, 6666, 6667, 6668, 6669, 6670, 6671, 6672, 6673, 6674, 6675, 6676, 6677, 6678, 6679, 6680, 6681, 6682, 6683, 6684, 6685, 6686, 6687, 6688, 6689, 6690, 6691, 6692, 6693, 6694, 6695, 6696, 6697, 6698, 6699, 6700, 6701, 6702, 6703, 6704, 6705, 6706, 6707, 6708, 6709, 6710, 6711, 6712, 6713, 6714, 6715, 6716, 6717, 6718, 6719, 6720, 6721, 6722, 6723, 6724, 6725, 6726, 6727, 6728, 6729, 6730, 6731, 6732, 6733, 6734, 6735, 6736, 6737, 6738, 6739, 6740, 6741, 6742, 6743, 6744, 6745, 6746, 6747, 6748, 6749, 6750, 6751, 6752, 6753, 6754, 6755, 6756, 6757, 6758, 6759, 6760, 6761, 6762, 6763, 6764, 6765, 6766, 6767, 6768, 6770, 6771, 6773, 6774, 6775, 6776, 6777, 6778, 6779, 6780, 6781, 6782, 6783, 6784, 6785, 6786, 6787, 6788, 6789, 6790, 6791, 6792, 6793, 6794, 6795, 6796, 6797, 6798, 6799, 6800, 6801, 6802, 6803, 6804, 6805, 6806, 6807, 6808, 6809, 6810, 6811, 6812, 6813, 6814, 6815, 6816, 6817, 6818, 6819, 6820, 6821, 6822, 6823, 6824, 6825, 6826, 6827, 6828, 6829, 6830, 6831, 6832, 6833, 6834, 6835, 6836, 6837, 6838, 6839, 6840, 6841, 6842, 6843, 6844, 6845, 6846, 6847, 6848, 6849, 6850, 6851, 6852, 6853, 6854, 6855, 6856, 6857, 6858, 6859, 6860, 6861, 6862, 6863, 6864, 6865, 6866, 6867, 6868, 6869, 6870, 6871, 6872, 6873, 6874, 6875, 6876, 6877, 6878, 6879, 6880, 6881, 6882, 6883, 6884, 6885, 6886, 6887, 6888, 6889, 6890, 6891, 6892, 6893, 6894, 6895, 6896, 6897, 6898, 6899, 6900, 6901, 6902, 6903, 6904, 6905, 6906, 6907, 6908, 6909, 6910, 6911, 6912, 6913, 6914, 6915, 6916, 6917, 6918, 6919, 6920, 6921, 6922, 6923, 6924, 6925, 6926, 6927, 6928, 6929, 6930, 6931, 6932, 6933, 6934, 6935, 6936, 6937, 6938, 6939, 6940, 6941, 6942, 6943, 6944, 6945, 6946, 6947, 6948, 6949, 6950, 6951, 6952, 6953, 6954, 6955, 6956, 6957, 6958, 6959, 6960, 6961, 6962, 6963, 6964, 6965, 6966, 6967, 6968, 6969, 6970, 6971, 6972, 6973, 6974, 6975, 6976, 6977, 6978, 6979, 6980, 6981, 6982, 6983, 6984, 6985, 6986, 6987, 6988, 6989, 6990, 6991, 6992, 6993, 6994, 6995, 6996, 6997, 6998, 6999, 7000, 7001, 7002, 7003, 7004, 7005, 7006, 7007, 7008, 7009, 7010, 7011, 7012, 7013, 7014, 7015, 7016, 7017, 7018, 7019, 7020, 7021, 7022, 7023, 7024, 7025, 7026, 7027, 7028, 7029, 7030, 7031, 7033, 7034, 7035, 7036, 7037, 7038, 7039, 7040, 7041, 7042, 7043, 7044, 7045, 7046, 7047, 7048, 7049, 7050, 7051, 7052, 7053, 7054, 7055, 7056, 7057, 7058, 7059, 7060, 7061, 7062, 7063, 7064, 7065, 7066, 7067, 7068, 7069, 7070, 7071, 7072, 7073, 7074, 7075, 7076, 7077, 7078, 7079, 7080, 7081, 7082, 7083, 7084, 7085, 7086, 7087, 7088, 7089, 7090, 7091, 7092, 7093, 7094, 7095, 7096, 7097, 7098, 7099, 7100, 7101, 7102, 7103, 7104, 7105, 7106, 7107, 7108, 7109, 7110, 7111, 7112, 7113, 7114, 7115, 7116, 7117, 7118, 7119, 7120, 7121, 7122, 7123, 7124, 7125, 7126, 7127, 7128, 7129, 7130, 7131, 7132, 7133, 7134, 7135, 7136, 7137, 7138, 7139, 7140, 7141, 7142, 7143, 7144, 7145, 7146, 7147, 7148, 7149, 7150, 7151, 7152, 7153, 7154, 7155, 7156, 7157, 7158, 7159, 7160, 7161, 7162, 7163, 7164, 7165, 7166, 7167, 7168, 7169, 7170, 7171, 7172, 7173, 7174, 7175, 7176, 7177, 7178, 7179, 7180, 7181, 7182, 7183, 7184, 7185, 7186, 7187, 7188, 7189, 7190, 7191, 7192, 7193, 7194, 7195, 7196, 7197, 7198, 7199, 7200, 7201, 7202, 7203, 7204, 7205, 7206, 7207, 7208, 7209, 7210, 7211, 7212, 7213, 7214, 7215, 7216, 7217, 7218, 7219, 7220, 7221, 7222, 7223, 7224, 7225, 7226, 7227, 7228, 7229, 7230, 7231, 7232, 7233, 7234, 7235, 7236, 7237, 7238, 7239, 7240, 7241, 7242, 7243, 7244, 7245, 7246, 7247, 7248, 7249, 7250, 7251, 7252, 7253, 7254, 7255, 7256, 7257, 7258, 7259, 7260, 7261, 7262, 7263, 7264, 7265, 7266, 7267, 7268, 7269, 7270, 7271, 7272, 7273, 7274, 7275, 7276, 7277, 7278, 7279, 7280, 7281, 7282, 7283, 7284, 7285, 7286, 7287, 7288, 7289, 7290, 7291, 7292, 7293, 7294, 7295, 7296, 7297, 7298, 7299, 7300, 7301, 7302, 7303, 7304, 7305, 7306, 7307, 7308, 7309, 7310, 7311, 7312, 7313, 7314, 7315, 7316, 7317, 7318, 7319, 7320, 7321, 7322, 7323, 7324, 7325, 7326, 7327, 7328, 7329, 7330, 7331, 7332, 7333, 7334, 7335, 7336, 7337, 7338, 7339, 7340, 7341, 7342, 7343, 7344, 7345, 7346, 7347, 7348, 7349, 7350, 7351, 7352, 7353, 7354, 7355, 7356, 7357, 7358, 7359, 7360, 7361, 7362, 7363, 7364, 7365, 7366, 7367, 7368, 7369, 7370, 7371, 7372, 7373, 7374, 7375, 7376, 7377, 7378, 7379, 7380, 7381, 7382, 7383, 7384, 7385, 7386, 7387, 7388, 7389, 7390, 7391, 7392, 7393, 7394, 7395, 7396, 7397, 7398, 7399, 7400, 7401, 7402, 7403, 7404, 7405, 7406, 7407, 7408, 7409, 7410, 7411, 7412, 7413, 7414, 7415, 7416, 7417, 7418, 7419, 7420, 7421, 7422, 7423, 7424, 7425, 7426, 7427, 7428, 7429, 7430, 7431, 7432, 7433, 7434, 7435, 7436, 7437, 7438, 7439, 7440, 7441, 7442, 7443, 7444, 7445, 7446, 7447, 7448, 7449, 7450, 7451, 7452, 7453, 7454, 7455, 7456, 7457, 7458, 7459, 7460, 7461, 7462, 7463, 7464, 7465, 7466, 7467, 7468, 7469, 7470, 7471, 7472, 7473, 7474, 7475, 7476, 7477, 7478, 7479, 7480, 7481, 7482, 7483, 7484, 7485, 7486, 7487, 7488, 7489, 7490, 7491, 7492, 7493, 7494, 7495, 7496, 7497, 7498, 7499, 7500, 7501, 7502, 7503, 7504, 7505, 7506, 7507, 7508, 7509, 7510, 7511, 7512, 7513, 7514, 7515, 7516, 7517, 7518, 7519, 7520, 7521, 7522, 7523, 7524, 7525, 7526, 7527, 7528, 7529, 7530, 7531, 7532, 7533, 7534, 7535, 7536, 7537, 7538, 7539, 7540, 7541, 7542, 7543, 7544, 7545, 7546, 7547, 7548, 7549, 7550, 7551, 7552, 7553, 7554, 7555, 7556, 7557, 7558, 7559, 7560, 7561, 7562, 7563, 7564, 7565, 7566, 7567, 7568, 7569, 7570, 7571, 7572, 7573, 7574, 7575, 7576, 7577, 7578, 7579, 7580, 7581, 7582, 7583, 7584, 7585, 7586, 7587, 7588, 7589, 7590, 7591, 7592, 7593, 7594, 7595, 7596, 7597, 7598, 7599, 7600, 7601, 7602, 7603, 7604, 7605, 7606, 7607, 7608, 7609, 7610, 7611, 7612, 7613, 7614, 7615, 7616, 7617, 7618, 7619, 7620, 7621, 7622, 7623, 7624, 7625, 7626, 7627, 7628, 7629, 7630, 7631, 7632, 7633, 7634, 7635, 7636, 7637, 7638, 7639, 7640, 7641, 7642, 7643, 7644, 7645, 7646, 7647, 7648, 7649, 7650, 7651, 7652, 7653, 7654, 7655, 7656, 7657, 7658, 7659, 7660, 7661, 7662, 7663, 7664, 7665, 7666, 7667, 7668, 7669, 7670, 7671, 7672, 7673, 7674, 7675, 7676, 7677, 7678, 7679, 7680, 7681, 7682, 7683, 7684, 7685, 7686, 7687, 7688, 7689, 7690, 7691, 7692, 7693, 7694, 7695, 7696, 7697, 7698, 7699, 7700, 7701, 7702, 7703, 7704, 7705, 7706, 7707, 7708, 7709, 7710, 7711, 7712, 7713, 7714, 7715, 7716, 7717, 7718, 7719, 7720, 7721, 7722, 7723, 7724, 7725, 7726, 7727, 7728, 7729, 7730, 7731, 7732, 7733, 7734, 7735, 7736, 7737, 7738, 7739, 7740, 7741, 7742, 7743, 7744, 7745, 7746, 7747, 7748, 7749, 7750, 7751, 7752, 7753, 7754, 7755, 7756, 7757, 7758, 7759, 7760, 7761, 7762, 7763, 7764, 7765, 7766, 7767, 7768, 7769, 7770, 7771, 7772, 7773, 7774, 7775, 7776, 7777, 7778, 7779, 7780, 7781, 7782, 7783, 7784, 7785, 7786, 7787, 7788, 7789, 7790, 7791, 7792, 7793, 7794, 7795, 7796, 7797, 7798, 7799, 7800, 7801, 7802, 7803, 7804, 7805, 7806, 7807, 7808, 7809, 7810, 7811, 7812, 7813, 7814, 7815, 7816, 7817, 7818, 7819, 7820, 7821, 7822, 7823, 7824, 7825, 7826, 7827, 7828, 7829, 7830, 7831, 7832, 7833, 7834, 7835, 7836, 7837, 7838, 7839, 7840, 7841, 7842, 7843, 7844, 7845, 7846, 7847, 7848, 7849, 7850, 7851, 7852, 7853, 7854, 7855, 7856, 7857, 7858, 7859, 7860, 7861, 7862, 7863, 7864, 7865, 7866, 7867, 7868, 7869, 7870, 7871, 7872, 7873, 7874, 7875, 7876, 7877, 7878, 7879, 7880, 7881, 7882, 7883, 7884, 7885, 7886, 7887, 7888, 7889, 7890, 7891, 7892, 7893, 7894, 7895, 7896, 7897, 7898, 7899, 7900, 7901, 7902, 7903, 7904, 7905, 7906, 7907, 7908, 7909, 7910, 7911, 7912, 7913, 7914, 7915, 7916, 7917, 7918, 7919, 7920, 7921, 7922, 7923, 7924, 7925, 7926, 7927, 7928, 7929, 7930, 7931, 7932, 7933, 7934, 7935, 7936, 7937, 7938, 7939, 7940, 7941, 7942, 7943, 7944, 7945, 7946, 7947, 7948, 7949, 7950, 7951, 7952, 7953, 7954, 7955, 7956, 7957, 7958, 7959, 7960, 7961, 7962, 7963, 7964, 7965, 7966, 7967, 7968, 7969, 7970, 7971, 7972, 7973, 7974, 7975, 7976, 7977, 7978, 7979, 7980, 7981, 7982, 7983, 7984, 7985, 7986, 7987, 7988, 7989, 7990, 7991, 7992, 7993, 7994, 7995, 7996, 7997, 7998, 7999, 8000, 8001, 8002, 8003, 8004, 8005, 8006, 8007, 8008, 8009, 8010, 8011, 8012, 8013, 8014, 8015, 8016, 8017, 8018, 8019, 8020, 8021, 8022, 8023, 8024, 8025, 8026, 8027, 8028, 8029, 8030, 8031, 8032, 8033, 8034, 8035, 8036, 8037, 8038, 8039, 8040, 8041, 8042, 8043, 8044, 8045, 8046, 8047, 8048, 8049, 8050, 8051, 8052, 8053, 8054, 8055, 8056, 8057, 8058, 8059, 8060, 8061, 8062, 8063, 8064, 8065, 8066, 8067, 8068, 8069, 8070, 8071, 8072, 8073, 8074, 8075, 8076, 8077, 8078, 8079, 8080, 8081, 8082, 8083, 8084, 8085, 8086, 8087, 8088, 8089, 8090, 8091, 8092, 8093, 8094, 8095, 8096, 8097, 8098, 8099, 8100, 8101, 8102, 8103, 8104, 8105, 8106, 8107, 8108, 8109, 8110, 8111, 8112, 8113, 8114, 8115, 8116, 8117, 8118, 8119, 8120, 8121, 8122, 8123, 8124, 8125, 8126, 8127, 8128, 8129, 8130, 8131, 8132, 8133, 8134, 8135, 8136, 8137, 8138, 8139, 8140, 8141, 8142, 8143, 8144, 8145, 8146, 8147, 8148, 8149, 8150, 8151, 8152, 8153, 8154, 8155, 8156, 8157, 8158, 8159, 8160, 8161, 8162, 8163, 8164, 8165, 8166, 8167, 8168, 8169, 8170, 8171, 8172, 8173, 8174, 8175, 8176, 8177, 8178, 8179, 8180, 8181, 8182, 8183, 8184, 8185, 8186, 8187, 8188, 8189, 8190, 8191, 8192, 8193, 8194, 8195, 8196, 8197, 8198, 8199, 8200, 8201, 8202, 8203, 8204, 8205, 8206, 8207, 8208, 8209, 8210, 8211, 8212, 8213, 8214, 8215, 8216, 8217, 8218, 8219, 8220, 8221, 8222, 8223, 8224, 8225, 8226, 8227, 8228, 8229, 8230, 8231, 8232, 8233, 8234, 8235, 8236, 8237, 8238, 8239, 8240, 8241, 8242, 8243, 8244, 8245, 8246, 8247, 8248, 8249, 8250, 8251, 8252, 8253, 8254, 8255, 8256, 8257, 8258, 8259, 8260, 8261, 8262, 8263, 8264, 8265, 8266, 8267, 8268, 8269, 8270, 8271, 8272, 8273, 8274, 8275, 8276, 8277, 8278, 8279, 8280, 8281, 8282, 8283, 8284, 8285, 8286, 8287, 8288, 8289, 8290, 8291, 8292, 8293, 8294, 8295, 8296, 8297, 8298, 8299, 8300, 8301, 8302, 8303, 8304, 8305, 8306, 8307, 8308, 8309, 8310, 8311, 8312, 8313, 8314, 8315, 8316, 8317, 8318, 8319, 8320, 8321, 8322, 8323, 8324, 8325, 8326, 8327, 8328, 8329, 8330, 8331, 8332, 8333, 8334, 8335, 8336, 8337, 8338, 8339, 8340, 8341, 8342, 8343, 8344, 8345, 8346, 8347, 8348, 8349, 8350, 8351, 8352, 8353, 8354, 8355, 8356, 8357, 8358, 8359, 8360, 8361, 8362, 8363, 8364, 8365, 8366, 8367, 8368, 8369, 8370, 8371, 8372, 8373, 8374, 8375, 8376, 8377, 8378, 8379, 8380, 8381, 8382, 8383, 8384, 8385, 8386, 8387, 8388, 8389, 8390, 8391, 8392, 8393, 8394, 8395, 8396, 8397, 8398, 8399, 8400, 8401, 8402, 8403, 8404, 8405, 8406, 8407, 8408, 8409, 8410, 8411, 8412, 8413, 8414, 8415, 8416, 8417, 8418, 8419, 8420, 8421, 8422, 8423, 8424, 8425, 8426, 8427, 8428, 8429, 8430, 8431, 8432, 8433, 8434, 8435, 8436, 8437, 8438, 8439, 8440, 8441, 8442, 8443, 8444, 8445, 8446, 8447, 8448, 8449, 8450, 8451, 8452, 8453, 8454, 8455, 8456, 8457, 8458, 8459, 8460, 8461, 8462, 8463, 8464, 8465, 8466, 8467, 8468, 8469, 8470, 8471, 8472, 8473, 8474, 8475, 8476, 8477, 8478, 8479, 8480, 8481, 8482, 8483, 8484, 8485, 8486, 8487, 8488, 8489, 8490, 8491, 8492, 8493, 8494, 8495, 8496, 8497, 8498, 8499, 8500, 8501, 8502, 8503, 8504, 8505, 8506, 8507, 8508, 8509, 8510, 8511, 8512, 8513, 8514, 8515, 8516, 8517, 8518, 8519, 8520, 8521, 8522, 8523, 8524, 8525, 8526, 8527, 8528, 8529, 8530, 8531, 8532, 8533, 8534, 8535, 8536, 8537, 8538, 8539, 8540, 8541, 8542, 8543, 8544, 8545, 8546, 8547, 8548, 8549, 8550, 8551, 8552, 8553, 8554, 8555, 8556, 8557, 8558, 8559, 8560, 8561, 8562, 8563, 8564, 8565, 8566, 8567, 8568, 8569, 8570, 8571, 8572, 8573, 8574, 8575, 8576, 8577, 8578, 8579, 8580, 8581, 8582, 8583, 8584, 8585, 8586, 8587, 8588, 8589, 8590, 8591, 8592, 8593, 8594, 8595, 8596, 8597, 8598, 8599, 8600, 8601, 8602, 8603, 8604, 8605, 8606, 8607, 8608, 8609, 8610, 8611, 8612, 8613, 8614, 8615, 8616, 8617, 8618, 8619, 8620, 8621, 8622, 8623, 8624, 8625, 8626, 8627, 8628, 8629, 8630, 8631, 8632, 8633, 8634, 8635, 8636, 8637, 8638, 8639, 8640, 8641, 8642, 8643, 8644, 8645, 8646, 8647, 8648, 8649, 8650, 8651, 8652, 8653, 8654, 8655, 8656, 8657, 8658, 8659, 8660, 8661, 8662, 8663, 8664, 8665, 8666, 8667, 8668, 8669, 8670, 8671, 8672, 8673, 8674, 8675, 8676, 8677, 8678, 8679, 8680, 8681, 8682, 8683, 8684, 8685, 8686, 8687, 8688, 8689, 8690, 8691, 8692, 8693, 8694, 8695, 8696, 8697, 8698, 8699, 8700, 8701, 8702, 8703, 8704, 8705, 8706, 8707, 8708, 8709, 8710, 8711, 8712, 8713, 8714, 8715, 8716, 8717, 8718, 8719, 8720, 8721, 8722, 8723, 8724, 8725, 8726, 8727, 8728, 8729, 8730, 8731, 8732, 8733, 8734, 8735, 8736, 8737, 8738, 8739, 8740, 8741, 8742, 8743, 8744, 8745, 8746, 8747, 8748, 8749, 8750, 8751, 8752, 8753, 8754, 8755, 8756, 8757, 8758, 8759, 8760, 8761, 8762, 8763, 8764, 8765, 8766, 8767, 8768, 8769, 8770, 8771, 8772, 8773, 8774, 8775, 8776, 8777, 8778, 8779, 8780, 8781, 8782, 8783, 8784, 8785, 8786, 8787, 8788, 8789, 8790, 8791, 8792, 8793, 8794, 8795, 8796, 8797, 8798, 8799, 8800, 8801, 8802, 8803, 8804, 8805, 8806, 8807, 8808, 8809, 8810, 8811, 8812, 8813, 8814, 8815, 8816, 8817, 8818, 8819, 8820, 8821, 8822, 8823, 8824, 8825, 8826, 8827, 8828, 8829, 8830, 8831, 8832, 8833, 8834, 8835, 8836, 8837, 8838, 8839, 8840, 8841, 8842, 8843, 8844, 8845, 8846, 8847, 8848, 8849, 8850, 8851, 8852, 8853, 8854, 8855, 8856, 8857, 8858, 8859, 8860, 8861, 8862, 8863, 8864, 8865, 8866, 8867, 8868, 8869, 8870, 8871, 8872, 8873, 8874, 8875, 8876, 8877, 8878, 8879, 8880, 8881, 8882, 8883, 8884, 8885, 8886, 8887, 8888, 8889, 8890, 8891, 8892, 8893, 8894, 8895, 8896, 8897, 8898, 8899, 8900, 8901, 8902, 8903, 8904, 8905, 8906, 8907, 8908, 8909, 8910, 8911, 8912, 8913, 8914, 8915, 8916, 8917, 8918, 8919, 8920, 8921, 8922, 8923, 8924, 8925, 8926, 8927, 8928, 8929, 8930, 8931, 8932, 8933, 8934, 8935, 8936, 8937, 8938, 8939, 8940, 8941, 8942, 8943, 8944, 8945, 8946, 8947, 8948, 8949, 8950, 8951, 8952, 8953, 8954, 8955, 8956, 8957, 8958, 8959, 8960, 8961, 8962, 8963, 8964, 8965, 8966, 8967, 8968, 8969, 8970, 8971, 8972, 8973, 8974, 8975, 8976, 8977, 8978, 8979, 8980, 8981, 8982, 8983, 8984, 8985, 8986, 8987, 8988, 8989, 8990, 8991, 8992, 8993, 8994, 8995, 8996, 8997, 8998, 8999, 9000, 9001, 9002, 9003, 9004, 9005, 9006, 9007, 9008, 9009, 9010, 9011, 9012, 9013, 9014, 9015, 9016, 9017, 9018, 9019, 9020, 9021, 9022, 9023, 9024, 9025, 9026, 9027, 9028, 9029, 9030, 9031, 9032, 9033, 9034, 9035, 9036, 9037, 9038, 9039, 9040, 9041, 9042, 9043, 9044, 9045, 9046, 9047, 9048, 9049, 9050, 9051, 9052, 9053, 9054, 9055, 9056, 9057, 9058, 9059, 9060, 9061, 9062, 9063, 9064, 9065, 9066, 9067, 9068, 9069, 9070, 9071, 9072, 9073, 9074, 9075, 9076, 9077, 9078, 9079, 9080, 9081, 9082, 9083, 9084, 9085, 9086, 9087, 9088, 9089, 9090, 9091, 9092, 9093, 9094, 9095, 9096, 9097, 9098, 9099, 9100, 9101, 9102, 9103, 9104, 9105, 9106, 9107, 9108, 9109, 9110, 9111, 9112, 9113, 9114, 9115, 9116, 9117, 9118, 9119, 9120, 9121, 9122, 9123, 9124, 9125, 9126, 9127, 9128, 9129, 9130, 9131, 9132, 9133, 9134, 9135, 9136, 9137, 9138, 9139, 9140, 9141, 9142, 9143, 9144, 9145, 9146, 9147, 9148, 9149, 9150, 9151, 9152, 9153, 9154, 9155, 9156, 9157, 9158, 9159, 9160, 9161, 9162, 9163, 9164, 9165, 9166, 9167, 9168, 9169, 9170, 9171, 9172, 9173, 9174, 9175, 9176, 9177, 9178, 9179, 9180, 9181, 9182, 9183, 9184, 9185, 9186, 9187, 9188, 9189, 9190, 9191, 9192, 9193, 9194, 9195, 9196, 9197, 9198, 9199, 9200, 9201, 9202, 9203, 9204, 9205, 9206, 9207, 9208, 9209, 9210, 9211, 9212, 9213, 9214, 9215, 9216, 9217, 9218, 9219, 9220, 9221, 9222, 9223, 9224, 9225, 9226, 9227, 9228, 9229, 9230, 9231, 9232, 9233, 9234, 9235, 9236, 9237, 9238, 9239, 9240, 9241, 9242, 9243, 9244, 9245, 9246, 9247, 9248, 9249, 9250, 9251, 9252, 9276, 9277, 9278, 9279, 9280, 9281, 9282, 9283, 9284, 9285, 9286, 9287, 9288, 9289, 9290, 9291, 9292, 9293, 9294, 9295, 9296, 9297, 9298, 9299, 9300, 9301, 9302, 9303, 9304, 9305, 9306, 9307, 9308, 9309, 9310, 9311, 9312, 9313, 9314, 9315, 9316, 9317, 9318, 9319, 9320, 9321, 9322, 9323, 9324, 9325, 9326, 9327, 9328, 9329, 9330, 9331, 9332, 9333, 9334, 9335, 9336, 9337, 9338, 9339, 9340, 9341, 9342, 9343, 9344, 9345, 9346, 9347, 9348, 9349, 9350, 9351, 9352, 9353, 9354, 9355, 9356, 9357, 9358, 9359, 9360, 9361, 9362, 9363, 9364, 9365, 9366, 9367, 9368, 9369, 9370, 9371, 9372, 9373, 9374, 9375, 9376, 9377, 9378, 9379, 9380, 9381, 9382, 9383, 9384, 9385, 9386, 9387, 9388, 9389, 9390, 9391, 9392, 9393, 9394, 9395, 9396, 9397, 9398, 9399, 9400, 9401, 9402, 9403, 9404, 9405, 9406, 9407, 9408, 9409, 9410, 9411, 9412, 9413, 9414, 9415, 9416, 9417, 9418, 9419, 9420, 9421, 9422, 9423, 9424, 9425, 9426, 9427, 9428, 9429, 9430, 9431, 9432, 9433, 9434, 9435, 9436, 9437, 9438, 9439, 9440, 9441, 9442, 9443, 9444, 9445, 9446, 9447, 9448, 9449, 9450, 9451, 9452, 9453, 9454, 9455, 9456, 9457, 9458, 9459, 9460, 9461, 9462, 9463, 9464, 9465, 9466, 9467, 9468, 9469, 9470, 9471, 9472, 9473, 9474, 9475, 9476, 9477, 9478, 9479, 9480, 9481, 9482, 9483, 9484, 9485, 9486, 9487, 9488, 9489, 9490, 9491, 9492, 9493, 9494, 9495, 9496, 9497, 9498, 9499, 9500, 9501, 9502, 9503, 9504, 9505, 9506, 9507, 9508, 9509, 9510, 9511, 9512, 9513, 9514, 9515, 9516, 9517, 9518, 9519, 9520, 9521, 9522, 9523, 9524, 9525, 9526, 9527, 9528, 9529, 9530, 9531, 9532, 9533, 9534, 9535, 9536, 9537, 9538, 9539, 9540, 9541, 9542, 9543, 9544, 9545, 9546, 9547, 9548, 9549, 9550, 9551, 9552, 9553, 9554, 9555, 9556, 9557, 9558, 9559, 9560, 9561, 9562, 9563, 9564, 9565, 9566, 9567, 9568, 9569, 9570, 9571, 9572, 9573, 9574, 9575, 9576, 9577, 9578, 9579, 9580, 9581, 9582, 9583, 9584, 9585, 9586, 9587, 9588, 9589, 9590, 9591, 9592, 9593, 9594, 9595, 9596, 9597, 9598, 9599, 9600, 9601, 9602, 9603, 9604, 9605, 9606, 9607, 9608, 9609, 9610, 9611, 9612, 9613, 9614, 9615, 9616, 9617, 9618, 9619, 9620, 9621, 9622, 9623, 9624, 9625, 9626, 9627, 9628, 9629, 9630, 9631, 9632, 9633, 9634, 9635, 9636, 9637, 9638, 9639, 9640, 9641, 9642, 9643, 9644, 9645, 9646, 9647, 9648, 9649, 9650, 9651, 9652, 9653, 9654, 9655, 9656, 9657, 9658, 9659, 9660, 9661, 9662, 9663, 9664, 9665, 9666, 9667, 9668, 9669, 9670, 9671, 9672, 9673, 9674, 9675, 9676, 9677, 9678, 9679, 9680, 9681, 9682, 9683, 9684, 9685, 9686, 9687, 9688, 9689, 9690, 9691, 9692, 9693, 9694, 9695, 9696, 9697, 9698, 9699, 9700, 9701, 9702, 9703, 9704, 9705, 9706, 9707, 9708, 9709, 9710, 9711, 9712, 9713, 9714, 9715, 9716, 9717, 9718, 9719, 9720, 9721, 9722, 9723, 9724, 9725, 9726, 9727, 9728, 9729, 9730, 9731, 9732, 9733, 9734, 9735, 9736, 9737, 9738, 9739, 9740, 9741, 9742, 9743, 9744, 9745, 9746, 9747, 9748, 9749, 9750, 9751, 9752, 9753, 9754, 9755, 9756, 9757, 9758, 9759, 9760, 9761, 9762, 9763, 9764, 9765, 9766, 9767, 9768, 9769, 9770, 9771, 9772, 9773, 9774, 9775, 9776, 9777, 9778, 9779, 9780, 9781, 9782, 9783, 9784, 9785, 9786, 9787, 9788, 9789, 9790, 9791, 9792, 9793, 9794, 9795, 9796, 9797, 9798, 9799, 9800, 9801, 9802, 9803, 9804, 9805, 9806, 9807, 9808, 9809, 9810, 9811, 9812, 9813, 9814, 9815, 9816, 9817, 9818, 9819, 9820, 9821, 9822, 9823, 9824, 9825, 9826, 9827, 9828, 9829, 9830, 9831, 9832, 9833, 9834, 9835, 9836, 9837, 9838, 9839, 9840, 9841, 9842, 9843, 9844, 9845, 9846, 9847, 9848, 9849, 9850, 9851, 9852, 9853, 9854, 9855, 9856, 9857, 9858, 9859, 9860, 9861, 9862, 9863, 9864, 9865, 9866, 9867, 9868, 9869, 9870, 9871, 9872, 9873, 9874, 9875, 9876}, {392, 527, 529, 1555, 1556, 1430, 2456, 2462, 3367, 42, 3372, 3373, 3378, 1332, 949, 1461, 3381, 458, 76, 87, 1369, 97, 98, 1904, 1907, 1274, 1663}, {3201, 3204, 2322, 1684, 1686, 1687, 1688, 1689, 1690, 1691, 1692, 1694, 1695, 160, 162, 163, 171, 1966, 2239, 2243, 2252, 77, 2136, 2139, 2145, 2148, 627, 3192, 3193, 635, 1277}, {9253, 9254, 9255, 9256, 9257, 9258, 9259, 9260, 9261, 9262, 9263, 9264, 9265, 9266, 9267, 9268, 9269, 9270, 9271, 9272, 9273, 9274, 9275, 4959}, {1, 2, 4, 132, 8, 397, 16, 17, 276, 277, 24, 26, 28, 30, 31, 32, 290, 35, 36, 165, 294, 40, 564, 54, 569, 58, 62, 190, 192, 70, 73, 75, 80, 208, 209, 220, 231, 359, 233, 1013, 247, 252}, {1068, 2003, 2004, 2005, 2006, 2007, 2011, 2012, 2013, 2016, 2017, 2018, 2020, 2021, 2024, 2025, 2026, 2027, 2028, 2030, 2031}, {4483, 4484, 4485, 4486, 4487, 4488, 4489, 4490, 4491, 4492, 4493, 4495, 4496, 4497, 4498, 4499, 4500, 4501, 4502, 4503, 4504, 1305, 4505, 4506, 4507, 4508, 4509, 4510, 4511, 4512, 4514, 1326}, {3456, 2182, 3847, 3848, 3846, 3849, 3851, 3852, 3853, 3854, 3855, 3856, 3858, 3859, 3861, 3862, 3863, 3864, 3865}]\n",
            "1.5053369619418553\n",
            "[{1024, 2048, 1026, 1027, 1028, 1029, 2054, 7, 9, 10, 12, 13, 1021, 18, 20, 22, 27, 33, 34, 2082, 39, 46, 49, 51, 53, 55, 59, 60, 61, 63, 64, 65, 66, 68, 1103, 2128, 1105, 2129, 1107, 84, 85, 1108, 2133, 1112, 1113, 2138, 2140, 2142, 2143, 2146, 3172, 2149, 1127, 1128, 2152, 2154, 1131, 1133, 124, 127, 130, 136, 1161, 138, 141, 2191, 144, 146, 2195, 2196, 150, 155, 1180, 1182, 1183, 1184, 170, 173, 177, 179, 187, 188, 191, 194, 2245, 197, 198, 199, 201, 205, 206, 211, 212, 214, 215, 219, 5340, 222, 224, 228, 230, 1254, 235, 238, 240, 242, 244, 246, 248, 250, 251, 4367, 4369, 4370, 4371, 3348, 282, 283, 284, 288, 291, 315, 318, 1370, 3423, 1381, 1382, 360, 362, 363, 364, 1387, 366, 369, 1393, 1394, 1395, 1397, 374, 375, 1396, 377, 378, 379, 1398, 1400, 382, 1401, 384, 1403, 1405, 387, 1407, 1408, 390, 391, 1409, 1410, 1412, 1413, 1419, 398, 400, 1424, 402, 1426, 407, 410, 2463, 416, 429, 442, 2494, 2496, 2509, 493, 2599, 2600, 553, 2602, 2603, 1582, 559, 561, 1587, 566, 1594, 1599, 583, 585, 594, 597, 598, 601, 1629, 1630, 1633, 1634, 1635, 5731, 614, 5737, 618, 1643, 623, 624, 6769, 6772, 663, 665, 668, 691, 695, 696, 2744, 701, 703, 707, 711, 712, 713, 715, 736, 1802, 1803, 1805, 1806, 1811, 3860, 817, 824, 856, 860, 864, 869, 5992, 879, 880, 881, 882, 884, 7032, 1402, 914, 1406, 1960, 943, 1969, 946, 947, 1973, 1974, 951, 955, 956, 960, 964, 968, 3017, 970, 971, 972, 974, 975, 976, 977, 978, 979, 981, 984, 1001, 1002, 1007, 1015, 1014, 5111, 1018, 2045, 1022, 1023}, {386, 67, 582, 1094, 200, 202, 1098, 588, 1420, 14, 15, 590, 1299, 596, 38, 370}, {3, 5, 6, 11, 19, 21, 23, 25, 29, 37, 41, 43, 44, 45, 47, 48, 50, 52, 56, 57, 69, 71, 72, 74, 78, 79, 81, 82, 83, 86, 88, 89, 90, 91, 92, 93, 94, 95, 96, 99, 100, 101, 102, 103, 104, 105, 106, 107, 108, 109, 110, 111, 112, 113, 114, 115, 116, 117, 118, 119, 120, 121, 122, 123, 125, 126, 128, 129, 131, 133, 134, 135, 137, 139, 140, 142, 143, 145, 147, 148, 149, 151, 152, 153, 154, 156, 157, 158, 159, 161, 164, 166, 167, 168, 169, 172, 174, 175, 176, 178, 180, 181, 182, 183, 184, 185, 186, 189, 193, 195, 196, 203, 204, 207, 210, 213, 216, 217, 218, 221, 223, 225, 226, 227, 229, 232, 234, 236, 237, 239, 241, 243, 245, 249, 253, 254, 255, 256, 257, 258, 259, 260, 261, 262, 263, 264, 265, 266, 267, 268, 269, 270, 271, 272, 273, 274, 275, 278, 279, 280, 281, 285, 286, 287, 289, 292, 293, 295, 296, 297, 298, 299, 300, 301, 302, 303, 304, 305, 306, 307, 308, 309, 310, 311, 312, 313, 314, 316, 317, 319, 320, 321, 322, 323, 324, 325, 326, 327, 328, 329, 330, 331, 332, 333, 334, 335, 336, 337, 338, 339, 340, 341, 342, 343, 344, 345, 346, 347, 348, 349, 350, 351, 352, 353, 354, 355, 356, 357, 358, 361, 365, 367, 368, 371, 372, 373, 376, 380, 381, 383, 385, 388, 389, 393, 394, 395, 396, 399, 401, 403, 404, 405, 406, 408, 409, 411, 412, 413, 414, 415, 417, 418, 419, 420, 421, 422, 423, 424, 425, 426, 427, 428, 430, 431, 432, 433, 434, 435, 436, 437, 438, 439, 440, 441, 443, 444, 445, 446, 447, 448, 449, 450, 451, 452, 453, 454, 455, 456, 457, 459, 460, 461, 462, 463, 464, 465, 466, 467, 468, 469, 470, 471, 472, 473, 474, 475, 476, 477, 478, 479, 480, 481, 482, 483, 484, 485, 486, 487, 488, 489, 490, 491, 492, 494, 495, 496, 497, 498, 499, 500, 501, 502, 503, 504, 505, 506, 507, 508, 509, 510, 511, 512, 513, 514, 515, 516, 517, 518, 519, 520, 521, 522, 523, 524, 525, 526, 528, 530, 531, 532, 533, 534, 535, 536, 537, 538, 539, 540, 541, 542, 543, 544, 545, 546, 547, 548, 549, 550, 551, 552, 554, 555, 556, 557, 558, 560, 562, 563, 565, 567, 568, 570, 571, 572, 573, 574, 575, 576, 577, 578, 579, 580, 581, 584, 586, 587, 589, 591, 592, 593, 595, 599, 600, 602, 603, 604, 605, 606, 607, 608, 609, 610, 611, 612, 613, 615, 616, 617, 619, 620, 621, 622, 625, 626, 628, 629, 630, 631, 632, 633, 634, 636, 637, 638, 639, 640, 641, 642, 643, 644, 645, 646, 647, 648, 649, 650, 651, 652, 653, 654, 655, 656, 657, 658, 659, 660, 661, 662, 664, 666, 667, 669, 670, 671, 672, 673, 674, 675, 676, 677, 678, 679, 680, 681, 682, 683, 684, 685, 686, 687, 688, 689, 690, 692, 693, 694, 697, 698, 699, 700, 702, 704, 705, 706, 708, 709, 710, 714, 716, 717, 718, 719, 720, 721, 722, 723, 724, 725, 726, 727, 728, 729, 730, 731, 732, 733, 734, 735, 737, 738, 739, 740, 741, 742, 743, 744, 745, 746, 747, 748, 749, 750, 751, 752, 753, 754, 755, 756, 757, 758, 759, 760, 761, 762, 763, 764, 765, 766, 767, 768, 769, 770, 771, 772, 773, 774, 775, 776, 777, 778, 779, 780, 781, 782, 783, 784, 785, 786, 787, 788, 789, 790, 791, 792, 793, 794, 795, 796, 797, 798, 799, 800, 801, 802, 803, 804, 805, 806, 807, 808, 809, 810, 811, 812, 813, 814, 815, 816, 818, 819, 820, 821, 822, 823, 825, 826, 827, 828, 829, 830, 831, 832, 833, 834, 835, 836, 837, 838, 839, 840, 841, 842, 843, 844, 845, 846, 847, 848, 849, 850, 851, 852, 853, 854, 855, 857, 858, 859, 861, 862, 863, 865, 866, 867, 868, 870, 871, 872, 873, 874, 875, 876, 877, 878, 883, 885, 886, 887, 888, 889, 890, 891, 892, 893, 894, 895, 896, 897, 898, 899, 900, 901, 902, 903, 904, 905, 906, 907, 908, 909, 910, 911, 912, 913, 915, 916, 917, 918, 919, 920, 921, 922, 923, 924, 925, 926, 927, 928, 929, 930, 931, 932, 933, 934, 935, 936, 937, 938, 939, 940, 941, 942, 944, 945, 948, 950, 952, 953, 954, 957, 958, 959, 961, 962, 963, 965, 966, 967, 969, 973, 980, 982, 983, 985, 986, 987, 988, 989, 990, 991, 992, 993, 994, 995, 996, 997, 998, 999, 1000, 1003, 1004, 1005, 1006, 1008, 1009, 1010, 1011, 1012, 1016, 1017, 1019, 1020, 1025, 1030, 1031, 1032, 1033, 1034, 1035, 1036, 1037, 1038, 1039, 1040, 1041, 1042, 1043, 1044, 1045, 1046, 1047, 1048, 1049, 1050, 1051, 1052, 1053, 1054, 1055, 1056, 1057, 1058, 1059, 1060, 1061, 1062, 1063, 1064, 1065, 1066, 1067, 1069, 1070, 1071, 1072, 1073, 1074, 1075, 1076, 1077, 1078, 1079, 1080, 1081, 1082, 1083, 1084, 1085, 1086, 1087, 1088, 1089, 1090, 1091, 1092, 1093, 1095, 1096, 1097, 1099, 1100, 1101, 1102, 1104, 1106, 1109, 1110, 1111, 1114, 1115, 1116, 1117, 1118, 1119, 1120, 1121, 1122, 1123, 1124, 1125, 1126, 1129, 1130, 1132, 1134, 1135, 1136, 1137, 1138, 1139, 1140, 1141, 1142, 1143, 1144, 1145, 1146, 1147, 1148, 1149, 1150, 1151, 1152, 1153, 1154, 1155, 1156, 1157, 1158, 1159, 1160, 1162, 1163, 1164, 1165, 1166, 1167, 1168, 1169, 1170, 1171, 1172, 1173, 1174, 1175, 1176, 1177, 1178, 1179, 1181, 1185, 1186, 1187, 1188, 1189, 1190, 1191, 1192, 1193, 1194, 1195, 1196, 1197, 1198, 1199, 1200, 1201, 1202, 1203, 1204, 1205, 1206, 1207, 1208, 1209, 1210, 1211, 1212, 1213, 1214, 1215, 1216, 1217, 1218, 1219, 1220, 1221, 1222, 1223, 1224, 1225, 1226, 1227, 1228, 1229, 1230, 1231, 1232, 1233, 1234, 1235, 1236, 1237, 1238, 1239, 1240, 1241, 1242, 1243, 1244, 1245, 1246, 1247, 1248, 1249, 1250, 1251, 1252, 1253, 1255, 1256, 1257, 1258, 1259, 1260, 1261, 1262, 1263, 1264, 1265, 1266, 1267, 1268, 1269, 1270, 1271, 1272, 1273, 1275, 1276, 1278, 1279, 1280, 1281, 1282, 1283, 1284, 1285, 1286, 1287, 1288, 1289, 1290, 1291, 1292, 1293, 1294, 1295, 1296, 1297, 1298, 1300, 1301, 1302, 1303, 1304, 1306, 1307, 1308, 1309, 1310, 1311, 1312, 1313, 1314, 1315, 1316, 1317, 1318, 1319, 1320, 1321, 1322, 1323, 1324, 1325, 1327, 1328, 1329, 1330, 1331, 1333, 1334, 1335, 1336, 1337, 1338, 1339, 1340, 1341, 1342, 1343, 1344, 1345, 1346, 1347, 1348, 1349, 1350, 1351, 1352, 1353, 1354, 1355, 1356, 1357, 1358, 1359, 1360, 1361, 1362, 1363, 1364, 1365, 1366, 1367, 1368, 1371, 1372, 1373, 1374, 1375, 1376, 1377, 1378, 1379, 1380, 1383, 1384, 1385, 1386, 1388, 1389, 1390, 1391, 1392, 1399, 1404, 1411, 1414, 1415, 1416, 1417, 1418, 1421, 1422, 1423, 1425, 1427, 1428, 1429, 1431, 1432, 1433, 1434, 1435, 1436, 1437, 1438, 1439, 1440, 1441, 1442, 1443, 1444, 1445, 1446, 1447, 1448, 1449, 1450, 1451, 1452, 1453, 1454, 1455, 1456, 1457, 1458, 1459, 1460, 1462, 1463, 1464, 1465, 1466, 1467, 1468, 1469, 1470, 1471, 1472, 1473, 1474, 1475, 1476, 1477, 1478, 1479, 1480, 1481, 1482, 1483, 1484, 1485, 1486, 1487, 1488, 1489, 1490, 1491, 1492, 1493, 1494, 1495, 1496, 1497, 1498, 1499, 1500, 1501, 1502, 1503, 1504, 1505, 1506, 1507, 1508, 1509, 1510, 1511, 1512, 1513, 1514, 1515, 1516, 1517, 1518, 1519, 1520, 1521, 1522, 1523, 1524, 1525, 1526, 1527, 1528, 1529, 1530, 1531, 1532, 1533, 1534, 1535, 1536, 1537, 1538, 1539, 1540, 1541, 1542, 1543, 1544, 1545, 1546, 1547, 1548, 1549, 1550, 1551, 1552, 1553, 1554, 1557, 1558, 1559, 1560, 1561, 1562, 1563, 1564, 1565, 1566, 1567, 1568, 1569, 1570, 1571, 1572, 1573, 1574, 1575, 1576, 1577, 1578, 1579, 1580, 1581, 1583, 1584, 1585, 1586, 1588, 1589, 1590, 1591, 1592, 1593, 1595, 1596, 1597, 1598, 1600, 1601, 1602, 1603, 1604, 1605, 1606, 1607, 1608, 1609, 1610, 1611, 1612, 1613, 1614, 1615, 1616, 1617, 1618, 1619, 1620, 1621, 1622, 1623, 1624, 1625, 1626, 1627, 1628, 1631, 1632, 1636, 1637, 1638, 1639, 1640, 1641, 1642, 1644, 1645, 1646, 1647, 1648, 1649, 1650, 1651, 1652, 1653, 1654, 1655, 1656, 1657, 1658, 1659, 1660, 1661, 1662, 1664, 1665, 1666, 1667, 1668, 1669, 1670, 1671, 1672, 1673, 1674, 1675, 1676, 1677, 1678, 1679, 1680, 1681, 1682, 1683, 1685, 1693, 1696, 1697, 1698, 1699, 1700, 1701, 1702, 1703, 1704, 1705, 1706, 1707, 1708, 1709, 1710, 1711, 1712, 1713, 1714, 1715, 1716, 1717, 1718, 1719, 1720, 1721, 1722, 1723, 1724, 1725, 1726, 1727, 1728, 1729, 1730, 1731, 1732, 1733, 1734, 1735, 1736, 1737, 1738, 1739, 1740, 1741, 1742, 1743, 1744, 1745, 1746, 1747, 1748, 1749, 1750, 1751, 1752, 1753, 1754, 1755, 1756, 1757, 1758, 1759, 1760, 1761, 1762, 1763, 1764, 1765, 1766, 1767, 1768, 1769, 1770, 1771, 1772, 1773, 1774, 1775, 1776, 1777, 1778, 1779, 1780, 1781, 1782, 1783, 1784, 1785, 1786, 1787, 1788, 1789, 1790, 1791, 1792, 1793, 1794, 1795, 1796, 1797, 1798, 1799, 1800, 1801, 1804, 1807, 1808, 1809, 1810, 1812, 1813, 1814, 1815, 1816, 1817, 1818, 1819, 1820, 1821, 1822, 1823, 1824, 1825, 1826, 1827, 1828, 1829, 1830, 1831, 1832, 1833, 1834, 1835, 1836, 1837, 1838, 1839, 1840, 1841, 1842, 1843, 1844, 1845, 1846, 1847, 1848, 1849, 1850, 1851, 1852, 1853, 1854, 1855, 1856, 1857, 1858, 1859, 1860, 1861, 1862, 1863, 1864, 1865, 1866, 1867, 1868, 1869, 1870, 1871, 1872, 1873, 1874, 1875, 1876, 1877, 1878, 1879, 1880, 1881, 1882, 1883, 1884, 1885, 1886, 1887, 1888, 1889, 1890, 1891, 1892, 1893, 1894, 1895, 1896, 1897, 1898, 1899, 1900, 1901, 1902, 1903, 1905, 1906, 1908, 1909, 1910, 1911, 1912, 1913, 1914, 1915, 1916, 1917, 1918, 1919, 1920, 1921, 1922, 1923, 1924, 1925, 1926, 1927, 1928, 1929, 1930, 1931, 1932, 1933, 1934, 1935, 1936, 1937, 1938, 1939, 1940, 1941, 1942, 1943, 1944, 1945, 1946, 1947, 1948, 1949, 1950, 1951, 1952, 1953, 1954, 1955, 1956, 1957, 1958, 1959, 1961, 1962, 1963, 1964, 1965, 1967, 1968, 1970, 1971, 1972, 1975, 1976, 1977, 1978, 1979, 1980, 1981, 1982, 1983, 1984, 1985, 1986, 1987, 1988, 1989, 1990, 1991, 1992, 1993, 1994, 1995, 1996, 1997, 1998, 1999, 2000, 2001, 2002, 2008, 2009, 2010, 2014, 2015, 2019, 2022, 2023, 2029, 2032, 2033, 2034, 2035, 2036, 2037, 2038, 2039, 2040, 2041, 2042, 2043, 2044, 2046, 2047, 2049, 2050, 2051, 2052, 2053, 2055, 2056, 2057, 2058, 2059, 2060, 2061, 2062, 2063, 2064, 2065, 2066, 2067, 2068, 2069, 2070, 2071, 2072, 2073, 2074, 2075, 2076, 2077, 2078, 2079, 2080, 2081, 2083, 2084, 2085, 2086, 2087, 2088, 2089, 2090, 2091, 2092, 2093, 2094, 2095, 2096, 2097, 2098, 2099, 2100, 2101, 2102, 2103, 2104, 2105, 2106, 2107, 2108, 2109, 2110, 2111, 2112, 2113, 2114, 2115, 2116, 2117, 2118, 2119, 2120, 2121, 2122, 2123, 2124, 2125, 2126, 2127, 2130, 2131, 2132, 2134, 2135, 2137, 2141, 2144, 2147, 2150, 2151, 2153, 2155, 2156, 2157, 2158, 2159, 2160, 2161, 2162, 2163, 2164, 2165, 2166, 2167, 2168, 2169, 2170, 2171, 2172, 2173, 2174, 2175, 2176, 2177, 2178, 2179, 2180, 2181, 2183, 2184, 2185, 2186, 2187, 2188, 2189, 2190, 2192, 2193, 2194, 2197, 2198, 2199, 2200, 2201, 2202, 2203, 2204, 2205, 2206, 2207, 2208, 2209, 2210, 2211, 2212, 2213, 2214, 2215, 2216, 2217, 2218, 2219, 2220, 2221, 2222, 2223, 2224, 2225, 2226, 2227, 2228, 2229, 2230, 2231, 2232, 2233, 2234, 2235, 2236, 2237, 2238, 2240, 2241, 2242, 2244, 2246, 2247, 2248, 2249, 2250, 2251, 2253, 2254, 2255, 2256, 2257, 2258, 2259, 2260, 2261, 2262, 2263, 2264, 2265, 2266, 2267, 2268, 2269, 2270, 2271, 2272, 2273, 2274, 2275, 2276, 2277, 2278, 2279, 2280, 2281, 2282, 2283, 2284, 2285, 2286, 2287, 2288, 2289, 2290, 2291, 2292, 2293, 2294, 2295, 2296, 2297, 2298, 2299, 2300, 2301, 2302, 2303, 2304, 2305, 2306, 2307, 2308, 2309, 2310, 2311, 2312, 2313, 2314, 2315, 2316, 2317, 2318, 2319, 2320, 2321, 2323, 2324, 2325, 2326, 2327, 2328, 2329, 2330, 2331, 2332, 2333, 2334, 2335, 2336, 2337, 2338, 2339, 2340, 2341, 2342, 2343, 2344, 2345, 2346, 2347, 2348, 2349, 2350, 2351, 2352, 2353, 2354, 2355, 2356, 2357, 2358, 2359, 2360, 2361, 2362, 2363, 2364, 2365, 2366, 2367, 2368, 2369, 2370, 2371, 2372, 2373, 2374, 2375, 2376, 2377, 2378, 2379, 2380, 2381, 2382, 2383, 2384, 2385, 2386, 2387, 2388, 2389, 2390, 2391, 2392, 2393, 2394, 2395, 2396, 2397, 2398, 2399, 2400, 2401, 2402, 2403, 2404, 2405, 2406, 2407, 2408, 2409, 2410, 2411, 2412, 2413, 2414, 2415, 2416, 2417, 2418, 2419, 2420, 2421, 2422, 2423, 2424, 2425, 2426, 2427, 2428, 2429, 2430, 2431, 2432, 2433, 2434, 2435, 2436, 2437, 2438, 2439, 2440, 2441, 2442, 2443, 2444, 2445, 2446, 2447, 2448, 2449, 2450, 2451, 2452, 2453, 2454, 2455, 2457, 2458, 2459, 2460, 2461, 2464, 2465, 2466, 2467, 2468, 2469, 2470, 2471, 2472, 2473, 2474, 2475, 2476, 2477, 2478, 2479, 2480, 2481, 2482, 2483, 2484, 2485, 2486, 2487, 2488, 2489, 2490, 2491, 2492, 2493, 2495, 2497, 2498, 2499, 2500, 2501, 2502, 2503, 2504, 2505, 2506, 2507, 2508, 2510, 2511, 2512, 2513, 2514, 2515, 2516, 2517, 2518, 2519, 2520, 2521, 2522, 2523, 2524, 2525, 2526, 2527, 2528, 2529, 2530, 2531, 2532, 2533, 2534, 2535, 2536, 2537, 2538, 2539, 2540, 2541, 2542, 2543, 2544, 2545, 2546, 2547, 2548, 2549, 2550, 2551, 2552, 2553, 2554, 2555, 2556, 2557, 2558, 2559, 2560, 2561, 2562, 2563, 2564, 2565, 2566, 2567, 2568, 2569, 2570, 2571, 2572, 2573, 2574, 2575, 2576, 2577, 2578, 2579, 2580, 2581, 2582, 2583, 2584, 2585, 2586, 2587, 2588, 2589, 2590, 2591, 2592, 2593, 2594, 2595, 2596, 2597, 2598, 2601, 2604, 2605, 2606, 2607, 2608, 2609, 2610, 2611, 2612, 2613, 2614, 2615, 2616, 2617, 2618, 2619, 2620, 2621, 2622, 2623, 2624, 2625, 2626, 2627, 2628, 2629, 2630, 2631, 2632, 2633, 2634, 2635, 2636, 2637, 2638, 2639, 2640, 2641, 2642, 2643, 2644, 2645, 2646, 2647, 2648, 2649, 2650, 2651, 2652, 2653, 2654, 2655, 2656, 2657, 2658, 2659, 2660, 2661, 2662, 2663, 2664, 2665, 2666, 2667, 2668, 2669, 2670, 2671, 2672, 2673, 2674, 2675, 2676, 2677, 2678, 2679, 2680, 2681, 2682, 2683, 2684, 2685, 2686, 2687, 2688, 2689, 2690, 2691, 2692, 2693, 2694, 2695, 2696, 2697, 2698, 2699, 2700, 2701, 2702, 2703, 2704, 2705, 2706, 2707, 2708, 2709, 2710, 2711, 2712, 2713, 2714, 2715, 2716, 2717, 2718, 2719, 2720, 2721, 2722, 2723, 2724, 2725, 2726, 2727, 2728, 2729, 2730, 2731, 2732, 2733, 2734, 2735, 2736, 2737, 2738, 2739, 2740, 2741, 2742, 2743, 2745, 2746, 2747, 2748, 2749, 2750, 2751, 2752, 2753, 2754, 2755, 2756, 2757, 2758, 2759, 2760, 2761, 2762, 2763, 2764, 2765, 2766, 2767, 2768, 2769, 2770, 2771, 2772, 2773, 2774, 2775, 2776, 2777, 2778, 2779, 2780, 2781, 2782, 2783, 2784, 2785, 2786, 2787, 2788, 2789, 2790, 2791, 2792, 2793, 2794, 2795, 2796, 2797, 2798, 2799, 2800, 2801, 2802, 2803, 2804, 2805, 2806, 2807, 2808, 2809, 2810, 2811, 2812, 2813, 2814, 2815, 2816, 2817, 2818, 2819, 2820, 2821, 2822, 2823, 2824, 2825, 2826, 2827, 2828, 2829, 2830, 2831, 2832, 2833, 2834, 2835, 2836, 2837, 2838, 2839, 2840, 2841, 2842, 2843, 2844, 2845, 2846, 2847, 2848, 2849, 2850, 2851, 2852, 2853, 2854, 2855, 2856, 2857, 2858, 2859, 2860, 2861, 2862, 2863, 2864, 2865, 2866, 2867, 2868, 2869, 2870, 2871, 2872, 2873, 2874, 2875, 2876, 2877, 2878, 2879, 2880, 2881, 2882, 2883, 2884, 2885, 2886, 2887, 2888, 2889, 2890, 2891, 2892, 2893, 2894, 2895, 2896, 2897, 2898, 2899, 2900, 2901, 2902, 2903, 2904, 2905, 2906, 2907, 2908, 2909, 2910, 2911, 2912, 2913, 2914, 2915, 2916, 2917, 2918, 2919, 2920, 2921, 2922, 2923, 2924, 2925, 2926, 2927, 2928, 2929, 2930, 2931, 2932, 2933, 2934, 2935, 2936, 2937, 2938, 2939, 2940, 2941, 2942, 2943, 2944, 2945, 2946, 2947, 2948, 2949, 2950, 2951, 2952, 2953, 2954, 2955, 2956, 2957, 2958, 2959, 2960, 2961, 2962, 2963, 2964, 2965, 2966, 2967, 2968, 2969, 2970, 2971, 2972, 2973, 2974, 2975, 2976, 2977, 2978, 2979, 2980, 2981, 2982, 2983, 2984, 2985, 2986, 2987, 2988, 2989, 2990, 2991, 2992, 2993, 2994, 2995, 2996, 2997, 2998, 2999, 3000, 3001, 3002, 3003, 3004, 3005, 3006, 3007, 3008, 3009, 3010, 3011, 3012, 3013, 3014, 3015, 3016, 3018, 3019, 3020, 3021, 3022, 3023, 3024, 3025, 3026, 3027, 3028, 3029, 3030, 3031, 3032, 3033, 3034, 3035, 3036, 3037, 3038, 3039, 3040, 3041, 3042, 3043, 3044, 3045, 3046, 3047, 3048, 3049, 3050, 3051, 3052, 3053, 3054, 3055, 3056, 3057, 3058, 3059, 3060, 3061, 3062, 3063, 3064, 3065, 3066, 3067, 3068, 3069, 3070, 3071, 3072, 3073, 3074, 3075, 3076, 3077, 3078, 3079, 3080, 3081, 3082, 3083, 3084, 3085, 3086, 3087, 3088, 3089, 3090, 3091, 3092, 3093, 3094, 3095, 3096, 3097, 3098, 3099, 3100, 3101, 3102, 3103, 3104, 3105, 3106, 3107, 3108, 3109, 3110, 3111, 3112, 3113, 3114, 3115, 3116, 3117, 3118, 3119, 3120, 3121, 3122, 3123, 3124, 3125, 3126, 3127, 3128, 3129, 3130, 3131, 3132, 3133, 3134, 3135, 3136, 3137, 3138, 3139, 3140, 3141, 3142, 3143, 3144, 3145, 3146, 3147, 3148, 3149, 3150, 3151, 3152, 3153, 3154, 3155, 3156, 3157, 3158, 3159, 3160, 3161, 3162, 3163, 3164, 3165, 3166, 3167, 3168, 3169, 3170, 3171, 3173, 3174, 3175, 3176, 3177, 3178, 3179, 3180, 3181, 3182, 3183, 3184, 3185, 3186, 3187, 3188, 3189, 3190, 3191, 3194, 3195, 3196, 3197, 3198, 3199, 3200, 3202, 3203, 3205, 3206, 3207, 3208, 3209, 3210, 3211, 3212, 3213, 3214, 3215, 3216, 3217, 3218, 3219, 3220, 3221, 3222, 3223, 3224, 3225, 3226, 3227, 3228, 3229, 3230, 3231, 3232, 3233, 3234, 3235, 3236, 3237, 3238, 3239, 3240, 3241, 3242, 3243, 3244, 3245, 3246, 3247, 3248, 3249, 3250, 3251, 3252, 3253, 3254, 3255, 3256, 3257, 3258, 3259, 3260, 3261, 3262, 3263, 3264, 3265, 3266, 3267, 3268, 3269, 3270, 3271, 3272, 3273, 3274, 3275, 3276, 3277, 3278, 3279, 3280, 3281, 3282, 3283, 3284, 3285, 3286, 3287, 3288, 3289, 3290, 3291, 3292, 3293, 3294, 3295, 3296, 3297, 3298, 3299, 3300, 3301, 3302, 3303, 3304, 3305, 3306, 3307, 3308, 3309, 3310, 3311, 3312, 3313, 3314, 3315, 3316, 3317, 3318, 3319, 3320, 3321, 3322, 3323, 3324, 3325, 3326, 3327, 3328, 3329, 3330, 3331, 3332, 3333, 3334, 3335, 3336, 3337, 3338, 3339, 3340, 3341, 3342, 3343, 3344, 3345, 3346, 3347, 3349, 3350, 3351, 3352, 3353, 3354, 3355, 3356, 3357, 3358, 3359, 3360, 3361, 3362, 3363, 3364, 3365, 3366, 3368, 3369, 3370, 3371, 3374, 3375, 3376, 3377, 3379, 3380, 3382, 3383, 3384, 3385, 3386, 3387, 3388, 3389, 3390, 3391, 3392, 3393, 3394, 3395, 3396, 3397, 3398, 3399, 3400, 3401, 3402, 3403, 3404, 3405, 3406, 3407, 3408, 3409, 3410, 3411, 3412, 3413, 3414, 3415, 3416, 3417, 3418, 3419, 3420, 3421, 3422, 3424, 3425, 3426, 3427, 3428, 3429, 3430, 3431, 3432, 3433, 3434, 3435, 3436, 3437, 3438, 3439, 3440, 3441, 3442, 3443, 3444, 3445, 3446, 3447, 3448, 3449, 3450, 3451, 3452, 3453, 3454, 3455, 3457, 3458, 3459, 3460, 3461, 3462, 3463, 3464, 3465, 3466, 3467, 3468, 3469, 3470, 3471, 3472, 3473, 3474, 3475, 3476, 3477, 3478, 3479, 3480, 3481, 3482, 3483, 3484, 3485, 3486, 3487, 3488, 3489, 3490, 3491, 3492, 3493, 3494, 3495, 3496, 3497, 3498, 3499, 3500, 3501, 3502, 3503, 3504, 3505, 3506, 3507, 3508, 3509, 3510, 3511, 3512, 3513, 3514, 3515, 3516, 3517, 3518, 3519, 3520, 3521, 3522, 3523, 3524, 3525, 3526, 3527, 3528, 3529, 3530, 3531, 3532, 3533, 3534, 3535, 3536, 3537, 3538, 3539, 3540, 3541, 3542, 3543, 3544, 3545, 3546, 3547, 3548, 3549, 3550, 3551, 3552, 3553, 3554, 3555, 3556, 3557, 3558, 3559, 3560, 3561, 3562, 3563, 3564, 3565, 3566, 3567, 3568, 3569, 3570, 3571, 3572, 3573, 3574, 3575, 3576, 3577, 3578, 3579, 3580, 3581, 3582, 3583, 3584, 3585, 3586, 3587, 3588, 3589, 3590, 3591, 3592, 3593, 3594, 3595, 3596, 3597, 3598, 3599, 3600, 3601, 3602, 3603, 3604, 3605, 3606, 3607, 3608, 3609, 3610, 3611, 3612, 3613, 3614, 3615, 3616, 3617, 3618, 3619, 3620, 3621, 3622, 3623, 3624, 3625, 3626, 3627, 3628, 3629, 3630, 3631, 3632, 3633, 3634, 3635, 3636, 3637, 3638, 3639, 3640, 3641, 3642, 3643, 3644, 3645, 3646, 3647, 3648, 3649, 3650, 3651, 3652, 3653, 3654, 3655, 3656, 3657, 3658, 3659, 3660, 3661, 3662, 3663, 3664, 3665, 3666, 3667, 3668, 3669, 3670, 3671, 3672, 3673, 3674, 3675, 3676, 3677, 3678, 3679, 3680, 3681, 3682, 3683, 3684, 3685, 3686, 3687, 3688, 3689, 3690, 3691, 3692, 3693, 3694, 3695, 3696, 3697, 3698, 3699, 3700, 3701, 3702, 3703, 3704, 3705, 3706, 3707, 3708, 3709, 3710, 3711, 3712, 3713, 3714, 3715, 3716, 3717, 3718, 3719, 3720, 3721, 3722, 3723, 3724, 3725, 3726, 3727, 3728, 3729, 3730, 3731, 3732, 3733, 3734, 3735, 3736, 3737, 3738, 3739, 3740, 3741, 3742, 3743, 3744, 3745, 3746, 3747, 3748, 3749, 3750, 3751, 3752, 3753, 3754, 3755, 3756, 3757, 3758, 3759, 3760, 3761, 3762, 3763, 3764, 3765, 3766, 3767, 3768, 3769, 3770, 3771, 3772, 3773, 3774, 3775, 3776, 3777, 3778, 3779, 3780, 3781, 3782, 3783, 3784, 3785, 3786, 3787, 3788, 3789, 3790, 3791, 3792, 3793, 3794, 3795, 3796, 3797, 3798, 3799, 3800, 3801, 3802, 3803, 3804, 3805, 3806, 3807, 3808, 3809, 3810, 3811, 3812, 3813, 3814, 3815, 3816, 3817, 3818, 3819, 3820, 3821, 3822, 3823, 3824, 3825, 3826, 3827, 3828, 3829, 3830, 3831, 3832, 3833, 3834, 3835, 3836, 3837, 3838, 3839, 3840, 3841, 3842, 3843, 3844, 3845, 3850, 3857, 3866, 3867, 3868, 3869, 3870, 3871, 3872, 3873, 3874, 3875, 3876, 3877, 3878, 3879, 3880, 3881, 3882, 3883, 3884, 3885, 3886, 3887, 3888, 3889, 3890, 3891, 3892, 3893, 3894, 3895, 3896, 3897, 3898, 3899, 3900, 3901, 3902, 3903, 3904, 3905, 3906, 3907, 3908, 3909, 3910, 3911, 3912, 3913, 3914, 3915, 3916, 3917, 3918, 3919, 3920, 3921, 3922, 3923, 3924, 3925, 3926, 3927, 3928, 3929, 3930, 3931, 3932, 3933, 3934, 3935, 3936, 3937, 3938, 3939, 3940, 3941, 3942, 3943, 3944, 3945, 3946, 3947, 3948, 3949, 3950, 3951, 3952, 3953, 3954, 3955, 3956, 3957, 3958, 3959, 3960, 3961, 3962, 3963, 3964, 3965, 3966, 3967, 3968, 3969, 3970, 3971, 3972, 3973, 3974, 3975, 3976, 3977, 3978, 3979, 3980, 3981, 3982, 3983, 3984, 3985, 3986, 3987, 3988, 3989, 3990, 3991, 3992, 3993, 3994, 3995, 3996, 3997, 3998, 3999, 4000, 4001, 4002, 4003, 4004, 4005, 4006, 4007, 4008, 4009, 4010, 4011, 4012, 4013, 4014, 4015, 4016, 4017, 4018, 4019, 4020, 4021, 4022, 4023, 4024, 4025, 4026, 4027, 4028, 4029, 4030, 4031, 4032, 4033, 4034, 4035, 4036, 4037, 4038, 4039, 4040, 4041, 4042, 4043, 4044, 4045, 4046, 4047, 4048, 4049, 4050, 4051, 4052, 4053, 4054, 4055, 4056, 4057, 4058, 4059, 4060, 4061, 4062, 4063, 4064, 4065, 4066, 4067, 4068, 4069, 4070, 4071, 4072, 4073, 4074, 4075, 4076, 4077, 4078, 4079, 4080, 4081, 4082, 4083, 4084, 4085, 4086, 4087, 4088, 4089, 4090, 4091, 4092, 4093, 4094, 4095, 4096, 4097, 4098, 4099, 4100, 4101, 4102, 4103, 4104, 4105, 4106, 4107, 4108, 4109, 4110, 4111, 4112, 4113, 4114, 4115, 4116, 4117, 4118, 4119, 4120, 4121, 4122, 4123, 4124, 4125, 4126, 4127, 4128, 4129, 4130, 4131, 4132, 4133, 4134, 4135, 4136, 4137, 4138, 4139, 4140, 4141, 4142, 4143, 4144, 4145, 4146, 4147, 4148, 4149, 4150, 4151, 4152, 4153, 4154, 4155, 4156, 4157, 4158, 4159, 4160, 4161, 4162, 4163, 4164, 4165, 4166, 4167, 4168, 4169, 4170, 4171, 4172, 4173, 4174, 4175, 4176, 4177, 4178, 4179, 4180, 4181, 4182, 4183, 4184, 4185, 4186, 4187, 4188, 4189, 4190, 4191, 4192, 4193, 4194, 4195, 4196, 4197, 4198, 4199, 4200, 4201, 4202, 4203, 4204, 4205, 4206, 4207, 4208, 4209, 4210, 4211, 4212, 4213, 4214, 4215, 4216, 4217, 4218, 4219, 4220, 4221, 4222, 4223, 4224, 4225, 4226, 4227, 4228, 4229, 4230, 4231, 4232, 4233, 4234, 4235, 4236, 4237, 4238, 4239, 4240, 4241, 4242, 4243, 4244, 4245, 4246, 4247, 4248, 4249, 4250, 4251, 4252, 4253, 4254, 4255, 4256, 4257, 4258, 4259, 4260, 4261, 4262, 4263, 4264, 4265, 4266, 4267, 4268, 4269, 4270, 4271, 4272, 4273, 4274, 4275, 4276, 4277, 4278, 4279, 4280, 4281, 4282, 4283, 4284, 4285, 4286, 4287, 4288, 4289, 4290, 4291, 4292, 4293, 4294, 4295, 4296, 4297, 4298, 4299, 4300, 4301, 4302, 4303, 4304, 4305, 4306, 4307, 4308, 4309, 4310, 4311, 4312, 4313, 4314, 4315, 4316, 4317, 4318, 4319, 4320, 4321, 4322, 4323, 4324, 4325, 4326, 4327, 4328, 4329, 4330, 4331, 4332, 4333, 4334, 4335, 4336, 4337, 4338, 4339, 4340, 4341, 4342, 4343, 4344, 4345, 4346, 4347, 4348, 4349, 4350, 4351, 4352, 4353, 4354, 4355, 4356, 4357, 4358, 4359, 4360, 4361, 4362, 4363, 4364, 4365, 4366, 4368, 4372, 4373, 4374, 4375, 4376, 4377, 4378, 4379, 4380, 4381, 4382, 4383, 4384, 4385, 4386, 4387, 4388, 4389, 4390, 4391, 4392, 4393, 4394, 4395, 4396, 4397, 4398, 4399, 4400, 4401, 4402, 4403, 4404, 4405, 4406, 4407, 4408, 4409, 4410, 4411, 4412, 4413, 4414, 4415, 4416, 4417, 4418, 4419, 4420, 4421, 4422, 4423, 4424, 4425, 4426, 4427, 4428, 4429, 4430, 4431, 4432, 4433, 4434, 4435, 4436, 4437, 4438, 4439, 4440, 4441, 4442, 4443, 4444, 4445, 4446, 4447, 4448, 4449, 4450, 4451, 4452, 4453, 4454, 4455, 4456, 4457, 4458, 4459, 4460, 4461, 4462, 4463, 4464, 4465, 4466, 4467, 4468, 4469, 4470, 4471, 4472, 4473, 4474, 4475, 4476, 4477, 4478, 4479, 4480, 4481, 4482, 4494, 4513, 4515, 4516, 4517, 4518, 4519, 4520, 4521, 4522, 4523, 4524, 4525, 4526, 4527, 4528, 4529, 4530, 4531, 4532, 4533, 4534, 4535, 4536, 4537, 4538, 4539, 4540, 4541, 4542, 4543, 4544, 4545, 4546, 4547, 4548, 4549, 4550, 4551, 4552, 4553, 4554, 4555, 4556, 4557, 4558, 4559, 4560, 4561, 4562, 4563, 4564, 4565, 4566, 4567, 4568, 4569, 4570, 4571, 4572, 4573, 4574, 4575, 4576, 4577, 4578, 4579, 4580, 4581, 4582, 4583, 4584, 4585, 4586, 4587, 4588, 4589, 4590, 4591, 4592, 4593, 4594, 4595, 4596, 4597, 4598, 4599, 4600, 4601, 4602, 4603, 4604, 4605, 4606, 4607, 4608, 4609, 4610, 4611, 4612, 4613, 4614, 4615, 4616, 4617, 4618, 4619, 4620, 4621, 4622, 4623, 4624, 4625, 4626, 4627, 4628, 4629, 4630, 4631, 4632, 4633, 4634, 4635, 4636, 4637, 4638, 4639, 4640, 4641, 4642, 4643, 4644, 4645, 4646, 4647, 4648, 4649, 4650, 4651, 4652, 4653, 4654, 4655, 4656, 4657, 4658, 4659, 4660, 4661, 4662, 4663, 4664, 4665, 4666, 4667, 4668, 4669, 4670, 4671, 4672, 4673, 4674, 4675, 4676, 4677, 4678, 4679, 4680, 4681, 4682, 4683, 4684, 4685, 4686, 4687, 4688, 4689, 4690, 4691, 4692, 4693, 4694, 4695, 4696, 4697, 4698, 4699, 4700, 4701, 4702, 4703, 4704, 4705, 4706, 4707, 4708, 4709, 4710, 4711, 4712, 4713, 4714, 4715, 4716, 4717, 4718, 4719, 4720, 4721, 4722, 4723, 4724, 4725, 4726, 4727, 4728, 4729, 4730, 4731, 4732, 4733, 4734, 4735, 4736, 4737, 4738, 4739, 4740, 4741, 4742, 4743, 4744, 4745, 4746, 4747, 4748, 4749, 4750, 4751, 4752, 4753, 4754, 4755, 4756, 4757, 4758, 4759, 4760, 4761, 4762, 4763, 4764, 4765, 4766, 4767, 4768, 4769, 4770, 4771, 4772, 4773, 4774, 4775, 4776, 4777, 4778, 4779, 4780, 4781, 4782, 4783, 4784, 4785, 4786, 4787, 4788, 4789, 4790, 4791, 4792, 4793, 4794, 4795, 4796, 4797, 4798, 4799, 4800, 4801, 4802, 4803, 4804, 4805, 4806, 4807, 4808, 4809, 4810, 4811, 4812, 4813, 4814, 4815, 4816, 4817, 4818, 4819, 4820, 4821, 4822, 4823, 4824, 4825, 4826, 4827, 4828, 4829, 4830, 4831, 4832, 4833, 4834, 4835, 4836, 4837, 4838, 4839, 4840, 4841, 4842, 4843, 4844, 4845, 4846, 4847, 4848, 4849, 4850, 4851, 4852, 4853, 4854, 4855, 4856, 4857, 4858, 4859, 4860, 4861, 4862, 4863, 4864, 4865, 4866, 4867, 4868, 4869, 4870, 4871, 4872, 4873, 4874, 4875, 4876, 4877, 4878, 4879, 4880, 4881, 4882, 4883, 4884, 4885, 4886, 4887, 4888, 4889, 4890, 4891, 4892, 4893, 4894, 4895, 4896, 4897, 4898, 4899, 4900, 4901, 4902, 4903, 4904, 4905, 4906, 4907, 4908, 4909, 4910, 4911, 4912, 4913, 4914, 4915, 4916, 4917, 4918, 4919, 4920, 4921, 4922, 4923, 4924, 4925, 4926, 4927, 4928, 4929, 4930, 4931, 4932, 4933, 4934, 4935, 4936, 4937, 4938, 4939, 4940, 4941, 4942, 4943, 4944, 4945, 4946, 4947, 4948, 4949, 4950, 4951, 4952, 4953, 4954, 4955, 4956, 4957, 4958, 4960, 4961, 4962, 4963, 4964, 4965, 4966, 4967, 4968, 4969, 4970, 4971, 4972, 4973, 4974, 4975, 4976, 4977, 4978, 4979, 4980, 4981, 4982, 4983, 4984, 4985, 4986, 4987, 4988, 4989, 4990, 4991, 4992, 4993, 4994, 4995, 4996, 4997, 4998, 4999, 5000, 5001, 5002, 5003, 5004, 5005, 5006, 5007, 5008, 5009, 5010, 5011, 5012, 5013, 5014, 5015, 5016, 5017, 5018, 5019, 5020, 5021, 5022, 5023, 5024, 5025, 5026, 5027, 5028, 5029, 5030, 5031, 5032, 5033, 5034, 5035, 5036, 5037, 5038, 5039, 5040, 5041, 5042, 5043, 5044, 5045, 5046, 5047, 5048, 5049, 5050, 5051, 5052, 5053, 5054, 5055, 5056, 5057, 5058, 5059, 5060, 5061, 5062, 5063, 5064, 5065, 5066, 5067, 5068, 5069, 5070, 5071, 5072, 5073, 5074, 5075, 5076, 5077, 5078, 5079, 5080, 5081, 5082, 5083, 5084, 5085, 5086, 5087, 5088, 5089, 5090, 5091, 5092, 5093, 5094, 5095, 5096, 5097, 5098, 5099, 5100, 5101, 5102, 5103, 5104, 5105, 5106, 5107, 5108, 5109, 5110, 5112, 5113, 5114, 5115, 5116, 5117, 5118, 5119, 5120, 5121, 5122, 5123, 5124, 5125, 5126, 5127, 5128, 5129, 5130, 5131, 5132, 5133, 5134, 5135, 5136, 5137, 5138, 5139, 5140, 5141, 5142, 5143, 5144, 5145, 5146, 5147, 5148, 5149, 5150, 5151, 5152, 5153, 5154, 5155, 5156, 5157, 5158, 5159, 5160, 5161, 5162, 5163, 5164, 5165, 5166, 5167, 5168, 5169, 5170, 5171, 5172, 5173, 5174, 5175, 5176, 5177, 5178, 5179, 5180, 5181, 5182, 5183, 5184, 5185, 5186, 5187, 5188, 5189, 5190, 5191, 5192, 5193, 5194, 5195, 5196, 5197, 5198, 5199, 5200, 5201, 5202, 5203, 5204, 5205, 5206, 5207, 5208, 5209, 5210, 5211, 5212, 5213, 5214, 5215, 5216, 5217, 5218, 5219, 5220, 5221, 5222, 5223, 5224, 5225, 5226, 5227, 5228, 5229, 5230, 5231, 5232, 5233, 5234, 5235, 5236, 5237, 5238, 5239, 5240, 5241, 5242, 5243, 5244, 5245, 5246, 5247, 5248, 5249, 5250, 5251, 5252, 5253, 5254, 5255, 5256, 5257, 5258, 5259, 5260, 5261, 5262, 5263, 5264, 5265, 5266, 5267, 5268, 5269, 5270, 5271, 5272, 5273, 5274, 5275, 5276, 5277, 5278, 5279, 5280, 5281, 5282, 5283, 5284, 5285, 5286, 5287, 5288, 5289, 5290, 5291, 5292, 5293, 5294, 5295, 5296, 5297, 5298, 5299, 5300, 5301, 5302, 5303, 5304, 5305, 5306, 5307, 5308, 5309, 5310, 5311, 5312, 5313, 5314, 5315, 5316, 5317, 5318, 5319, 5320, 5321, 5322, 5323, 5324, 5325, 5326, 5327, 5328, 5329, 5330, 5331, 5332, 5333, 5334, 5335, 5336, 5337, 5338, 5339, 5341, 5342, 5343, 5344, 5345, 5346, 5347, 5348, 5349, 5350, 5351, 5352, 5353, 5354, 5355, 5356, 5357, 5358, 5359, 5360, 5361, 5362, 5363, 5364, 5365, 5366, 5367, 5368, 5369, 5370, 5371, 5372, 5373, 5374, 5375, 5376, 5377, 5378, 5379, 5380, 5381, 5382, 5383, 5384, 5385, 5386, 5387, 5388, 5389, 5390, 5391, 5392, 5393, 5394, 5395, 5396, 5397, 5398, 5399, 5400, 5401, 5402, 5403, 5404, 5405, 5406, 5407, 5408, 5409, 5410, 5411, 5412, 5413, 5414, 5415, 5416, 5417, 5418, 5419, 5420, 5421, 5422, 5423, 5424, 5425, 5426, 5427, 5428, 5429, 5430, 5431, 5432, 5433, 5434, 5435, 5436, 5437, 5438, 5439, 5440, 5441, 5442, 5443, 5444, 5445, 5446, 5447, 5448, 5449, 5450, 5451, 5452, 5453, 5454, 5455, 5456, 5457, 5458, 5459, 5460, 5461, 5462, 5463, 5464, 5465, 5466, 5467, 5468, 5469, 5470, 5471, 5472, 5473, 5474, 5475, 5476, 5477, 5478, 5479, 5480, 5481, 5482, 5483, 5484, 5485, 5486, 5487, 5488, 5489, 5490, 5491, 5492, 5493, 5494, 5495, 5496, 5497, 5498, 5499, 5500, 5501, 5502, 5503, 5504, 5505, 5506, 5507, 5508, 5509, 5510, 5511, 5512, 5513, 5514, 5515, 5516, 5517, 5518, 5519, 5520, 5521, 5522, 5523, 5524, 5525, 5526, 5527, 5528, 5529, 5530, 5531, 5532, 5533, 5534, 5535, 5536, 5537, 5538, 5539, 5540, 5541, 5542, 5543, 5544, 5545, 5546, 5547, 5548, 5549, 5550, 5551, 5552, 5553, 5554, 5555, 5556, 5557, 5558, 5559, 5560, 5561, 5562, 5563, 5564, 5565, 5566, 5567, 5568, 5569, 5570, 5571, 5572, 5573, 5574, 5575, 5576, 5577, 5578, 5579, 5580, 5581, 5582, 5583, 5584, 5585, 5586, 5587, 5588, 5589, 5590, 5591, 5592, 5593, 5594, 5595, 5596, 5597, 5598, 5599, 5600, 5601, 5602, 5603, 5604, 5605, 5606, 5607, 5608, 5609, 5610, 5611, 5612, 5613, 5614, 5615, 5616, 5617, 5618, 5619, 5620, 5621, 5622, 5623, 5624, 5625, 5626, 5627, 5628, 5629, 5630, 5631, 5632, 5633, 5634, 5635, 5636, 5637, 5638, 5639, 5640, 5641, 5642, 5643, 5644, 5645, 5646, 5647, 5648, 5649, 5650, 5651, 5652, 5653, 5654, 5655, 5656, 5657, 5658, 5659, 5660, 5661, 5662, 5663, 5664, 5665, 5666, 5667, 5668, 5669, 5670, 5671, 5672, 5673, 5674, 5675, 5676, 5677, 5678, 5679, 5680, 5681, 5682, 5683, 5684, 5685, 5686, 5687, 5688, 5689, 5690, 5691, 5692, 5693, 5694, 5695, 5696, 5697, 5698, 5699, 5700, 5701, 5702, 5703, 5704, 5705, 5706, 5707, 5708, 5709, 5710, 5711, 5712, 5713, 5714, 5715, 5716, 5717, 5718, 5719, 5720, 5721, 5722, 5723, 5724, 5725, 5726, 5727, 5728, 5729, 5730, 5732, 5733, 5734, 5735, 5736, 5738, 5739, 5740, 5741, 5742, 5743, 5744, 5745, 5746, 5747, 5748, 5749, 5750, 5751, 5752, 5753, 5754, 5755, 5756, 5757, 5758, 5759, 5760, 5761, 5762, 5763, 5764, 5765, 5766, 5767, 5768, 5769, 5770, 5771, 5772, 5773, 5774, 5775, 5776, 5777, 5778, 5779, 5780, 5781, 5782, 5783, 5784, 5785, 5786, 5787, 5788, 5789, 5790, 5791, 5792, 5793, 5794, 5795, 5796, 5797, 5798, 5799, 5800, 5801, 5802, 5803, 5804, 5805, 5806, 5807, 5808, 5809, 5810, 5811, 5812, 5813, 5814, 5815, 5816, 5817, 5818, 5819, 5820, 5821, 5822, 5823, 5824, 5825, 5826, 5827, 5828, 5829, 5830, 5831, 5832, 5833, 5834, 5835, 5836, 5837, 5838, 5839, 5840, 5841, 5842, 5843, 5844, 5845, 5846, 5847, 5848, 5849, 5850, 5851, 5852, 5853, 5854, 5855, 5856, 5857, 5858, 5859, 5860, 5861, 5862, 5863, 5864, 5865, 5866, 5867, 5868, 5869, 5870, 5871, 5872, 5873, 5874, 5875, 5876, 5877, 5878, 5879, 5880, 5881, 5882, 5883, 5884, 5885, 5886, 5887, 5888, 5889, 5890, 5891, 5892, 5893, 5894, 5895, 5896, 5897, 5898, 5899, 5900, 5901, 5902, 5903, 5904, 5905, 5906, 5907, 5908, 5909, 5910, 5911, 5912, 5913, 5914, 5915, 5916, 5917, 5918, 5919, 5920, 5921, 5922, 5923, 5924, 5925, 5926, 5927, 5928, 5929, 5930, 5931, 5932, 5933, 5934, 5935, 5936, 5937, 5938, 5939, 5940, 5941, 5942, 5943, 5944, 5945, 5946, 5947, 5948, 5949, 5950, 5951, 5952, 5953, 5954, 5955, 5956, 5957, 5958, 5959, 5960, 5961, 5962, 5963, 5964, 5965, 5966, 5967, 5968, 5969, 5970, 5971, 5972, 5973, 5974, 5975, 5976, 5977, 5978, 5979, 5980, 5981, 5982, 5983, 5984, 5985, 5986, 5987, 5988, 5989, 5990, 5991, 5993, 5994, 5995, 5996, 5997, 5998, 5999, 6000, 6001, 6002, 6003, 6004, 6005, 6006, 6007, 6008, 6009, 6010, 6011, 6012, 6013, 6014, 6015, 6016, 6017, 6018, 6019, 6020, 6021, 6022, 6023, 6024, 6025, 6026, 6027, 6028, 6029, 6030, 6031, 6032, 6033, 6034, 6035, 6036, 6037, 6038, 6039, 6040, 6041, 6042, 6043, 6044, 6045, 6046, 6047, 6048, 6049, 6050, 6051, 6052, 6053, 6054, 6055, 6056, 6057, 6058, 6059, 6060, 6061, 6062, 6063, 6064, 6065, 6066, 6067, 6068, 6069, 6070, 6071, 6072, 6073, 6074, 6075, 6076, 6077, 6078, 6079, 6080, 6081, 6082, 6083, 6084, 6085, 6086, 6087, 6088, 6089, 6090, 6091, 6092, 6093, 6094, 6095, 6096, 6097, 6098, 6099, 6100, 6101, 6102, 6103, 6104, 6105, 6106, 6107, 6108, 6109, 6110, 6111, 6112, 6113, 6114, 6115, 6116, 6117, 6118, 6119, 6120, 6121, 6122, 6123, 6124, 6125, 6126, 6127, 6128, 6129, 6130, 6131, 6132, 6133, 6134, 6135, 6136, 6137, 6138, 6139, 6140, 6141, 6142, 6143, 6144, 6145, 6146, 6147, 6148, 6149, 6150, 6151, 6152, 6153, 6154, 6155, 6156, 6157, 6158, 6159, 6160, 6161, 6162, 6163, 6164, 6165, 6166, 6167, 6168, 6169, 6170, 6171, 6172, 6173, 6174, 6175, 6176, 6177, 6178, 6179, 6180, 6181, 6182, 6183, 6184, 6185, 6186, 6187, 6188, 6189, 6190, 6191, 6192, 6193, 6194, 6195, 6196, 6197, 6198, 6199, 6200, 6201, 6202, 6203, 6204, 6205, 6206, 6207, 6208, 6209, 6210, 6211, 6212, 6213, 6214, 6215, 6216, 6217, 6218, 6219, 6220, 6221, 6222, 6223, 6224, 6225, 6226, 6227, 6228, 6229, 6230, 6231, 6232, 6233, 6234, 6235, 6236, 6237, 6238, 6239, 6240, 6241, 6242, 6243, 6244, 6245, 6246, 6247, 6248, 6249, 6250, 6251, 6252, 6253, 6254, 6255, 6256, 6257, 6258, 6259, 6260, 6261, 6262, 6263, 6264, 6265, 6266, 6267, 6268, 6269, 6270, 6271, 6272, 6273, 6274, 6275, 6276, 6277, 6278, 6279, 6280, 6281, 6282, 6283, 6284, 6285, 6286, 6287, 6288, 6289, 6290, 6291, 6292, 6293, 6294, 6295, 6296, 6297, 6298, 6299, 6300, 6301, 6302, 6303, 6304, 6305, 6306, 6307, 6308, 6309, 6310, 6311, 6312, 6313, 6314, 6315, 6316, 6317, 6318, 6319, 6320, 6321, 6322, 6323, 6324, 6325, 6326, 6327, 6328, 6329, 6330, 6331, 6332, 6333, 6334, 6335, 6336, 6337, 6338, 6339, 6340, 6341, 6342, 6343, 6344, 6345, 6346, 6347, 6348, 6349, 6350, 6351, 6352, 6353, 6354, 6355, 6356, 6357, 6358, 6359, 6360, 6361, 6362, 6363, 6364, 6365, 6366, 6367, 6368, 6369, 6370, 6371, 6372, 6373, 6374, 6375, 6376, 6377, 6378, 6379, 6380, 6381, 6382, 6383, 6384, 6385, 6386, 6387, 6388, 6389, 6390, 6391, 6392, 6393, 6394, 6395, 6396, 6397, 6398, 6399, 6400, 6401, 6402, 6403, 6404, 6405, 6406, 6407, 6408, 6409, 6410, 6411, 6412, 6413, 6414, 6415, 6416, 6417, 6418, 6419, 6420, 6421, 6422, 6423, 6424, 6425, 6426, 6427, 6428, 6429, 6430, 6431, 6432, 6433, 6434, 6435, 6436, 6437, 6438, 6439, 6440, 6441, 6442, 6443, 6444, 6445, 6446, 6447, 6448, 6449, 6450, 6451, 6452, 6453, 6454, 6455, 6456, 6457, 6458, 6459, 6460, 6461, 6462, 6463, 6464, 6465, 6466, 6467, 6468, 6469, 6470, 6471, 6472, 6473, 6474, 6475, 6476, 6477, 6478, 6479, 6480, 6481, 6482, 6483, 6484, 6485, 6486, 6487, 6488, 6489, 6490, 6491, 6492, 6493, 6494, 6495, 6496, 6497, 6498, 6499, 6500, 6501, 6502, 6503, 6504, 6505, 6506, 6507, 6508, 6509, 6510, 6511, 6512, 6513, 6514, 6515, 6516, 6517, 6518, 6519, 6520, 6521, 6522, 6523, 6524, 6525, 6526, 6527, 6528, 6529, 6530, 6531, 6532, 6533, 6534, 6535, 6536, 6537, 6538, 6539, 6540, 6541, 6542, 6543, 6544, 6545, 6546, 6547, 6548, 6549, 6550, 6551, 6552, 6553, 6554, 6555, 6556, 6557, 6558, 6559, 6560, 6561, 6562, 6563, 6564, 6565, 6566, 6567, 6568, 6569, 6570, 6571, 6572, 6573, 6574, 6575, 6576, 6577, 6578, 6579, 6580, 6581, 6582, 6583, 6584, 6585, 6586, 6587, 6588, 6589, 6590, 6591, 6592, 6593, 6594, 6595, 6596, 6597, 6598, 6599, 6600, 6601, 6602, 6603, 6604, 6605, 6606, 6607, 6608, 6609, 6610, 6611, 6612, 6613, 6614, 6615, 6616, 6617, 6618, 6619, 6620, 6621, 6622, 6623, 6624, 6625, 6626, 6627, 6628, 6629, 6630, 6631, 6632, 6633, 6634, 6635, 6636, 6637, 6638, 6639, 6640, 6641, 6642, 6643, 6644, 6645, 6646, 6647, 6648, 6649, 6650, 6651, 6652, 6653, 6654, 6655, 6656, 6657, 6658, 6659, 6660, 6661, 6662, 6663, 6664, 6665, 6666, 6667, 6668, 6669, 6670, 6671, 6672, 6673, 6674, 6675, 6676, 6677, 6678, 6679, 6680, 6681, 6682, 6683, 6684, 6685, 6686, 6687, 6688, 6689, 6690, 6691, 6692, 6693, 6694, 6695, 6696, 6697, 6698, 6699, 6700, 6701, 6702, 6703, 6704, 6705, 6706, 6707, 6708, 6709, 6710, 6711, 6712, 6713, 6714, 6715, 6716, 6717, 6718, 6719, 6720, 6721, 6722, 6723, 6724, 6725, 6726, 6727, 6728, 6729, 6730, 6731, 6732, 6733, 6734, 6735, 6736, 6737, 6738, 6739, 6740, 6741, 6742, 6743, 6744, 6745, 6746, 6747, 6748, 6749, 6750, 6751, 6752, 6753, 6754, 6755, 6756, 6757, 6758, 6759, 6760, 6761, 6762, 6763, 6764, 6765, 6766, 6767, 6768, 6770, 6771, 6773, 6774, 6775, 6776, 6777, 6778, 6779, 6780, 6781, 6782, 6783, 6784, 6785, 6786, 6787, 6788, 6789, 6790, 6791, 6792, 6793, 6794, 6795, 6796, 6797, 6798, 6799, 6800, 6801, 6802, 6803, 6804, 6805, 6806, 6807, 6808, 6809, 6810, 6811, 6812, 6813, 6814, 6815, 6816, 6817, 6818, 6819, 6820, 6821, 6822, 6823, 6824, 6825, 6826, 6827, 6828, 6829, 6830, 6831, 6832, 6833, 6834, 6835, 6836, 6837, 6838, 6839, 6840, 6841, 6842, 6843, 6844, 6845, 6846, 6847, 6848, 6849, 6850, 6851, 6852, 6853, 6854, 6855, 6856, 6857, 6858, 6859, 6860, 6861, 6862, 6863, 6864, 6865, 6866, 6867, 6868, 6869, 6870, 6871, 6872, 6873, 6874, 6875, 6876, 6877, 6878, 6879, 6880, 6881, 6882, 6883, 6884, 6885, 6886, 6887, 6888, 6889, 6890, 6891, 6892, 6893, 6894, 6895, 6896, 6897, 6898, 6899, 6900, 6901, 6902, 6903, 6904, 6905, 6906, 6907, 6908, 6909, 6910, 6911, 6912, 6913, 6914, 6915, 6916, 6917, 6918, 6919, 6920, 6921, 6922, 6923, 6924, 6925, 6926, 6927, 6928, 6929, 6930, 6931, 6932, 6933, 6934, 6935, 6936, 6937, 6938, 6939, 6940, 6941, 6942, 6943, 6944, 6945, 6946, 6947, 6948, 6949, 6950, 6951, 6952, 6953, 6954, 6955, 6956, 6957, 6958, 6959, 6960, 6961, 6962, 6963, 6964, 6965, 6966, 6967, 6968, 6969, 6970, 6971, 6972, 6973, 6974, 6975, 6976, 6977, 6978, 6979, 6980, 6981, 6982, 6983, 6984, 6985, 6986, 6987, 6988, 6989, 6990, 6991, 6992, 6993, 6994, 6995, 6996, 6997, 6998, 6999, 7000, 7001, 7002, 7003, 7004, 7005, 7006, 7007, 7008, 7009, 7010, 7011, 7012, 7013, 7014, 7015, 7016, 7017, 7018, 7019, 7020, 7021, 7022, 7023, 7024, 7025, 7026, 7027, 7028, 7029, 7030, 7031, 7033, 7034, 7035, 7036, 7037, 7038, 7039, 7040, 7041, 7042, 7043, 7044, 7045, 7046, 7047, 7048, 7049, 7050, 7051, 7052, 7053, 7054, 7055, 7056, 7057, 7058, 7059, 7060, 7061, 7062, 7063, 7064, 7065, 7066, 7067, 7068, 7069, 7070, 7071, 7072, 7073, 7074, 7075, 7076, 7077, 7078, 7079, 7080, 7081, 7082, 7083, 7084, 7085, 7086, 7087, 7088, 7089, 7090, 7091, 7092, 7093, 7094, 7095, 7096, 7097, 7098, 7099, 7100, 7101, 7102, 7103, 7104, 7105, 7106, 7107, 7108, 7109, 7110, 7111, 7112, 7113, 7114, 7115, 7116, 7117, 7118, 7119, 7120, 7121, 7122, 7123, 7124, 7125, 7126, 7127, 7128, 7129, 7130, 7131, 7132, 7133, 7134, 7135, 7136, 7137, 7138, 7139, 7140, 7141, 7142, 7143, 7144, 7145, 7146, 7147, 7148, 7149, 7150, 7151, 7152, 7153, 7154, 7155, 7156, 7157, 7158, 7159, 7160, 7161, 7162, 7163, 7164, 7165, 7166, 7167, 7168, 7169, 7170, 7171, 7172, 7173, 7174, 7175, 7176, 7177, 7178, 7179, 7180, 7181, 7182, 7183, 7184, 7185, 7186, 7187, 7188, 7189, 7190, 7191, 7192, 7193, 7194, 7195, 7196, 7197, 7198, 7199, 7200, 7201, 7202, 7203, 7204, 7205, 7206, 7207, 7208, 7209, 7210, 7211, 7212, 7213, 7214, 7215, 7216, 7217, 7218, 7219, 7220, 7221, 7222, 7223, 7224, 7225, 7226, 7227, 7228, 7229, 7230, 7231, 7232, 7233, 7234, 7235, 7236, 7237, 7238, 7239, 7240, 7241, 7242, 7243, 7244, 7245, 7246, 7247, 7248, 7249, 7250, 7251, 7252, 7253, 7254, 7255, 7256, 7257, 7258, 7259, 7260, 7261, 7262, 7263, 7264, 7265, 7266, 7267, 7268, 7269, 7270, 7271, 7272, 7273, 7274, 7275, 7276, 7277, 7278, 7279, 7280, 7281, 7282, 7283, 7284, 7285, 7286, 7287, 7288, 7289, 7290, 7291, 7292, 7293, 7294, 7295, 7296, 7297, 7298, 7299, 7300, 7301, 7302, 7303, 7304, 7305, 7306, 7307, 7308, 7309, 7310, 7311, 7312, 7313, 7314, 7315, 7316, 7317, 7318, 7319, 7320, 7321, 7322, 7323, 7324, 7325, 7326, 7327, 7328, 7329, 7330, 7331, 7332, 7333, 7334, 7335, 7336, 7337, 7338, 7339, 7340, 7341, 7342, 7343, 7344, 7345, 7346, 7347, 7348, 7349, 7350, 7351, 7352, 7353, 7354, 7355, 7356, 7357, 7358, 7359, 7360, 7361, 7362, 7363, 7364, 7365, 7366, 7367, 7368, 7369, 7370, 7371, 7372, 7373, 7374, 7375, 7376, 7377, 7378, 7379, 7380, 7381, 7382, 7383, 7384, 7385, 7386, 7387, 7388, 7389, 7390, 7391, 7392, 7393, 7394, 7395, 7396, 7397, 7398, 7399, 7400, 7401, 7402, 7403, 7404, 7405, 7406, 7407, 7408, 7409, 7410, 7411, 7412, 7413, 7414, 7415, 7416, 7417, 7418, 7419, 7420, 7421, 7422, 7423, 7424, 7425, 7426, 7427, 7428, 7429, 7430, 7431, 7432, 7433, 7434, 7435, 7436, 7437, 7438, 7439, 7440, 7441, 7442, 7443, 7444, 7445, 7446, 7447, 7448, 7449, 7450, 7451, 7452, 7453, 7454, 7455, 7456, 7457, 7458, 7459, 7460, 7461, 7462, 7463, 7464, 7465, 7466, 7467, 7468, 7469, 7470, 7471, 7472, 7473, 7474, 7475, 7476, 7477, 7478, 7479, 7480, 7481, 7482, 7483, 7484, 7485, 7486, 7487, 7488, 7489, 7490, 7491, 7492, 7493, 7494, 7495, 7496, 7497, 7498, 7499, 7500, 7501, 7502, 7503, 7504, 7505, 7506, 7507, 7508, 7509, 7510, 7511, 7512, 7513, 7514, 7515, 7516, 7517, 7518, 7519, 7520, 7521, 7522, 7523, 7524, 7525, 7526, 7527, 7528, 7529, 7530, 7531, 7532, 7533, 7534, 7535, 7536, 7537, 7538, 7539, 7540, 7541, 7542, 7543, 7544, 7545, 7546, 7547, 7548, 7549, 7550, 7551, 7552, 7553, 7554, 7555, 7556, 7557, 7558, 7559, 7560, 7561, 7562, 7563, 7564, 7565, 7566, 7567, 7568, 7569, 7570, 7571, 7572, 7573, 7574, 7575, 7576, 7577, 7578, 7579, 7580, 7581, 7582, 7583, 7584, 7585, 7586, 7587, 7588, 7589, 7590, 7591, 7592, 7593, 7594, 7595, 7596, 7597, 7598, 7599, 7600, 7601, 7602, 7603, 7604, 7605, 7606, 7607, 7608, 7609, 7610, 7611, 7612, 7613, 7614, 7615, 7616, 7617, 7618, 7619, 7620, 7621, 7622, 7623, 7624, 7625, 7626, 7627, 7628, 7629, 7630, 7631, 7632, 7633, 7634, 7635, 7636, 7637, 7638, 7639, 7640, 7641, 7642, 7643, 7644, 7645, 7646, 7647, 7648, 7649, 7650, 7651, 7652, 7653, 7654, 7655, 7656, 7657, 7658, 7659, 7660, 7661, 7662, 7663, 7664, 7665, 7666, 7667, 7668, 7669, 7670, 7671, 7672, 7673, 7674, 7675, 7676, 7677, 7678, 7679, 7680, 7681, 7682, 7683, 7684, 7685, 7686, 7687, 7688, 7689, 7690, 7691, 7692, 7693, 7694, 7695, 7696, 7697, 7698, 7699, 7700, 7701, 7702, 7703, 7704, 7705, 7706, 7707, 7708, 7709, 7710, 7711, 7712, 7713, 7714, 7715, 7716, 7717, 7718, 7719, 7720, 7721, 7722, 7723, 7724, 7725, 7726, 7727, 7728, 7729, 7730, 7731, 7732, 7733, 7734, 7735, 7736, 7737, 7738, 7739, 7740, 7741, 7742, 7743, 7744, 7745, 7746, 7747, 7748, 7749, 7750, 7751, 7752, 7753, 7754, 7755, 7756, 7757, 7758, 7759, 7760, 7761, 7762, 7763, 7764, 7765, 7766, 7767, 7768, 7769, 7770, 7771, 7772, 7773, 7774, 7775, 7776, 7777, 7778, 7779, 7780, 7781, 7782, 7783, 7784, 7785, 7786, 7787, 7788, 7789, 7790, 7791, 7792, 7793, 7794, 7795, 7796, 7797, 7798, 7799, 7800, 7801, 7802, 7803, 7804, 7805, 7806, 7807, 7808, 7809, 7810, 7811, 7812, 7813, 7814, 7815, 7816, 7817, 7818, 7819, 7820, 7821, 7822, 7823, 7824, 7825, 7826, 7827, 7828, 7829, 7830, 7831, 7832, 7833, 7834, 7835, 7836, 7837, 7838, 7839, 7840, 7841, 7842, 7843, 7844, 7845, 7846, 7847, 7848, 7849, 7850, 7851, 7852, 7853, 7854, 7855, 7856, 7857, 7858, 7859, 7860, 7861, 7862, 7863, 7864, 7865, 7866, 7867, 7868, 7869, 7870, 7871, 7872, 7873, 7874, 7875, 7876, 7877, 7878, 7879, 7880, 7881, 7882, 7883, 7884, 7885, 7886, 7887, 7888, 7889, 7890, 7891, 7892, 7893, 7894, 7895, 7896, 7897, 7898, 7899, 7900, 7901, 7902, 7903, 7904, 7905, 7906, 7907, 7908, 7909, 7910, 7911, 7912, 7913, 7914, 7915, 7916, 7917, 7918, 7919, 7920, 7921, 7922, 7923, 7924, 7925, 7926, 7927, 7928, 7929, 7930, 7931, 7932, 7933, 7934, 7935, 7936, 7937, 7938, 7939, 7940, 7941, 7942, 7943, 7944, 7945, 7946, 7947, 7948, 7949, 7950, 7951, 7952, 7953, 7954, 7955, 7956, 7957, 7958, 7959, 7960, 7961, 7962, 7963, 7964, 7965, 7966, 7967, 7968, 7969, 7970, 7971, 7972, 7973, 7974, 7975, 7976, 7977, 7978, 7979, 7980, 7981, 7982, 7983, 7984, 7985, 7986, 7987, 7988, 7989, 7990, 7991, 7992, 7993, 7994, 7995, 7996, 7997, 7998, 7999, 8000, 8001, 8002, 8003, 8004, 8005, 8006, 8007, 8008, 8009, 8010, 8011, 8012, 8013, 8014, 8015, 8016, 8017, 8018, 8019, 8020, 8021, 8022, 8023, 8024, 8025, 8026, 8027, 8028, 8029, 8030, 8031, 8032, 8033, 8034, 8035, 8036, 8037, 8038, 8039, 8040, 8041, 8042, 8043, 8044, 8045, 8046, 8047, 8048, 8049, 8050, 8051, 8052, 8053, 8054, 8055, 8056, 8057, 8058, 8059, 8060, 8061, 8062, 8063, 8064, 8065, 8066, 8067, 8068, 8069, 8070, 8071, 8072, 8073, 8074, 8075, 8076, 8077, 8078, 8079, 8080, 8081, 8082, 8083, 8084, 8085, 8086, 8087, 8088, 8089, 8090, 8091, 8092, 8093, 8094, 8095, 8096, 8097, 8098, 8099, 8100, 8101, 8102, 8103, 8104, 8105, 8106, 8107, 8108, 8109, 8110, 8111, 8112, 8113, 8114, 8115, 8116, 8117, 8118, 8119, 8120, 8121, 8122, 8123, 8124, 8125, 8126, 8127, 8128, 8129, 8130, 8131, 8132, 8133, 8134, 8135, 8136, 8137, 8138, 8139, 8140, 8141, 8142, 8143, 8144, 8145, 8146, 8147, 8148, 8149, 8150, 8151, 8152, 8153, 8154, 8155, 8156, 8157, 8158, 8159, 8160, 8161, 8162, 8163, 8164, 8165, 8166, 8167, 8168, 8169, 8170, 8171, 8172, 8173, 8174, 8175, 8176, 8177, 8178, 8179, 8180, 8181, 8182, 8183, 8184, 8185, 8186, 8187, 8188, 8189, 8190, 8191, 8192, 8193, 8194, 8195, 8196, 8197, 8198, 8199, 8200, 8201, 8202, 8203, 8204, 8205, 8206, 8207, 8208, 8209, 8210, 8211, 8212, 8213, 8214, 8215, 8216, 8217, 8218, 8219, 8220, 8221, 8222, 8223, 8224, 8225, 8226, 8227, 8228, 8229, 8230, 8231, 8232, 8233, 8234, 8235, 8236, 8237, 8238, 8239, 8240, 8241, 8242, 8243, 8244, 8245, 8246, 8247, 8248, 8249, 8250, 8251, 8252, 8253, 8254, 8255, 8256, 8257, 8258, 8259, 8260, 8261, 8262, 8263, 8264, 8265, 8266, 8267, 8268, 8269, 8270, 8271, 8272, 8273, 8274, 8275, 8276, 8277, 8278, 8279, 8280, 8281, 8282, 8283, 8284, 8285, 8286, 8287, 8288, 8289, 8290, 8291, 8292, 8293, 8294, 8295, 8296, 8297, 8298, 8299, 8300, 8301, 8302, 8303, 8304, 8305, 8306, 8307, 8308, 8309, 8310, 8311, 8312, 8313, 8314, 8315, 8316, 8317, 8318, 8319, 8320, 8321, 8322, 8323, 8324, 8325, 8326, 8327, 8328, 8329, 8330, 8331, 8332, 8333, 8334, 8335, 8336, 8337, 8338, 8339, 8340, 8341, 8342, 8343, 8344, 8345, 8346, 8347, 8348, 8349, 8350, 8351, 8352, 8353, 8354, 8355, 8356, 8357, 8358, 8359, 8360, 8361, 8362, 8363, 8364, 8365, 8366, 8367, 8368, 8369, 8370, 8371, 8372, 8373, 8374, 8375, 8376, 8377, 8378, 8379, 8380, 8381, 8382, 8383, 8384, 8385, 8386, 8387, 8388, 8389, 8390, 8391, 8392, 8393, 8394, 8395, 8396, 8397, 8398, 8399, 8400, 8401, 8402, 8403, 8404, 8405, 8406, 8407, 8408, 8409, 8410, 8411, 8412, 8413, 8414, 8415, 8416, 8417, 8418, 8419, 8420, 8421, 8422, 8423, 8424, 8425, 8426, 8427, 8428, 8429, 8430, 8431, 8432, 8433, 8434, 8435, 8436, 8437, 8438, 8439, 8440, 8441, 8442, 8443, 8444, 8445, 8446, 8447, 8448, 8449, 8450, 8451, 8452, 8453, 8454, 8455, 8456, 8457, 8458, 8459, 8460, 8461, 8462, 8463, 8464, 8465, 8466, 8467, 8468, 8469, 8470, 8471, 8472, 8473, 8474, 8475, 8476, 8477, 8478, 8479, 8480, 8481, 8482, 8483, 8484, 8485, 8486, 8487, 8488, 8489, 8490, 8491, 8492, 8493, 8494, 8495, 8496, 8497, 8498, 8499, 8500, 8501, 8502, 8503, 8504, 8505, 8506, 8507, 8508, 8509, 8510, 8511, 8512, 8513, 8514, 8515, 8516, 8517, 8518, 8519, 8520, 8521, 8522, 8523, 8524, 8525, 8526, 8527, 8528, 8529, 8530, 8531, 8532, 8533, 8534, 8535, 8536, 8537, 8538, 8539, 8540, 8541, 8542, 8543, 8544, 8545, 8546, 8547, 8548, 8549, 8550, 8551, 8552, 8553, 8554, 8555, 8556, 8557, 8558, 8559, 8560, 8561, 8562, 8563, 8564, 8565, 8566, 8567, 8568, 8569, 8570, 8571, 8572, 8573, 8574, 8575, 8576, 8577, 8578, 8579, 8580, 8581, 8582, 8583, 8584, 8585, 8586, 8587, 8588, 8589, 8590, 8591, 8592, 8593, 8594, 8595, 8596, 8597, 8598, 8599, 8600, 8601, 8602, 8603, 8604, 8605, 8606, 8607, 8608, 8609, 8610, 8611, 8612, 8613, 8614, 8615, 8616, 8617, 8618, 8619, 8620, 8621, 8622, 8623, 8624, 8625, 8626, 8627, 8628, 8629, 8630, 8631, 8632, 8633, 8634, 8635, 8636, 8637, 8638, 8639, 8640, 8641, 8642, 8643, 8644, 8645, 8646, 8647, 8648, 8649, 8650, 8651, 8652, 8653, 8654, 8655, 8656, 8657, 8658, 8659, 8660, 8661, 8662, 8663, 8664, 8665, 8666, 8667, 8668, 8669, 8670, 8671, 8672, 8673, 8674, 8675, 8676, 8677, 8678, 8679, 8680, 8681, 8682, 8683, 8684, 8685, 8686, 8687, 8688, 8689, 8690, 8691, 8692, 8693, 8694, 8695, 8696, 8697, 8698, 8699, 8700, 8701, 8702, 8703, 8704, 8705, 8706, 8707, 8708, 8709, 8710, 8711, 8712, 8713, 8714, 8715, 8716, 8717, 8718, 8719, 8720, 8721, 8722, 8723, 8724, 8725, 8726, 8727, 8728, 8729, 8730, 8731, 8732, 8733, 8734, 8735, 8736, 8737, 8738, 8739, 8740, 8741, 8742, 8743, 8744, 8745, 8746, 8747, 8748, 8749, 8750, 8751, 8752, 8753, 8754, 8755, 8756, 8757, 8758, 8759, 8760, 8761, 8762, 8763, 8764, 8765, 8766, 8767, 8768, 8769, 8770, 8771, 8772, 8773, 8774, 8775, 8776, 8777, 8778, 8779, 8780, 8781, 8782, 8783, 8784, 8785, 8786, 8787, 8788, 8789, 8790, 8791, 8792, 8793, 8794, 8795, 8796, 8797, 8798, 8799, 8800, 8801, 8802, 8803, 8804, 8805, 8806, 8807, 8808, 8809, 8810, 8811, 8812, 8813, 8814, 8815, 8816, 8817, 8818, 8819, 8820, 8821, 8822, 8823, 8824, 8825, 8826, 8827, 8828, 8829, 8830, 8831, 8832, 8833, 8834, 8835, 8836, 8837, 8838, 8839, 8840, 8841, 8842, 8843, 8844, 8845, 8846, 8847, 8848, 8849, 8850, 8851, 8852, 8853, 8854, 8855, 8856, 8857, 8858, 8859, 8860, 8861, 8862, 8863, 8864, 8865, 8866, 8867, 8868, 8869, 8870, 8871, 8872, 8873, 8874, 8875, 8876, 8877, 8878, 8879, 8880, 8881, 8882, 8883, 8884, 8885, 8886, 8887, 8888, 8889, 8890, 8891, 8892, 8893, 8894, 8895, 8896, 8897, 8898, 8899, 8900, 8901, 8902, 8903, 8904, 8905, 8906, 8907, 8908, 8909, 8910, 8911, 8912, 8913, 8914, 8915, 8916, 8917, 8918, 8919, 8920, 8921, 8922, 8923, 8924, 8925, 8926, 8927, 8928, 8929, 8930, 8931, 8932, 8933, 8934, 8935, 8936, 8937, 8938, 8939, 8940, 8941, 8942, 8943, 8944, 8945, 8946, 8947, 8948, 8949, 8950, 8951, 8952, 8953, 8954, 8955, 8956, 8957, 8958, 8959, 8960, 8961, 8962, 8963, 8964, 8965, 8966, 8967, 8968, 8969, 8970, 8971, 8972, 8973, 8974, 8975, 8976, 8977, 8978, 8979, 8980, 8981, 8982, 8983, 8984, 8985, 8986, 8987, 8988, 8989, 8990, 8991, 8992, 8993, 8994, 8995, 8996, 8997, 8998, 8999, 9000, 9001, 9002, 9003, 9004, 9005, 9006, 9007, 9008, 9009, 9010, 9011, 9012, 9013, 9014, 9015, 9016, 9017, 9018, 9019, 9020, 9021, 9022, 9023, 9024, 9025, 9026, 9027, 9028, 9029, 9030, 9031, 9032, 9033, 9034, 9035, 9036, 9037, 9038, 9039, 9040, 9041, 9042, 9043, 9044, 9045, 9046, 9047, 9048, 9049, 9050, 9051, 9052, 9053, 9054, 9055, 9056, 9057, 9058, 9059, 9060, 9061, 9062, 9063, 9064, 9065, 9066, 9067, 9068, 9069, 9070, 9071, 9072, 9073, 9074, 9075, 9076, 9077, 9078, 9079, 9080, 9081, 9082, 9083, 9084, 9085, 9086, 9087, 9088, 9089, 9090, 9091, 9092, 9093, 9094, 9095, 9096, 9097, 9098, 9099, 9100, 9101, 9102, 9103, 9104, 9105, 9106, 9107, 9108, 9109, 9110, 9111, 9112, 9113, 9114, 9115, 9116, 9117, 9118, 9119, 9120, 9121, 9122, 9123, 9124, 9125, 9126, 9127, 9128, 9129, 9130, 9131, 9132, 9133, 9134, 9135, 9136, 9137, 9138, 9139, 9140, 9141, 9142, 9143, 9144, 9145, 9146, 9147, 9148, 9149, 9150, 9151, 9152, 9153, 9154, 9155, 9156, 9157, 9158, 9159, 9160, 9161, 9162, 9163, 9164, 9165, 9166, 9167, 9168, 9169, 9170, 9171, 9172, 9173, 9174, 9175, 9176, 9177, 9178, 9179, 9180, 9181, 9182, 9183, 9184, 9185, 9186, 9187, 9188, 9189, 9190, 9191, 9192, 9193, 9194, 9195, 9196, 9197, 9198, 9199, 9200, 9201, 9202, 9203, 9204, 9205, 9206, 9207, 9208, 9209, 9210, 9211, 9212, 9213, 9214, 9215, 9216, 9217, 9218, 9219, 9220, 9221, 9222, 9223, 9224, 9225, 9226, 9227, 9228, 9229, 9230, 9231, 9232, 9233, 9234, 9235, 9236, 9237, 9238, 9239, 9240, 9241, 9242, 9243, 9244, 9245, 9246, 9247, 9248, 9249, 9250, 9251, 9252, 9276, 9277, 9278, 9279, 9280, 9281, 9282, 9283, 9284, 9285, 9286, 9287, 9288, 9289, 9290, 9291, 9292, 9293, 9294, 9295, 9296, 9297, 9298, 9299, 9300, 9301, 9302, 9303, 9304, 9305, 9306, 9307, 9308, 9309, 9310, 9311, 9312, 9313, 9314, 9315, 9316, 9317, 9318, 9319, 9320, 9321, 9322, 9323, 9324, 9325, 9326, 9327, 9328, 9329, 9330, 9331, 9332, 9333, 9334, 9335, 9336, 9337, 9338, 9339, 9340, 9341, 9342, 9343, 9344, 9345, 9346, 9347, 9348, 9349, 9350, 9351, 9352, 9353, 9354, 9355, 9356, 9357, 9358, 9359, 9360, 9361, 9362, 9363, 9364, 9365, 9366, 9367, 9368, 9369, 9370, 9371, 9372, 9373, 9374, 9375, 9376, 9377, 9378, 9379, 9380, 9381, 9382, 9383, 9384, 9385, 9386, 9387, 9388, 9389, 9390, 9391, 9392, 9393, 9394, 9395, 9396, 9397, 9398, 9399, 9400, 9401, 9402, 9403, 9404, 9405, 9406, 9407, 9408, 9409, 9410, 9411, 9412, 9413, 9414, 9415, 9416, 9417, 9418, 9419, 9420, 9421, 9422, 9423, 9424, 9425, 9426, 9427, 9428, 9429, 9430, 9431, 9432, 9433, 9434, 9435, 9436, 9437, 9438, 9439, 9440, 9441, 9442, 9443, 9444, 9445, 9446, 9447, 9448, 9449, 9450, 9451, 9452, 9453, 9454, 9455, 9456, 9457, 9458, 9459, 9460, 9461, 9462, 9463, 9464, 9465, 9466, 9467, 9468, 9469, 9470, 9471, 9472, 9473, 9474, 9475, 9476, 9477, 9478, 9479, 9480, 9481, 9482, 9483, 9484, 9485, 9486, 9487, 9488, 9489, 9490, 9491, 9492, 9493, 9494, 9495, 9496, 9497, 9498, 9499, 9500, 9501, 9502, 9503, 9504, 9505, 9506, 9507, 9508, 9509, 9510, 9511, 9512, 9513, 9514, 9515, 9516, 9517, 9518, 9519, 9520, 9521, 9522, 9523, 9524, 9525, 9526, 9527, 9528, 9529, 9530, 9531, 9532, 9533, 9534, 9535, 9536, 9537, 9538, 9539, 9540, 9541, 9542, 9543, 9544, 9545, 9546, 9547, 9548, 9549, 9550, 9551, 9552, 9553, 9554, 9555, 9556, 9557, 9558, 9559, 9560, 9561, 9562, 9563, 9564, 9565, 9566, 9567, 9568, 9569, 9570, 9571, 9572, 9573, 9574, 9575, 9576, 9577, 9578, 9579, 9580, 9581, 9582, 9583, 9584, 9585, 9586, 9587, 9588, 9589, 9590, 9591, 9592, 9593, 9594, 9595, 9596, 9597, 9598, 9599, 9600, 9601, 9602, 9603, 9604, 9605, 9606, 9607, 9608, 9609, 9610, 9611, 9612, 9613, 9614, 9615, 9616, 9617, 9618, 9619, 9620, 9621, 9622, 9623, 9624, 9625, 9626, 9627, 9628, 9629, 9630, 9631, 9632, 9633, 9634, 9635, 9636, 9637, 9638, 9639, 9640, 9641, 9642, 9643, 9644, 9645, 9646, 9647, 9648, 9649, 9650, 9651, 9652, 9653, 9654, 9655, 9656, 9657, 9658, 9659, 9660, 9661, 9662, 9663, 9664, 9665, 9666, 9667, 9668, 9669, 9670, 9671, 9672, 9673, 9674, 9675, 9676, 9677, 9678, 9679, 9680, 9681, 9682, 9683, 9684, 9685, 9686, 9687, 9688, 9689, 9690, 9691, 9692, 9693, 9694, 9695, 9696, 9697, 9698, 9699, 9700, 9701, 9702, 9703, 9704, 9705, 9706, 9707, 9708, 9709, 9710, 9711, 9712, 9713, 9714, 9715, 9716, 9717, 9718, 9719, 9720, 9721, 9722, 9723, 9724, 9725, 9726, 9727, 9728, 9729, 9730, 9731, 9732, 9733, 9734, 9735, 9736, 9737, 9738, 9739, 9740, 9741, 9742, 9743, 9744, 9745, 9746, 9747, 9748, 9749, 9750, 9751, 9752, 9753, 9754, 9755, 9756, 9757, 9758, 9759, 9760, 9761, 9762, 9763, 9764, 9765, 9766, 9767, 9768, 9769, 9770, 9771, 9772, 9773, 9774, 9775, 9776, 9777, 9778, 9779, 9780, 9781, 9782, 9783, 9784, 9785, 9786, 9787, 9788, 9789, 9790, 9791, 9792, 9793, 9794, 9795, 9796, 9797, 9798, 9799, 9800, 9801, 9802, 9803, 9804, 9805, 9806, 9807, 9808, 9809, 9810, 9811, 9812, 9813, 9814, 9815, 9816, 9817, 9818, 9819, 9820, 9821, 9822, 9823, 9824, 9825, 9826, 9827, 9828, 9829, 9830, 9831, 9832, 9833, 9834, 9835, 9836, 9837, 9838, 9839, 9840, 9841, 9842, 9843, 9844, 9845, 9846, 9847, 9848, 9849, 9850, 9851, 9852, 9853, 9854, 9855, 9856, 9857, 9858, 9859, 9860, 9861, 9862, 9863, 9864, 9865, 9866, 9867, 9868, 9869, 9870, 9871, 9872, 9873, 9874, 9875, 9876}, {392, 458, 76, 527, 529, 1555, 1556, 1430, 87, 2456, 1369, 2462, 97, 98, 3367, 42, 3372, 3373, 1904, 3378, 1907, 1332, 949, 1461, 3381, 1274, 1663}, {3201, 2243, 3204, 2252, 77, 2322, 1684, 1686, 1687, 1688, 1689, 1690, 1691, 1692, 2136, 1694, 1695, 160, 2139, 162, 163, 2145, 2148, 171, 1966, 627, 3192, 3193, 635, 1277, 2239}, {4959, 9253, 9254, 9255, 9256, 9257, 9258, 9259, 9260, 9261, 9262, 9263, 9264, 9265, 9266, 9267, 9268, 9269, 9270, 9271, 9272, 9273, 9274, 9275}, {1, 2, 4, 132, 8, 397, 16, 17, 276, 277, 24, 26, 28, 30, 31, 32, 290, 35, 36, 165, 294, 40, 564, 54, 569, 58, 62, 190, 192, 70, 73, 75, 80, 208, 209, 220, 231, 359, 233, 1013, 247, 252}, {2003, 2004, 2005, 2006, 2007, 2011, 2012, 2013, 2016, 2017, 2018, 2020, 2021, 2024, 2025, 2026, 2027, 1068, 2028, 2030, 2031}, {4483, 4484, 4485, 4486, 4487, 4488, 4489, 4490, 4491, 4492, 4493, 4495, 4496, 4497, 4498, 4499, 4500, 4501, 4502, 4503, 4504, 1305, 4505, 4506, 4507, 4508, 4509, 4510, 4511, 4512, 4514, 1326}, {3456, 2182, 3847, 3848, 3846, 3849, 3851, 3852, 3853, 3854, 3855, 3856, 3858, 3859, 3861, 3862, 3863, 3864, 3865}]\n"
          ],
          "name": "stdout"
        }
      ]
    },
    {
      "cell_type": "markdown",
      "metadata": {
        "id": "XoFwu55BLYdM",
        "colab_type": "text"
      },
      "source": [
        "# Actual Performance Checker, Checks the Modularity of Graph given list of sets of nodes in communities and G\n",
        "- IE [{1,2,4},{3,5}] , G"
      ]
    },
    {
      "cell_type": "code",
      "metadata": {
        "id": "ayLw_e4TyZii",
        "colab_type": "code",
        "colab": {}
      },
      "source": [
        "#Modularity perf checker\n",
        "def mod_score(communities,G):\n",
        "  total_sum = 0\n",
        "  m = len(G.edges())\n",
        "  for community in communities:\n",
        "    summation = len(G.subgraph(community).edges())\n",
        "    totaldegree=sum(n for _, n in G.degree(community)) \n",
        "    total_sum += ((summation/m)-(totaldegree/(2*m))**2)\n",
        "  return total_sum"
      ],
      "execution_count": 0,
      "outputs": []
    },
    {
      "cell_type": "markdown",
      "metadata": {
        "id": "eJqZ_gRyHajp",
        "colab_type": "text"
      },
      "source": [
        "# Prep for Swam Algo\n",
        "\n"
      ]
    },
    {
      "cell_type": "code",
      "metadata": {
        "id": "zVPxgksaHP2g",
        "colab_type": "code",
        "outputId": "fca93592-5429-43bd-8748-904462375cde",
        "colab": {
          "base_uri": "https://localhost:8080/",
          "height": 33
        }
      },
      "source": [
        "import tensorflow as tf\n",
        "import numpy as np\n",
        "import networkx as nx\n",
        "import math\n",
        "\n",
        "from google.colab import drive\n",
        "drive.mount('/content/drive', force_remount=True)\n",
        "\n"
      ],
      "execution_count": 0,
      "outputs": [
        {
          "output_type": "stream",
          "text": [
            "Mounted at /content/drive\n"
          ],
          "name": "stdout"
        }
      ]
    },
    {
      "cell_type": "code",
      "metadata": {
        "id": "XkMz0hVjHXEG",
        "colab_type": "code",
        "outputId": "8bd49323-e58f-4334-a5d0-4e343b067310",
        "colab": {
          "base_uri": "https://localhost:8080/",
          "height": 50
        }
      },
      "source": [
        "import re\n",
        "lineFinder = re.compile('(\\d+\\s+\\d+.*\\n)')\n",
        "# Options com-youtube.ungraph.txt  ca-HepTh.txt roadNet-CA.txt\n",
        "#with open('/content/drive/My Drive/ca-HepTh.txt', 'r') as f:\n",
        "with open('/content/drive/My Drive/ca-HepTh.txt', 'r') as f:\n",
        "   file = f.read()\n",
        "singleLines = list(map(lambda x: np.fromstring(x, dtype=int, sep=' '), lineFinder.findall(file)))\n",
        "G = nx.from_edgelist(np.column_stack(singleLines).T)\n",
        "G = nx.convert_node_labels_to_integers(G)\n",
        "print(\"Data impoted\")\n",
        "\n",
        "G = sorted(list(nx.connected_component_subgraphs(G)),key=lambda x: -1*len(x.nodes()))[0];\n",
        "\n",
        "from scipy.sparse import lil_matrix\n",
        "adjacency_matrix_R = lil_matrix((len(G.nodes()), len(G.nodes())))\n",
        "#diag_matrix = lil_matrix((len(G.nodes()), len(G.nodes())))\n",
        "normal_laplacian = lil_matrix((len(G.nodes()), len(G.nodes())))\n",
        "#print(adjacency_matrix.shape)\n",
        "\n",
        "G = nx.convert_node_labels_to_integers(G)\n",
        "for edge in G.edges():\n",
        "  adjacency_matrix_R[edge[0],edge[1]] = 1\n",
        "  adjacency_matrix_R[edge[1],edge[0]] = 1\n",
        "\n",
        "print(\"Adjacency_matrix prepared\")"
      ],
      "execution_count": 0,
      "outputs": [
        {
          "output_type": "stream",
          "text": [
            "Data impoted\n",
            "Adjacency_matrix prepared\n"
          ],
          "name": "stdout"
        }
      ]
    },
    {
      "cell_type": "markdown",
      "metadata": {
        "id": "EVujlk_CYFTy",
        "colab_type": "text"
      },
      "source": [
        "# Swarm Algorithm Initialization\n",
        "\n"
      ]
    },
    {
      "cell_type": "code",
      "metadata": {
        "id": "U1-fBnUWZjlG",
        "colab_type": "code",
        "outputId": "8054ab5c-f308-43f8-e065-a80465ec665d",
        "colab": {
          "base_uri": "https://localhost:8080/",
          "height": 366
        }
      },
      "source": [
        "import random\n",
        "\n",
        "popsize = 20\n",
        "\n",
        "Kval=64\n",
        "number_of_edge = G.number_of_edges()\n",
        "number_of_nodes = G.number_of_nodes()\n",
        "pop=[]\n",
        "\n",
        "class Particle:\n",
        "    def __init__(self, number_of_nodes):\n",
        "        self.X = np.array(list(range(1,number_of_nodes+1))) #X is from 1 to number of nodes. Numpy array\n",
        "        self.V = np.zeros(number_of_nodes)                         #V is number of nodes of 0s. Numpy array\n",
        "        \n",
        "def Reordering(X):\n",
        "    counter=1\n",
        "    x_copy = X\n",
        "    ordered_X={}\n",
        "    for i in range(0, len(X)):\n",
        "        if X[i] in ordered_X:\n",
        "          X[i] = ordered_X[X[i]]\n",
        "        else:\n",
        "          ordered_X[X[i]] = counter\n",
        "          X[i] = counter\n",
        "          counter+=1\n",
        "    return x_copy.astype(int)\n",
        "        \n",
        "def fitness(X):\n",
        "  result = {}\n",
        "  cnt = []\n",
        "  for i in range(number_of_nodes):\n",
        "    if X[i]-1 in result:\n",
        "      result[X[i]-1].add(i)\n",
        "    else:\n",
        "      result[X[i]-1] = set({X[i]-1})\n",
        "  return mod_score(result.values(),G)\n",
        "\n",
        "    \n",
        "def mod_score(communities,G):\n",
        "  total_sum = 0\n",
        "  m = len(G.edges())\n",
        "  for community in communities:\n",
        "    summation = len(G.subgraph(community).edges())\n",
        "    totaldegree=sum(n for _, n in G.degree(community)) \n",
        "    total_sum += ((summation/m)-(totaldegree/(2*m))**2)\n",
        "  return total_sum\n",
        "\n",
        "\n",
        "iter = 5\n",
        "best_particle_index=0\n",
        "Pbest=[]\n",
        "Pbest_Q=[]\n",
        "Gbest_Q=-np.inf\n",
        "\n",
        "\n",
        "for l in range(popsize):\n",
        "  pop.append(Particle(number_of_nodes))\n",
        "  for i in range(number_of_nodes):\n",
        "    pop[l].X[i] = random.randint(1,Kval)\n",
        "\n",
        "neighbor_list_dict = dict()\n",
        "for k in range(0, number_of_nodes):\n",
        "  neighbor_list_dict[k]=np.array(list(nx.classes.function.neighbors(G,k))) \n",
        "  \n",
        "for i in range(0, len(pop)):  \n",
        "  print(i)\n",
        "  for k in range(0, int(0.2*number_of_nodes)):\n",
        "      random_index=random.randint(0,number_of_nodes-1)\n",
        "      label=pop[i].X[random_index]\n",
        "      neighbor_list=neighbor_list_dict[random_index]\n",
        "      for neighbor in neighbor_list:\n",
        "         pop[i].X[neighbor]=label\n",
        "  pop[i].X = Reordering(pop[i].X)                    \n",
        "  Pbest.append(pop[i].X)                                                                  \n",
        "  Q=fitness(pop[i].X)\n",
        "  Pbest_Q.append(Q)\n",
        "  if(Q>Gbest_Q):                                                        #??no need to compare if all same\n",
        "      best_particle_index=i\n",
        "      Gbest_Q=Q\n",
        "Gbest=pop[best_particle_index].X\n",
        "print(\"Initilization Finished\")\n"
      ],
      "execution_count": 0,
      "outputs": [
        {
          "output_type": "stream",
          "text": [
            "0\n",
            "1\n",
            "2\n",
            "3\n",
            "4\n",
            "5\n",
            "6\n",
            "7\n",
            "8\n",
            "9\n",
            "10\n",
            "11\n",
            "12\n",
            "13\n",
            "14\n",
            "15\n",
            "16\n",
            "17\n",
            "18\n",
            "19\n",
            "Initilization Finished\n"
          ],
          "name": "stdout"
        }
      ]
    },
    {
      "cell_type": "markdown",
      "metadata": {
        "id": "LSuUCjggVkQV",
        "colab_type": "text"
      },
      "source": [
        "# Swarm Algorithm Main"
      ]
    },
    {
      "cell_type": "code",
      "metadata": {
        "id": "NiyykBMUYLE2",
        "colab_type": "code",
        "outputId": "50927bdc-b5ff-4fb1-e590-58dbebde33d8",
        "colab": {
          "base_uri": "https://localhost:8080/",
          "height": 550
        }
      },
      "source": [
        "from itertools import combinations\n",
        "import collections\n",
        "import time\n",
        "  \n",
        "def Substract(particle,Best):\n",
        "    result=np.empty(number_of_nodes).astype(int)\n",
        "    for k in range(0, number_of_nodes):\n",
        "        if Best[k] == particle.X[k]:\n",
        "            result[k] = 0\n",
        "        else:\n",
        "           result[k] = 1\n",
        "    return result\n",
        "\n",
        "def Addition(velocity1,velocity2):\n",
        "    result=((velocity1+velocity2)>=1).astype(int)\n",
        "    return result\n",
        "\n",
        "\n",
        "def Multiply(X,V):\n",
        "    result = np.empty(number_of_nodes)\n",
        "    num_degrees = collections.Counter()\n",
        "    num_edges = collections.Counter()\n",
        "    for i in range(number_of_nodes):\n",
        "      num_degrees[X[i]]+=G.degree(i)\n",
        "    for a,b in G.edges():\n",
        "      if X[a] == X[b]:\n",
        "        num_edges[X[a]]+=1\n",
        "    for i in range(0, number_of_nodes):\n",
        "        if V[i]==0:\n",
        "            result[i] = X[i]\n",
        "        else:\n",
        "            neighbor_list=neighbor_list_dict[i]\n",
        "            neighbor_size = neighbor_list.shape[0]\n",
        "            del_Q_Best=-np.inf\n",
        "            best_label=0\n",
        "            total_sum = num_edges[X[i]]/number_of_edge-(num_degrees[X[i]]/(2*number_of_edge))**2\n",
        "            changed = 0\n",
        "            for k in range(neighbor_size):\n",
        "               if X[k] == X[i]:\n",
        "                changed+=1\n",
        "            total_sum4 = (num_edges[X[i]] - changed)/number_of_edge-((num_degrees[X[i]]-G.degree(i))/(2*number_of_edge))**2\n",
        "            for k in range(0, neighbor_size):\n",
        "                #if i and neighbor_list k are same class, then the change would be zero\n",
        "                del_Q = 0\n",
        "                if X[i] != X[neighbor_list[k]]:\n",
        "                  changed = 0\n",
        "                  for j in range(neighbor_size):\n",
        "                    if X[neighbor_list[j]] == X[neighbor_list[k]]:\n",
        "                      changed+=1\n",
        "                  total_sum2 = num_edges[X[neighbor_list[k]]]/number_of_edge-(num_degrees[X[neighbor_list[k]]]/(2*number_of_edge))**2\n",
        "                  total_sum3 = (num_edges[X[neighbor_list[k]]] + changed)/number_of_edge-((num_degrees[X[neighbor_list[k]]]+G.degree(i))/(2*number_of_edge))**2\n",
        "                  del_Q=total_sum4+total_sum3-total_sum2-total_sum\n",
        "                if(del_Q>del_Q_Best):\n",
        "                  best_label=X[neighbor_list[k]]\n",
        "                  del_Q_Best=del_Q  \n",
        "            result[i]=best_label\n",
        "    return result.astype(int)\n",
        "\n",
        "t=0\n",
        "tmax=200\n",
        "omega=0.7298\n",
        "c1=1.4961\n",
        "c2=1.4961\n",
        "start = time.time()\n",
        "times=[]\n",
        "print(\"t               Ave.currQ                        FInal GbestQ \\n\")\n",
        "while t<tmax:\n",
        "    #print( '{}{}'.format(\"t=\", t))\n",
        "    print(t,end=\"        \")\n",
        "    count = 0\n",
        "    for i in range(0, len(pop)):\n",
        "            pop[i].V=Addition(c1*np.random.rand()*Substract(pop[i], Pbest[i])+c2*np.random.rand()*Substract(pop[i],Gbest),omega*pop[i].V)\n",
        "            pop[i].X = Multiply(pop[i].X,pop[i].V)\n",
        "            pop[i].X = Reordering(pop[i].X)\n",
        "            curr_Q=fitness(pop[i].X)\n",
        "            Pbest_Q_val=Pbest_Q[i]\n",
        "            count+=curr_Q\n",
        "            if(curr_Q>Pbest_Q_val):\n",
        "                Pbest[i]=pop[i].X\n",
        "                Pbest_Q[i]=curr_Q\n",
        "            if (Pbest_Q_val > Gbest_Q):     \n",
        "                Gbest=pop[i].X                                                                             \n",
        "                Gbest_Q=Pbest_Q_val\n",
        "    #print( '{}{}'.format(\"Ave.currQ: \", count/len(pop)))\n",
        "    print(count/len(pop),end=\"          \")\n",
        "    #print(Pbest_Q_val)\n",
        "    #print('{}{}'.format(\"GbestQ: \", Gbest_Q,end=\" \"))\n",
        "    print(Gbest_Q,end=\"\\n\")\n",
        "    #print({}{}'.format(\"Total number of comunity: of  \", Gbest_Qmax(Pbest[0]))\n",
        "    if((t+1)%25==0):\n",
        "      times.append(int((time.time()-start)))\n",
        "               \n",
        "    t+=1\n",
        "\n",
        "end = time.time()\n",
        "print(\"--FINISHED--\")\n",
        "print('{}{}'.format(\"FInal GbestQ: \", Gbest_Q))\n",
        "print('{}{}'.format(\"Total Execution Time:  \", end - start))\n",
        "print('{}{}'.format(\"Execution Time:  \", end - start))\n",
        "for i in range(len(times)):\n",
        "    print('{}{}'.format(str(25*(i+1))+\"     \", times[i]))\n"
      ],
      "execution_count": 0,
      "outputs": [
        {
          "output_type": "stream",
          "text": [
            "t               Ave.currQ                        FInal GbestQ \n",
            "\n",
            "0        0.2624536213402562          0.34004728843141807\n",
            "1        0.24896196944466054          0.34004728843141807\n",
            "2        0.24214297761470432          0.34004728843141807\n",
            "3        0.2514483970567446          0.34004728843141807\n",
            "4        0.2455510697891333          0.34004728843141807\n",
            "5        0.25500169841270093          0.34004728843141807\n",
            "6        0.25819757908194313          0.34004728843141807\n",
            "7        0.24885573843450043          0.34004728843141807\n",
            "8        0.2467961593862996          0.34004728843141807\n",
            "9        0.25195928382509036          0.34004728843141807\n",
            "10        0.25575690559596403          0.34004728843141807\n",
            "11        0.2593665128695325          0.34004728843141807\n",
            "12        0.262174662163602          0.34004728843141807\n",
            "13        0.2681548405026018          0.34004728843141807\n",
            "14        0.26631816810829345          0.34004728843141807\n",
            "15        0.2689466968350944          0.34004728843141807\n",
            "16        0.26967955909463104          0.34004728843141807\n",
            "17        0.2705571223872541          0.34004728843141807\n",
            "18        0.27528351184760913          0.34004728843141807\n",
            "19        0.27569476033344364          0.34004728843141807\n",
            "20        0.27545086706984584          0.34004728843141807\n",
            "21        0.2801672254199893          0.34004728843141807\n",
            "22        0.2803377423894021          0.34004728843141807\n",
            "23        0.28318936010487783          0.34004728843141807\n",
            "24        0.28126748579608596          0.34004728843141807\n",
            "--FINISHED--\n",
            "FInal GbestQ: 0.34004728843141807\n",
            "Total Execution Time:  304.6349813938141\n",
            "Execution Time:  304.6349813938141\n",
            "25     304\n"
          ],
          "name": "stdout"
        }
      ]
    },
    {
      "cell_type": "code",
      "metadata": {
        "id": "Cf1NkDxLW9So",
        "colab_type": "code",
        "outputId": "a5729420-d86d-4343-ca29-83ca7dae9227",
        "colab": {
          "base_uri": "https://localhost:8080/",
          "height": 34
        }
      },
      "source": [
        "print(Gbest_Q)\n"
      ],
      "execution_count": 0,
      "outputs": [
        {
          "output_type": "stream",
          "text": [
            "0.35562021313560377\n"
          ],
          "name": "stdout"
        }
      ]
    },
    {
      "cell_type": "code",
      "metadata": {
        "id": "wqhN5Zim6rQE",
        "colab_type": "code",
        "outputId": "a5a176f2-31e4-435c-eb75-d583455342b6",
        "colab": {
          "base_uri": "https://localhost:8080/",
          "height": 33
        }
      },
      "source": [
        "result = []\n",
        "for j in range(1,int(9987)+1):\n",
        "  result2 = set()\n",
        "  for i in range(9877):\n",
        "    if(Gbest[i]==j):\n",
        "      result2.add(i)\n",
        "  if(len(result2)>0):\n",
        "    result.append(result2)\n",
        "print(mod_score(result,G))"
      ],
      "execution_count": 0,
      "outputs": [
        {
          "output_type": "stream",
          "text": [
            "0.43394020568881975\n"
          ],
          "name": "stdout"
        }
      ]
    },
    {
      "cell_type": "code",
      "metadata": {
        "id": "UMR9QJyPmTBs",
        "colab_type": "code",
        "outputId": "f020e9c1-73be-4bba-8b22-f61163818755",
        "colab": {
          "base_uri": "https://localhost:8080/",
          "height": 34
        }
      },
      "source": [
        "while t<tmax:\n",
        "    #Gbest_Q=fitness(Gbest,number_of_nodes,number_of_edge)\n",
        "    for i in range(0, len(pop)):\n",
        "            \n",
        "            pop[i].V=Addition(c1*np.random.rand()*Substract(pop[i], Pbest[i], number_of_nodes)+c2*np.random.rand()*Substract(particle=pop[i], Best=Gbest, number_of_nodes=number_of_nodes),omega*pop[i].V)\n",
        "            pop[i].X=Multiply(pop[i].X,pop[i].V)\n",
        "            Reordering(pop[i].X, number_of_nodes)\n",
        "            curr_Q=fitness(pop[i].X, number_of_nodes, number_of_edge)\n",
        "            #if i==0:\n",
        "            # Pbest_Q=fitness(Pbest[i], number_of_nodes, number_of_edge)               #?? can be saved once @\n",
        "            Pbest_Q_val=Pbest_Q[i]\n",
        "            if(curr_Q>Pbest_Q_val):\n",
        "                Pbest[i]=pop[i].X\n",
        "                Pbest_Q[i]=curr_Q\n",
        "            if (Pbest_Q_val > Gbest_Q):     \n",
        "                Gbest=pop[i].X                                                                             #?? @\n",
        "                Gbest_Q=Pbest_Q_val\n",
        "                \n",
        "    t+=1\n",
        "    #print(t,end=\"\")\n",
        "    \n",
        "print(Gbest_Q)"
      ],
      "execution_count": 0,
      "outputs": [
        {
          "output_type": "stream",
          "text": [
            "1-0.21915500553840647\n"
          ],
          "name": "stdout"
        }
      ]
    },
    {
      "cell_type": "code",
      "metadata": {
        "id": "ViWm3g2txV62",
        "colab_type": "code",
        "outputId": "6f08d522-d0ea-466b-8608-36804ea655c2",
        "colab": {
          "base_uri": "https://localhost:8080/",
          "height": 54
        }
      },
      "source": [
        "print(Pbest_Q)"
      ],
      "execution_count": 0,
      "outputs": [
        {
          "output_type": "stream",
          "text": [
            "[-1.1096381626188755e-09, -1.1096381626188755e-09, -1.1096381626188755e-09, -1.1096381626188755e-09, -1.1096381626188755e-09, -1.1096381626188755e-09, -1.1096381626188755e-09, -1.1096381626188755e-09, -1.1096381626188755e-09, -1.1096381626188755e-09, -1.1096381626188755e-09, -1.1096381626188755e-09, -1.1096381626188755e-09, -1.1096381626188755e-09, -1.1096381626188755e-09, -1.1096381626188755e-09, -1.1096381626188755e-09, -1.1096381626188755e-09, -1.1096381626188755e-09, -1.1096381626188755e-09]\n"
          ],
          "name": "stdout"
        }
      ]
    },
    {
      "cell_type": "code",
      "metadata": {
        "id": "xEtZI6Lq6hnb",
        "colab_type": "code",
        "outputId": "9046d23b-5c86-4607-88e3-369315eb0a0f",
        "colab": {
          "base_uri": "https://localhost:8080/",
          "height": 34
        }
      },
      "source": [
        "adjacency_matrix[2,4]"
      ],
      "execution_count": 0,
      "outputs": [
        {
          "output_type": "execute_result",
          "data": {
            "text/plain": [
              "-1.0"
            ]
          },
          "metadata": {
            "tags": []
          },
          "execution_count": 11
        }
      ]
    }
  ]
}